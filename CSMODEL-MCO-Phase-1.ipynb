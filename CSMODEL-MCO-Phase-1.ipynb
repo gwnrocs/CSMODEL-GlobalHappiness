{
 "cells": [
  {
   "cell_type": "markdown",
   "id": "ef94e6ee",
   "metadata": {},
   "source": [
    "# **Global Happiness: Analyzing World Happiness Report Data**"
   ]
  },
  {
   "cell_type": "markdown",
   "id": "a47cf817",
   "metadata": {},
   "source": [
    "CSMODEL S13: Project Phase 1<br><br>LAPUZ, Mari Salvador<br>ROCO, Gwen Kathleen<br>SAMSON, Wesly<br>TABADERO, Audrea Arjaemi"
   ]
  },
  {
   "cell_type": "markdown",
   "id": "28f01382",
   "metadata": {},
   "source": [
    "##  **I. Dataset Description**"
   ]
  },
  {
   "cell_type": "markdown",
   "id": "a84b41f2",
   "metadata": {},
   "source": [
    "The **World Happiness Report** is a document released by the Sustainable Development Solutions Network, utilizing data from the **Gallup World Poll (GWP)**. These yearly reports assess the current global happiness status per country. Happiness rankings are determined each year using surveys from the Gallup World Poll. Respondents are asked to rate their own current lives on a scale from 0 to 10, where 0 is the worst possible life, and 10 is the best. These rankings are based on data collected over three years from nationally representative samples.\n",
    "\n",
    "Three datasets from the [World Happiness Report](https://www.kaggle.com/datasets/unsdsn/world-happiness?select=2017.csv), specifically data from the 2017, 2018 and 2019 reports, on Kaggle were used for our data analysis."
   ]
  },
  {
   "cell_type": "markdown",
   "id": "a35a8b42",
   "metadata": {},
   "source": [
    "The 2017 World Happiness dataset contains **155 observations** / rows and **12 variables** / columns. Each observation represents a country. Below are the descriptions of each variable within the 2017 datasets:\n",
    "\n",
    "- **`Country`** — Name of the Country \n",
    "- **`Happiness.Rank`** — Rank of a country based on its Happiness Score (1 - highest)\n",
    "- **`Happiness.Score`** — Metric where respondents of the yearly Gallup World Poll measure their happiness on a scale of 0 to 10 where 10 is the happiest\n",
    "- **`Whisker.high`** — Upper whisker of happiness scores\n",
    "- **`Whisker.low`** — Lower whisker of happiness scores\n",
    "\n",
    "The subsequent columns provide an estimation of how much each of the other variables – GDP, social support, life expectancy, freedom, generosity, and perceptions of corruption – plays a role in elevating life assessments in each country when compared to **Dystopia**. Dystopia is an imaginary country with values matching the lowest global averages for these six variables. Moreover, it is important to note that these variables do not directly affect the happiness score of each country but instead, may provide some explanation as to why certain countries rank higher / lower than others.\n",
    "\n",
    "- **`Economy..GDP.per.Capita.`** — Extent to which the GDP per Capita contributes in evaluating a country's Happiness Score\n",
    "\n",
    "**Family / Social support** is the national average of the binary responses (0 = no, 1 = yes) to the Gallup World Poll (GWP) question “If you were in trouble, do you have relatives or friends you can count on to help you whenever you need them, or not?”\n",
    "- **`Family`** — Extent to which the measure of having someone to rely on in times of trouble contributes in evaluating a country's Happiness Score\n",
    "\n",
    "**Health Life Expectancy** is taken from the World Health Organization (WHO) Global Health Observatory data repository.\n",
    "- **`Health..Life.Expectancy.`** — Extent to which the Health Life Expectancy contributes in evaluating a country's Happiness Score\n",
    "\n",
    "**Freedom** is taken from the national average of binary responses (0 = no, 1 = yes) to the GWP question “Are you satisfied or dissatisfied with your freedom to choose what you do with your life?”\n",
    "- **`Freedom`** — Extent to which the Freedom to make life choices contributes in evaluating a country's Happiness Score\n",
    "\n",
    "**Generosity** is the residual of regressing the national average of GWP responses (0 = no, 1 = yes) to the donation question “Have you donated money to a charity in the past month?” on log GDP per capita.\n",
    "- **`Generosity`** — Extent to which the Generosity contributes in evaluating a country's Happiness Score\n",
    "\n",
    "The **Perception of Corruption** is taken from the average of binary answers  (0 = no, 1 = yes) to two GWP questions: “Is corruption widespread throughout the government in this country or not?” and “Is corruption widespread within businesses in this country or not?\" Higher metrics are associated with higher perceptions of corruption.\n",
    "- **`Trust..Government.Corruption.`** — Extent to which Perception of Corruption contributes in evaluating a country's Happiness Score. \n",
    "\n",
    "The **Residual Value** describes parts that were not accounted for. This varies from one country to another, showing how the six factors sometimes explain more or less of the typical life assessments for 2014-2016.\n",
    "\n",
    "- **`Dystopia.Residual`** — Dystopia Happiness Score(1.85) + the Residual value"
   ]
  },
  {
   "cell_type": "markdown",
   "id": "82685652",
   "metadata": {},
   "source": [
    "The 2018 and 2019 World Happiness datasets contain **156 observations** / rows and **9 variables** / columns. Each observation represents a country. Below are the descriptions of each variable within the 2018 and 2019 datasets:\n",
    "\n",
    "- **`Overall rank`** — Rank of the country based on the Happiness Score\n",
    "- **`Country or region`** — Name of the Country or region the country belongs to\n",
    "- **`Score`** — Metric where respondents of the yearly Gallup World Poll measure their happiness on a scale of 0 to 10 where 10 is the happiest\n",
    "- **`GDP per capita`** — Extent to which the GDP per Capita contributes in evaluating a country's Happiness Score\n",
    "- **`Social Support`** — Extent to which the measure of having someone to rely on in times of trouble contributes in evaluating a country's Happiness Score\n",
    "- **`Healthy life expectancy`** — Extent to which the Health Life Expectancy contributes in evaluating a country's Happiness Score\n",
    "- **`Freedom to make life choices`** — Extent to which the Freedom to make life choices contributes in evaluating a country's Happiness Score\n",
    "- **`Generosity`** — Extent to which the Generosity contributes in evaluating a country's Happiness Score\n",
    "- **`Perceptions of corruption`** — Extent to which Perception of Corruption contributes in evaluating a country's Happiness Score"
   ]
  },
  {
   "cell_type": "markdown",
   "id": "fe028577",
   "metadata": {},
   "source": [
    "Using these datasets, we seek to explore the following exploratory data analysis questions:\n",
    "1. What are the top 3 countries with the highest and lowest happiness scores in the years 2017, 2018 and 2019?\n",
    "2. What are the Top 3 Countries with the highest and lowest GDP (Gross Domestic Product) Per Capita in the years 2017, 2018, and 2019?\n",
    "3. What are the Top 3 Countries with the highest and lowest Perceptions of Corruption in the years 2017, 2018, and 2019?\n",
    "4. What is the relationship between Happiness Score and GDP (Gross Domestic Product) Per Capita in the years 2017, 2018, and 2019?\n",
    "5. What is the relationship between Happiness Score and Perceptions of Corruption in the years 2017, 2018, and 2019?\n",
    "\n",
    "For this case study, the following variables will be used: \n",
    "- **`Country`** and **`Country or region`**\n",
    "- **`Happiness.Score`** and **`Score`**\n",
    "- **`Economy..GDP.per.Capita.`** and **`GDP per capita`**\n",
    "- **`Trust..Government.Corruption.`** and **`Perceptions of corruption`**\n",
    "\n",
    "Ultimately, we shall investigate whether there a significant difference in the strength of the relationship between the Happiness Score and GDP per Capita compared to the relationship between the Happiness Score and Perceptions of Corruption in the years 2017, 2018, and 2019. \n",
    "\n",
    "According to this [article](https://www.orfonline.org/expert-speak/the-unbearable-sadness-of-being-happy/#:~:text=The%20report%20is%20based%20on,in%20countries%20with%20large%20populations.), there may be some bias in the results of the World Happiness Report. It is important to note that some variables are based on a survey (GWP), and are quite qualitative. Moreover, the sample size of respondents for the survey is relatively small. It also fails to consider essential elements like job stability, upward social mobility, disparities in income, opportunities for education, and a wide range of healthcare metrics. This results in an inadequate and frequently incorrect portrayal of the factors that contribute to \"happiness,\" potentially causing biased outcomes that favor certain nations or groups. Thus, the results of this analysis are only limited to the dataset presented and may not be entirely representative of the overall global situation."
   ]
  },
  {
   "cell_type": "markdown",
   "id": "638a83d2",
   "metadata": {},
   "source": [
    "## **II. Data Cleaning**\n"
   ]
  },
  {
   "cell_type": "markdown",
   "id": "d4d07f71",
   "metadata": {},
   "source": [
    "### Importing Libraries"
   ]
  },
  {
   "cell_type": "code",
   "execution_count": 1,
   "id": "5262a71f",
   "metadata": {},
   "outputs": [],
   "source": [
    "import numpy as np\n",
    "import pandas as pd\n",
    "import matplotlib.pyplot as plt\n",
    "from scipy.stats import shapiro"
   ]
  },
  {
   "cell_type": "markdown",
   "id": "4ff7d7ad",
   "metadata": {},
   "source": [
    "### Reading and Loading the Datasets (2017 - 2019)"
   ]
  },
  {
   "cell_type": "code",
   "execution_count": 2,
   "id": "2e44ce46",
   "metadata": {},
   "outputs": [
    {
     "name": "stdout",
     "output_type": "stream",
     "text": [
      "<class 'pandas.core.frame.DataFrame'>\n",
      "RangeIndex: 155 entries, 0 to 154\n",
      "Data columns (total 12 columns):\n",
      " #   Column                         Non-Null Count  Dtype  \n",
      "---  ------                         --------------  -----  \n",
      " 0   Country                        155 non-null    object \n",
      " 1   Happiness.Rank                 155 non-null    int64  \n",
      " 2   Happiness.Score                155 non-null    float64\n",
      " 3   Whisker.high                   155 non-null    float64\n",
      " 4   Whisker.low                    155 non-null    float64\n",
      " 5   Economy..GDP.per.Capita.       155 non-null    float64\n",
      " 6   Family                         155 non-null    float64\n",
      " 7   Health..Life.Expectancy.       155 non-null    float64\n",
      " 8   Freedom                        155 non-null    float64\n",
      " 9   Generosity                     155 non-null    float64\n",
      " 10  Trust..Government.Corruption.  155 non-null    float64\n",
      " 11  Dystopia.Residual              155 non-null    float64\n",
      "dtypes: float64(10), int64(1), object(1)\n",
      "memory usage: 14.7+ KB\n"
     ]
    }
   ],
   "source": [
    "happiness17_df_orig = pd.read_csv(\"./datasets/2017.csv\")\n",
    "happiness17_df_orig.info()"
   ]
  },
  {
   "cell_type": "code",
   "execution_count": 3,
   "id": "c61c73d4",
   "metadata": {},
   "outputs": [
    {
     "name": "stdout",
     "output_type": "stream",
     "text": [
      "<class 'pandas.core.frame.DataFrame'>\n",
      "RangeIndex: 156 entries, 0 to 155\n",
      "Data columns (total 9 columns):\n",
      " #   Column                        Non-Null Count  Dtype  \n",
      "---  ------                        --------------  -----  \n",
      " 0   Overall rank                  156 non-null    int64  \n",
      " 1   Country or region             156 non-null    object \n",
      " 2   Score                         156 non-null    float64\n",
      " 3   GDP per capita                156 non-null    float64\n",
      " 4   Social support                156 non-null    float64\n",
      " 5   Healthy life expectancy       156 non-null    float64\n",
      " 6   Freedom to make life choices  156 non-null    float64\n",
      " 7   Generosity                    156 non-null    float64\n",
      " 8   Perceptions of corruption     155 non-null    float64\n",
      "dtypes: float64(7), int64(1), object(1)\n",
      "memory usage: 11.1+ KB\n"
     ]
    }
   ],
   "source": [
    "happiness18_df_orig = pd.read_csv(\"./datasets/2018.csv\")\n",
    "happiness18_df_orig.info()"
   ]
  },
  {
   "cell_type": "code",
   "execution_count": 4,
   "id": "50c2d36c",
   "metadata": {},
   "outputs": [
    {
     "name": "stdout",
     "output_type": "stream",
     "text": [
      "<class 'pandas.core.frame.DataFrame'>\n",
      "RangeIndex: 156 entries, 0 to 155\n",
      "Data columns (total 9 columns):\n",
      " #   Column                        Non-Null Count  Dtype  \n",
      "---  ------                        --------------  -----  \n",
      " 0   Overall rank                  156 non-null    int64  \n",
      " 1   Country or region             156 non-null    object \n",
      " 2   Score                         156 non-null    float64\n",
      " 3   GDP per capita                156 non-null    float64\n",
      " 4   Social support                156 non-null    float64\n",
      " 5   Healthy life expectancy       156 non-null    float64\n",
      " 6   Freedom to make life choices  156 non-null    float64\n",
      " 7   Generosity                    156 non-null    float64\n",
      " 8   Perceptions of corruption     156 non-null    float64\n",
      "dtypes: float64(7), int64(1), object(1)\n",
      "memory usage: 11.1+ KB\n"
     ]
    }
   ],
   "source": [
    "happiness19_df_orig = pd.read_csv(\"./datasets/2019.csv\")\n",
    "happiness19_df_orig.info()"
   ]
  },
  {
   "cell_type": "markdown",
   "id": "8c0845d7",
   "metadata": {},
   "source": [
    "### Initializing Duplicate Dataframes"
   ]
  },
  {
   "cell_type": "code",
   "execution_count": 5,
   "id": "449d4cc0",
   "metadata": {},
   "outputs": [],
   "source": [
    "happiness17_df = happiness17_df_orig.copy()\n",
    "happiness18_df = happiness18_df_orig.copy()\n",
    "happiness19_df = happiness19_df_orig.copy()"
   ]
  },
  {
   "cell_type": "markdown",
   "id": "c446e528",
   "metadata": {},
   "source": [
    "## **III. Data Preprocessing**"
   ]
  },
  {
   "cell_type": "markdown",
   "id": "327101ef",
   "metadata": {},
   "source": [
    "### Checking for Variable Name Consistency"
   ]
  },
  {
   "cell_type": "markdown",
   "id": "869a79e1",
   "metadata": {},
   "source": [
    "Change '**`Happiness Rank`**' to '**`Overall rank`**'"
   ]
  },
  {
   "cell_type": "code",
   "execution_count": 6,
   "id": "a259c849",
   "metadata": {},
   "outputs": [],
   "source": [
    "happiness17_df.rename(columns={'Happiness.Rank': 'Overall rank'}, inplace=True)\n",
    "happiness18_df.rename(columns={'Overall rank': 'Overall rank'}, inplace=True)\n",
    "happiness19_df.rename(columns={'Overall rank': 'Overall rank'}, inplace=True)"
   ]
  },
  {
   "cell_type": "markdown",
   "id": "6b3b1bba",
   "metadata": {},
   "source": [
    "Change '**`Score`**' to '**`Happiness Score`**'"
   ]
  },
  {
   "cell_type": "code",
   "execution_count": 7,
   "id": "0c4c07c0",
   "metadata": {},
   "outputs": [],
   "source": [
    "happiness17_df.rename(columns={'Happiness.Score': 'Happiness Score'}, inplace=True)\n",
    "happiness18_df.rename(columns={'Score': 'Happiness Score'}, inplace=True)\n",
    "happiness19_df.rename(columns={'Score': 'Happiness Score'}, inplace=True)"
   ]
  },
  {
   "cell_type": "markdown",
   "id": "9cf9923e",
   "metadata": {},
   "source": [
    "Change '**`Country or region`**' to '**`Country`**'"
   ]
  },
  {
   "cell_type": "code",
   "execution_count": 8,
   "id": "0ca843bc",
   "metadata": {},
   "outputs": [],
   "source": [
    "happiness18_df.rename(columns={'Country or region': 'Country'}, inplace=True)\n",
    "happiness19_df.rename(columns={'Country or region': 'Country'}, inplace=True)"
   ]
  },
  {
   "cell_type": "markdown",
   "id": "26b4b1a9",
   "metadata": {},
   "source": [
    "Change '**`Economy..GDP.per.Capita.`**' in 2017 dataset to '**`GDP per capita`**'"
   ]
  },
  {
   "cell_type": "code",
   "execution_count": 9,
   "id": "36191c60",
   "metadata": {},
   "outputs": [],
   "source": [
    "happiness17_df.rename(columns={'Economy..GDP.per.Capita.': 'GDP per capita'}, inplace=True)"
   ]
  },
  {
   "cell_type": "markdown",
   "id": "a21db28c",
   "metadata": {},
   "source": [
    "Change '**`Health..Life.Expectancy.`**' in 2017 dataset to '**`Healthy life expectancy`**'"
   ]
  },
  {
   "cell_type": "code",
   "execution_count": 10,
   "id": "bbcc1f2f",
   "metadata": {},
   "outputs": [],
   "source": [
    "happiness17_df.rename(columns={'Health..Life.Expectancy.': 'Healthy life expectancy'}, inplace=True)"
   ]
  },
  {
   "cell_type": "markdown",
   "id": "c142a231",
   "metadata": {},
   "source": [
    "Change '**`Trust..Government.Corruption.`**' in 2017 dataset to '**`Perceptions of corruption`**'"
   ]
  },
  {
   "cell_type": "code",
   "execution_count": 11,
   "id": "3777f130",
   "metadata": {},
   "outputs": [],
   "source": [
    "happiness17_df.rename(columns={'Trust..Government.Corruption.': 'Perceptions of corruption'}, inplace=True)"
   ]
  },
  {
   "cell_type": "markdown",
   "id": "cae8cd9d",
   "metadata": {},
   "source": [
    "Change '**`Freedom to make life choices`**' in 2018 and 2019 dataset to '**`Freedom`**'"
   ]
  },
  {
   "cell_type": "code",
   "execution_count": 12,
   "id": "8fa3306a",
   "metadata": {},
   "outputs": [],
   "source": [
    "happiness18_df.rename(columns={'Freedom to make life choices': 'Freedom'}, inplace=True)\n",
    "happiness19_df.rename(columns={'Freedom to make life choices': 'Freedom'}, inplace=True)"
   ]
  },
  {
   "cell_type": "markdown",
   "id": "42d1e37d",
   "metadata": {},
   "source": [
    "The updated datasets with fixed/consistent variable names are listed below:"
   ]
  },
  {
   "cell_type": "code",
   "execution_count": 13,
   "id": "8dfaae65",
   "metadata": {},
   "outputs": [
    {
     "name": "stdout",
     "output_type": "stream",
     "text": [
      "2017 dataset\n",
      " ['Country', 'Overall rank', 'Happiness Score', 'Whisker.high', 'Whisker.low', 'GDP per capita', 'Family', 'Healthy life expectancy', 'Freedom', 'Generosity', 'Perceptions of corruption', 'Dystopia.Residual'] \n",
      "\n",
      "2018 dataset\n",
      " ['Overall rank', 'Country', 'Happiness Score', 'GDP per capita', 'Social support', 'Healthy life expectancy', 'Freedom', 'Generosity', 'Perceptions of corruption'] \n",
      "\n",
      "2019 dataset\n",
      " ['Overall rank', 'Country', 'Happiness Score', 'GDP per capita', 'Social support', 'Healthy life expectancy', 'Freedom', 'Generosity', 'Perceptions of corruption'] \n",
      "\n"
     ]
    }
   ],
   "source": [
    "print(\"2017 dataset\\n\", list(happiness17_df.columns), \"\\n\")\n",
    "print(\"2018 dataset\\n\", list(happiness18_df.columns), \"\\n\")\n",
    "print(\"2019 dataset\\n\", list(happiness19_df.columns), \"\\n\")"
   ]
  },
  {
   "cell_type": "markdown",
   "id": "5e568384",
   "metadata": {},
   "source": [
    "### Checking for Multiple Representations in Each Year Dataset"
   ]
  },
  {
   "cell_type": "markdown",
   "id": "61b7342a",
   "metadata": {},
   "source": [
    "Check if all the countries in the **`2017 World Happiness Report`** dataset are unique."
   ]
  },
  {
   "cell_type": "code",
   "execution_count": 14,
   "id": "7dd191ea",
   "metadata": {},
   "outputs": [
    {
     "data": {
      "text/plain": [
       "155"
      ]
     },
     "execution_count": 14,
     "metadata": {},
     "output_type": "execute_result"
    }
   ],
   "source": [
    "happiness17_df['Country'].nunique()"
   ]
  },
  {
   "cell_type": "markdown",
   "id": "d9249fc0",
   "metadata": {},
   "source": [
    "Check if all the countries in the **`2018 World Happiness Report`** dataset are unique."
   ]
  },
  {
   "cell_type": "code",
   "execution_count": 15,
   "id": "5f64b4df",
   "metadata": {},
   "outputs": [
    {
     "data": {
      "text/plain": [
       "156"
      ]
     },
     "execution_count": 15,
     "metadata": {},
     "output_type": "execute_result"
    }
   ],
   "source": [
    "happiness18_df['Country'].nunique()"
   ]
  },
  {
   "cell_type": "markdown",
   "id": "796bff1a",
   "metadata": {},
   "source": [
    "Check if all the countries in the **`2019 World Happiness Report`** dataset are unique."
   ]
  },
  {
   "cell_type": "code",
   "execution_count": 16,
   "id": "2c21acc2",
   "metadata": {},
   "outputs": [
    {
     "data": {
      "text/plain": [
       "156"
      ]
     },
     "execution_count": 16,
     "metadata": {},
     "output_type": "execute_result"
    }
   ],
   "source": [
    "happiness19_df['Country'].nunique()"
   ]
  },
  {
   "cell_type": "markdown",
   "id": "4c790584",
   "metadata": {},
   "source": [
    "Based on our tests above, we can conclude that the **2017 dataset** contains **`155 countries`** while the **2018 and 2019 datasets** contains **`156 countries.`**"
   ]
  },
  {
   "cell_type": "markdown",
   "id": "a05f534a",
   "metadata": {},
   "source": [
    "### Checking for NaNs for Missing Values"
   ]
  },
  {
   "cell_type": "markdown",
   "id": "11acb879",
   "metadata": {},
   "source": [
    "**`Missing values`** in our datasets can have negative effects and may lead to more inaccurate statistical results. Handling the missing values will depend on our judgment on whether we drop the column that contains missing data or replace the missing data with the mean of the variable (if outliers or extreme values do not have significant impact on the mean)."
   ]
  },
  {
   "cell_type": "markdown",
   "id": "35b457c5",
   "metadata": {},
   "source": [
    "Check for missing values in **2017** dataset."
   ]
  },
  {
   "cell_type": "code",
   "execution_count": 17,
   "id": "22dfb088",
   "metadata": {},
   "outputs": [
    {
     "data": {
      "text/plain": [
       "Country                      False\n",
       "Overall rank                 False\n",
       "Happiness Score              False\n",
       "Whisker.high                 False\n",
       "Whisker.low                  False\n",
       "GDP per capita               False\n",
       "Family                       False\n",
       "Healthy life expectancy      False\n",
       "Freedom                      False\n",
       "Generosity                   False\n",
       "Perceptions of corruption    False\n",
       "Dystopia.Residual            False\n",
       "dtype: bool"
      ]
     },
     "execution_count": 17,
     "metadata": {},
     "output_type": "execute_result"
    }
   ],
   "source": [
    "happiness17_df.isnull().any()"
   ]
  },
  {
   "cell_type": "markdown",
   "id": "676e16c8",
   "metadata": {},
   "source": [
    "Check for missing values in **2018** dataset."
   ]
  },
  {
   "cell_type": "code",
   "execution_count": 18,
   "id": "01382352",
   "metadata": {},
   "outputs": [
    {
     "data": {
      "text/plain": [
       "Overall rank                 False\n",
       "Country                      False\n",
       "Happiness Score              False\n",
       "GDP per capita               False\n",
       "Social support               False\n",
       "Healthy life expectancy      False\n",
       "Freedom                      False\n",
       "Generosity                   False\n",
       "Perceptions of corruption     True\n",
       "dtype: bool"
      ]
     },
     "execution_count": 18,
     "metadata": {},
     "output_type": "execute_result"
    }
   ],
   "source": [
    "happiness18_df.isnull().any()"
   ]
  },
  {
   "cell_type": "markdown",
   "id": "0c84914a",
   "metadata": {},
   "source": [
    "Since the **2018** dataset has a column with missing value/s, we can check how many of the rows in the **`Perceptions of corruption`** column have missing values."
   ]
  },
  {
   "cell_type": "code",
   "execution_count": 19,
   "id": "385108f8",
   "metadata": {},
   "outputs": [
    {
     "data": {
      "text/plain": [
       "Overall rank                 0\n",
       "Country                      0\n",
       "Happiness Score              0\n",
       "GDP per capita               0\n",
       "Social support               0\n",
       "Healthy life expectancy      0\n",
       "Freedom                      0\n",
       "Generosity                   0\n",
       "Perceptions of corruption    1\n",
       "dtype: int64"
      ]
     },
     "execution_count": 19,
     "metadata": {},
     "output_type": "execute_result"
    }
   ],
   "source": [
    "happiness18_df.isnull().sum()"
   ]
  },
  {
   "cell_type": "markdown",
   "id": "fdcecf23",
   "metadata": {},
   "source": [
    "Check for missing values in **2019** dataset."
   ]
  },
  {
   "cell_type": "code",
   "execution_count": 20,
   "id": "3934531b",
   "metadata": {},
   "outputs": [
    {
     "data": {
      "text/plain": [
       "Overall rank                 False\n",
       "Country                      False\n",
       "Happiness Score              False\n",
       "GDP per capita               False\n",
       "Social support               False\n",
       "Healthy life expectancy      False\n",
       "Freedom                      False\n",
       "Generosity                   False\n",
       "Perceptions of corruption    False\n",
       "dtype: bool"
      ]
     },
     "execution_count": 20,
     "metadata": {},
     "output_type": "execute_result"
    }
   ],
   "source": [
    "happiness19_df.isnull().any()"
   ]
  },
  {
   "cell_type": "markdown",
   "id": "ea49146b",
   "metadata": {},
   "source": [
    "Based on our tests above, only the **2018** dataset has a column (**`Perceptions of corruption`**) that contains a missing value. We have two options in handling this scenario, we can either get the mean of the variable or drop the row with the missing value. We can check the histogram of the **`Perceptions of corruption`** to see if its outliers are significant enough."
   ]
  },
  {
   "cell_type": "code",
   "execution_count": 21,
   "id": "58958aee",
   "metadata": {},
   "outputs": [
    {
     "data": {
      "image/png": "[encoded data removed]",
      "text/plain": [
       "<Figure size 800x400 with 1 Axes>"
      ]
     },
     "metadata": {},
     "output_type": "display_data"
    }
   ],
   "source": [
    "happiness18_df.hist(\"Perceptions of corruption\", bins=50, histtype='step', fill=True, color='skyblue', figsize=(8, 4))\n",
    "plt.axvline(happiness18_df['Perceptions of corruption'].mean(), color='black', linestyle='dashed', linewidth=1, label='Mean')\n",
    "plt.axvline(happiness18_df['Perceptions of corruption'].median(), color='red', linestyle='dashed', linewidth=1, label='Median')\n",
    "\n",
    "plt.title(\"2018 Perceptions of corruption Distribution\")\n",
    "plt.xlabel(\"Happiness Score\")\n",
    "plt.ylabel(\"Frequency\")\n",
    "plt.show()"
   ]
  },
  {
   "cell_type": "markdown",
   "id": "5ddd83b0",
   "metadata": {},
   "source": [
    "Since the **`Perceptions of corruption`** column has a positive skew distribution with the mean being greater than the median, this type of distribution signifies that its outliers/extreme values have a significant impact on the mean. Therefore, it would be better to drop the row with the missing value instead of calculating the mean of the whole column in place of the missing value."
   ]
  },
  {
   "cell_type": "code",
   "execution_count": 22,
   "id": "7259ff83",
   "metadata": {},
   "outputs": [],
   "source": [
    "index = happiness18_df[happiness18_df['Perceptions of corruption'].isnull()].index\n",
    "happiness18_df.drop(index, inplace=True)"
   ]
  },
  {
   "cell_type": "code",
   "execution_count": 23,
   "id": "32af7fbd",
   "metadata": {},
   "outputs": [
    {
     "data": {
      "text/plain": [
       "Overall rank                 False\n",
       "Country                      False\n",
       "Happiness Score              False\n",
       "GDP per capita               False\n",
       "Social support               False\n",
       "Healthy life expectancy      False\n",
       "Freedom                      False\n",
       "Generosity                   False\n",
       "Perceptions of corruption    False\n",
       "dtype: bool"
      ]
     },
     "execution_count": 23,
     "metadata": {},
     "output_type": "execute_result"
    }
   ],
   "source": [
    "happiness18_df.isnull().any()"
   ]
  },
  {
   "cell_type": "markdown",
   "id": "b513b9cd",
   "metadata": {},
   "source": [
    "We have finally removed the row with the missing value in the **`Perceptions of corruption`** column in the **2018** dataset."
   ]
  },
  {
   "cell_type": "markdown",
   "id": "f1a2e4e5",
   "metadata": {},
   "source": [
    "### Checking for Inconsistent Countries Across the Datasets"
   ]
  },
  {
   "cell_type": "markdown",
   "id": "e31fdbf2",
   "metadata": {},
   "source": [
    "#### 2017 and 2018 datasets"
   ]
  },
  {
   "cell_type": "code",
   "execution_count": 24,
   "id": "f0970e9b",
   "metadata": {},
   "outputs": [
    {
     "data": {
      "text/plain": [
       "5                   Hong Kong\n",
       "7     Hong Kong S.A.R., China\n",
       "4                        Laos\n",
       "1                North Cyprus\n",
       "2             Northern Cyprus\n",
       "0                      Taiwan\n",
       "3    Taiwan Province of China\n",
       "8           Trinidad & Tobago\n",
       "6         Trinidad and Tobago\n",
       "9        United Arab Emirates\n",
       "dtype: object"
      ]
     },
     "execution_count": 24,
     "metadata": {},
     "output_type": "execute_result"
    }
   ],
   "source": [
    "# convert 'Country' columns to sets\n",
    "happiness17_df_set = set(happiness17_df['Country'])\n",
    "happiness18_df_set = set(happiness18_df['Country'])\n",
    "\n",
    "# compute the symmetric difference \n",
    "symmetric_diff = happiness17_df_set.symmetric_difference(happiness18_df_set)\n",
    "\n",
    "# convert back to Pandas Series\n",
    "symmetric_diff_series_17_18 = pd.Series(list(symmetric_diff)).sort_values()\n",
    "\n",
    "symmetric_diff_series_17_18"
   ]
  },
  {
   "cell_type": "markdown",
   "id": "ce3d0112",
   "metadata": {},
   "source": [
    "#### 2017 and 2019 datasets"
   ]
  },
  {
   "cell_type": "code",
   "execution_count": 25,
   "id": "09ddd204",
   "metadata": {},
   "outputs": [
    {
     "data": {
      "text/plain": [
       "16                      Angola\n",
       "0                       Belize\n",
       "12                     Comoros\n",
       "14                      Gambia\n",
       "10                   Hong Kong\n",
       "13     Hong Kong S.A.R., China\n",
       "7                         Laos\n",
       "8                    Macedonia\n",
       "2                 North Cyprus\n",
       "9              North Macedonia\n",
       "4              Northern Cyprus\n",
       "5                        Sudan\n",
       "3                    Swaziland\n",
       "1                       Taiwan\n",
       "6     Taiwan Province of China\n",
       "15           Trinidad & Tobago\n",
       "11         Trinidad and Tobago\n",
       "dtype: object"
      ]
     },
     "execution_count": 25,
     "metadata": {},
     "output_type": "execute_result"
    }
   ],
   "source": [
    "# convert 'Country' columns to sets\n",
    "happiness17_df_set = set(happiness17_df['Country'])\n",
    "happiness19_df_set = set(happiness19_df['Country'])\n",
    "\n",
    "# compute the symmetric difference \n",
    "symmetric_diff = happiness17_df_set.symmetric_difference(happiness19_df_set)\n",
    "\n",
    "# convert back to Pandas Series\n",
    "symmetric_diff_series_17_19 = pd.Series(list(symmetric_diff)).sort_values()\n",
    "\n",
    "\n",
    "symmetric_diff_series_17_19\n"
   ]
  },
  {
   "cell_type": "markdown",
   "id": "3c63047f",
   "metadata": {},
   "source": [
    "#### 2018 and 2019 datasets"
   ]
  },
  {
   "cell_type": "code",
   "execution_count": 26,
   "id": "a414603b",
   "metadata": {},
   "outputs": [
    {
     "data": {
      "text/plain": [
       "7                  Angola\n",
       "0                  Belize\n",
       "5                 Comoros\n",
       "6                  Gambia\n",
       "3               Macedonia\n",
       "4         North Macedonia\n",
       "2                   Sudan\n",
       "1               Swaziland\n",
       "8    United Arab Emirates\n",
       "dtype: object"
      ]
     },
     "execution_count": 26,
     "metadata": {},
     "output_type": "execute_result"
    }
   ],
   "source": [
    "# convert 'Country' columns to sets\n",
    "happiness18_df_set = set(happiness18_df['Country'])\n",
    "happiness19_df_set = set(happiness19_df['Country'])\n",
    "\n",
    "# compute the symmetric difference \n",
    "symmetric_diff = happiness18_df_set.symmetric_difference(happiness19_df_set)\n",
    "\n",
    "# convert back to Pandas Series\n",
    "symmetric_diff_series_18_19 = pd.Series(list(symmetric_diff)).sort_values()\n",
    "\n",
    "\n",
    "symmetric_diff_series_18_19\n"
   ]
  },
  {
   "cell_type": "markdown",
   "id": "72f3011b",
   "metadata": {},
   "source": [
    "#### Appending all resulting values from symmetric difference"
   ]
  },
  {
   "cell_type": "code",
   "execution_count": 27,
   "id": "c9df888f",
   "metadata": {},
   "outputs": [
    {
     "name": "stdout",
     "output_type": "stream",
     "text": [
      "5                    Hong Kong\n",
      "7      Hong Kong S.A.R., China\n",
      "4                         Laos\n",
      "1                 North Cyprus\n",
      "2              Northern Cyprus\n",
      "0                       Taiwan\n",
      "3     Taiwan Province of China\n",
      "8            Trinidad & Tobago\n",
      "6          Trinidad and Tobago\n",
      "9         United Arab Emirates\n",
      "16                      Angola\n",
      "0                       Belize\n",
      "12                     Comoros\n",
      "14                      Gambia\n",
      "8                    Macedonia\n",
      "9              North Macedonia\n",
      "5                        Sudan\n",
      "3                    Swaziland\n",
      "dtype: object\n"
     ]
    }
   ],
   "source": [
    "appended_symmetric_diff = pd.concat([symmetric_diff_series_17_18, symmetric_diff_series_17_19, symmetric_diff_series_18_19]).drop_duplicates()\n",
    "\n",
    "print(appended_symmetric_diff)"
   ]
  },
  {
   "cell_type": "markdown",
   "id": "21123b43",
   "metadata": {},
   "source": [
    "Across the datasets, there are multiple representations that refer to the same country. The list of the multiple representations are the following:"
   ]
  },
  {
   "cell_type": "markdown",
   "id": "6088396b",
   "metadata": {},
   "source": [
    "- **`Hong Kong`** and **`Hong Kong S.A.R., China`**"
   ]
  },
  {
   "cell_type": "markdown",
   "id": "03c7ed0a",
   "metadata": {},
   "source": [
    "- **`North Cyprus`** and **`Northern Cyprus`**"
   ]
  },
  {
   "cell_type": "markdown",
   "id": "89eb1c2a",
   "metadata": {},
   "source": [
    "- **`Taiwan`** and **`Taiwan Province of China`**"
   ]
  },
  {
   "cell_type": "markdown",
   "id": "2431b0cb",
   "metadata": {},
   "source": [
    "- **`Trinidad & Tobago`** and **`Trinidad and Tobago`**"
   ]
  },
  {
   "cell_type": "markdown",
   "id": "f595d5ce",
   "metadata": {},
   "source": [
    "- **`Macedonia`** and **`North Macedonia`**"
   ]
  },
  {
   "cell_type": "code",
   "execution_count": 28,
   "id": "89c21396",
   "metadata": {},
   "outputs": [],
   "source": [
    "happiness17_df['Country'] = happiness17_df['Country'].replace({'Hong Kong S.A.R., China': 'Hong Kong', 'North Cyprus': 'Northern Cyprus', 'Taiwan Province of China' : 'Taiwan', 'Trinidad & Tobago': 'Trinidad and Tobago', 'Macedonia': 'North Macedonia'})\n",
    "happiness18_df['Country'] = happiness18_df['Country'].replace({'Hong Kong S.A.R., China': 'Hong Kong', 'North Cyprus': 'Northern Cyprus', 'Taiwan Province of China' : 'Taiwan', 'Trinidad & Tobago': 'Trinidad and Tobago', 'Macedonia': 'North Macedonia'})\n",
    "happiness19_df['Country'] = happiness19_df['Country'].replace({'Hong Kong S.A.R., China': 'Hong Kong', 'North Cyprus': 'Northern Cyprus', 'Taiwan Province of China' : 'Taiwan', 'Trinidad & Tobago': 'Trinidad and Tobago', 'Macedonia': 'North Macedonia'})"
   ]
  },
  {
   "cell_type": "markdown",
   "id": "aae431be",
   "metadata": {},
   "source": [
    "Test to see if multiple representations still exist on the datasets."
   ]
  },
  {
   "cell_type": "code",
   "execution_count": 29,
   "id": "90ced4ca",
   "metadata": {},
   "outputs": [
    {
     "data": {
      "text/plain": [
       "0                    Laos\n",
       "1    United Arab Emirates\n",
       "dtype: object"
      ]
     },
     "execution_count": 29,
     "metadata": {},
     "output_type": "execute_result"
    }
   ],
   "source": [
    "happiness17_df_set = set(happiness17_df['Country'])\n",
    "happiness18_df_set = set(happiness18_df['Country'])\n",
    "\n",
    "symmetric_diff = happiness17_df_set.symmetric_difference(happiness18_df_set)\n",
    "\n",
    "symmetric_diff_series_17_18 = pd.Series(list(symmetric_diff)).sort_values()\n",
    "\n",
    "\n",
    "symmetric_diff_series_17_18"
   ]
  },
  {
   "cell_type": "code",
   "execution_count": 30,
   "id": "4452ce70",
   "metadata": {},
   "outputs": [
    {
     "data": {
      "text/plain": [
       "6       Angola\n",
       "0       Belize\n",
       "4      Comoros\n",
       "5       Gambia\n",
       "3         Laos\n",
       "2        Sudan\n",
       "1    Swaziland\n",
       "dtype: object"
      ]
     },
     "execution_count": 30,
     "metadata": {},
     "output_type": "execute_result"
    }
   ],
   "source": [
    "happiness17_df_set = set(happiness17_df['Country'])\n",
    "happiness19_df_set = set(happiness19_df['Country'])\n",
    "\n",
    "symmetric_diff = happiness17_df_set.symmetric_difference(happiness19_df_set)\n",
    "\n",
    "symmetric_diff_series_17_19 = pd.Series(list(symmetric_diff)).sort_values()\n",
    "\n",
    "\n",
    "symmetric_diff_series_17_19"
   ]
  },
  {
   "cell_type": "code",
   "execution_count": 31,
   "id": "e238be65",
   "metadata": {},
   "outputs": [
    {
     "data": {
      "text/plain": [
       "5                  Angola\n",
       "0                  Belize\n",
       "3                 Comoros\n",
       "4                  Gambia\n",
       "2                   Sudan\n",
       "1               Swaziland\n",
       "6    United Arab Emirates\n",
       "dtype: object"
      ]
     },
     "execution_count": 31,
     "metadata": {},
     "output_type": "execute_result"
    }
   ],
   "source": [
    "happiness18_df_set = set(happiness18_df['Country'])\n",
    "happiness19_df_set = set(happiness19_df['Country'])\n",
    "\n",
    "symmetric_diff = happiness18_df_set.symmetric_difference(happiness19_df_set)\n",
    "\n",
    "symmetric_diff_series_18_19 = pd.Series(list(symmetric_diff)).sort_values()\n",
    "\n",
    "\n",
    "symmetric_diff_series_18_19"
   ]
  },
  {
   "cell_type": "code",
   "execution_count": 32,
   "id": "fdaaa717",
   "metadata": {},
   "outputs": [
    {
     "name": "stdout",
     "output_type": "stream",
     "text": [
      "0                    Laos\n",
      "1    United Arab Emirates\n",
      "6                  Angola\n",
      "0                  Belize\n",
      "4                 Comoros\n",
      "5                  Gambia\n",
      "2                   Sudan\n",
      "1               Swaziland\n",
      "dtype: object\n"
     ]
    }
   ],
   "source": [
    "appended_symmetric_diff = pd.concat([symmetric_diff_series_17_18, symmetric_diff_series_17_19, symmetric_diff_series_18_19]).drop_duplicates()\n",
    "\n",
    "print(appended_symmetric_diff)"
   ]
  },
  {
   "cell_type": "markdown",
   "id": "b75ac6b6",
   "metadata": {},
   "source": [
    "We now have removed the countries with multiple representations. Since not all of the datasets have these countries, it would be best to remove them to ensure that all datasets have the same number of countries/observations for a more objective statistical analysis."
   ]
  },
  {
   "cell_type": "code",
   "execution_count": 33,
   "id": "19f40b37",
   "metadata": {},
   "outputs": [
    {
     "data": {
      "text/plain": [
       "0"
      ]
     },
     "execution_count": 33,
     "metadata": {},
     "output_type": "execute_result"
    }
   ],
   "source": [
    "happiness17_df = happiness17_df[~happiness17_df['Country'].isin(appended_symmetric_diff)]\n",
    "happiness17_df['Country'].isin(appended_symmetric_diff).sum()"
   ]
  },
  {
   "cell_type": "code",
   "execution_count": 34,
   "id": "d50dfc70",
   "metadata": {},
   "outputs": [
    {
     "data": {
      "text/plain": [
       "0"
      ]
     },
     "execution_count": 34,
     "metadata": {},
     "output_type": "execute_result"
    }
   ],
   "source": [
    "happiness18_df = happiness18_df[~happiness18_df['Country'].isin(appended_symmetric_diff)]\n",
    "happiness18_df['Country'].isin(appended_symmetric_diff).sum()"
   ]
  },
  {
   "cell_type": "code",
   "execution_count": 35,
   "id": "c3451004",
   "metadata": {},
   "outputs": [
    {
     "data": {
      "text/plain": [
       "0"
      ]
     },
     "execution_count": 35,
     "metadata": {},
     "output_type": "execute_result"
    }
   ],
   "source": [
    "happiness19_df = happiness19_df[~happiness19_df['Country'].isin(appended_symmetric_diff)]\n",
    "happiness19_df['Country'].isin(appended_symmetric_diff).sum()"
   ]
  },
  {
   "cell_type": "markdown",
   "id": "687fb657",
   "metadata": {},
   "source": [
    "To check if the datasets have the same number of countries/observations, we can use the shape method."
   ]
  },
  {
   "cell_type": "code",
   "execution_count": 36,
   "id": "bcb4027c",
   "metadata": {},
   "outputs": [
    {
     "name": "stdout",
     "output_type": "stream",
     "text": [
      "No. of Countries in 2017 Dataset: 151\n",
      "No. of Countries in 2018 Dataset: 151\n",
      "No. of Countries in 2019 Dataset: 151\n"
     ]
    }
   ],
   "source": [
    "print(\"No. of Countries in 2017 Dataset:\", happiness17_df.shape[0])\n",
    "print(\"No. of Countries in 2018 Dataset:\", happiness18_df.shape[0])\n",
    "print(\"No. of Countries in 2019 Dataset:\", happiness19_df.shape[0])"
   ]
  },
  {
   "cell_type": "markdown",
   "id": "7e1369fe",
   "metadata": {},
   "source": [
    "### Checking for Duplicates"
   ]
  },
  {
   "cell_type": "markdown",
   "id": "87f7e16f",
   "metadata": {},
   "source": [
    "Since we now have the same number of countries/observations across all the datasets, we can also easily perform checking for duplicates so that our exploratory data analysis will not be significantly affected."
   ]
  },
  {
   "cell_type": "code",
   "execution_count": 37,
   "id": "9289783b",
   "metadata": {},
   "outputs": [
    {
     "name": "stdout",
     "output_type": "stream",
     "text": [
      "2017 Dataset has duplicates: False\n",
      "2018 Dataset has duplicates: False\n",
      "2019 Dataset has duplicates: False\n"
     ]
    }
   ],
   "source": [
    "print(\"2017 Dataset has duplicates:\", happiness17_df.duplicated().any())\n",
    "print(\"2018 Dataset has duplicates:\", happiness18_df.duplicated().any())\n",
    "print(\"2019 Dataset has duplicates:\", happiness19_df.duplicated().any())"
   ]
  },
  {
   "cell_type": "markdown",
   "id": "b1c89ef9",
   "metadata": {},
   "source": [
    "Since there are no duplicates, we don't need to further drop or modify observations."
   ]
  },
  {
   "cell_type": "markdown",
   "id": "3d3a4ab8",
   "metadata": {},
   "source": [
    "## **IV. Exploratory Data Analysis**"
   ]
  },
  {
   "cell_type": "markdown",
   "id": "47e164bb-95b6-48c1-8ca2-aa900200637a",
   "metadata": {},
   "source": [
    "### **1. What are the top 3 countries with the highest and lowest happiness scores in the years 2017, 2018 and 2019?**\n",
    "\n",
    "The first exploratory question aims to identify which countries have the highest and lowest happiness scores.\n",
    "\n",
    "The dataset contains country names stored as strings in the **`Country`** column, and **`Happiness Scores`**, represented as floating-point numbers, are found in the **Happiness Score** column.\n",
    "\n",
    "We employed histograms to examine how frequently countries appear with various happiness scores and their distribution.\n",
    "\n",
    "Since the dataset is pre-sorted based on **Happiness Score** in ascending order, we can conveniently **head** and **tail** functions to examine the top 3 and bottom 3 countries with the highest and lowest happiness score for each year."
   ]
  },
  {
   "cell_type": "code",
   "execution_count": 38,
   "id": "7b68af3e-5a06-453f-9473-c167ad09422d",
   "metadata": {},
   "outputs": [],
   "source": [
    "col1_eda = [\"Happiness Rank\", \"Country\", \"Happiness Score\"]\n",
    "nbins = 30"
   ]
  },
  {
   "cell_type": "markdown",
   "id": "2f97d2f9-15d8-4a73-bb24-da43cc60ac39",
   "metadata": {},
   "source": [
    "#### **a. 2017**"
   ]
  },
  {
   "cell_type": "code",
   "execution_count": 39,
   "id": "17b3191e-c14c-4106-96eb-8a231a6bb08d",
   "metadata": {},
   "outputs": [
    {
     "data": {
      "image/png": "[encoded data removed]",
      "text/plain": [
       "<Figure size 800x400 with 1 Axes>"
      ]
     },
     "metadata": {},
     "output_type": "display_data"
    }
   ],
   "source": [
    "column_name = 'Happiness Score'\n",
    "happiness17_df.hist(column_name, bins=nbins, edgecolor='w', figsize=(8, 4))\n",
    "plt.axvline(happiness17_df[column_name].mean(), color='k', linestyle='dashed', linewidth=1, label='Mean')\n",
    "plt.axvline(happiness17_df[column_name].median(), color='r', linestyle='dashed', linewidth=1, label='Median')\n",
    "\n",
    "plt.title(\"Distribution of Happiness Scores in 2017\")\n",
    "plt.xlabel(\"Happiness Score\")\n",
    "plt.ylabel(\"Frequency\")\n",
    "plt.legend()\n",
    "plt.show()"
   ]
  },
  {
   "cell_type": "code",
   "execution_count": 40,
   "id": "4d5f7adf-f166-4cda-9935-afa3a93d6439",
   "metadata": {},
   "outputs": [
    {
     "data": {
      "text/html": [
       "<div>\n",
       "<style scoped>\n",
       "    .dataframe tbody tr th:only-of-type {\n",
       "        vertical-align: middle;\n",
       "    }\n",
       "\n",
       "    .dataframe tbody tr th {\n",
       "        vertical-align: top;\n",
       "    }\n",
       "\n",
       "    .dataframe thead th {\n",
       "        text-align: right;\n",
       "    }\n",
       "</style>\n",
       "<table border=\"1\" class=\"dataframe\">\n",
       "  <thead>\n",
       "    <tr style=\"text-align: right;\">\n",
       "      <th></th>\n",
       "      <th>Happiness Score</th>\n",
       "    </tr>\n",
       "  </thead>\n",
       "  <tbody>\n",
       "    <tr>\n",
       "      <th>mean</th>\n",
       "      <td>5.359834</td>\n",
       "    </tr>\n",
       "    <tr>\n",
       "      <th>median</th>\n",
       "      <td>5.279000</td>\n",
       "    </tr>\n",
       "  </tbody>\n",
       "</table>\n",
       "</div>"
      ],
      "text/plain": [
       "        Happiness Score\n",
       "mean           5.359834\n",
       "median         5.279000"
      ]
     },
     "execution_count": 40,
     "metadata": {},
     "output_type": "execute_result"
    }
   ],
   "source": [
    "happiness17_df.agg({\"Happiness Score\": [\"mean\", \"median\"]})"
   ]
  },
  {
   "cell_type": "code",
   "execution_count": 41,
   "id": "40e0e427-0b9a-404e-9d5e-d8530e0988b2",
   "metadata": {},
   "outputs": [
    {
     "name": "stdout",
     "output_type": "stream",
     "text": [
      "Shapiro-Wilk Test Statistic: 0.9837780594825745\n",
      "P-value: 0.07303144037723541\n",
      "The data follows a normal distribution.\n"
     ]
    }
   ],
   "source": [
    "happiness_scores = happiness17_df['Happiness Score']\n",
    "\n",
    "stat, p = shapiro(happiness_scores)\n",
    "\n",
    "print(\"Shapiro-Wilk Test Statistic:\", stat)\n",
    "print(\"P-value:\", p)\n",
    "\n",
    "alpha = 0.05  \n",
    "if p > alpha:\n",
    "    print(\"The data follows a normal distribution.\")\n",
    "else:\n",
    "    print(\"The data does not follow a normal distribution.\")\n"
   ]
  },
  {
   "cell_type": "markdown",
   "id": "6f8d7a7c-e1a7-43bf-9060-6e3123b00631",
   "metadata": {},
   "source": [
    "The provided histogram illustrates the distribution of Happiness Scores for the year 2017. This histogram serves as a visual representation to depict and interpret the data related to happiness scores by displaying how many countries are found within each of the thirty bins. To be precise, the average Happiness Score for all countries is 5.36, with a median of 5.28. In addition, the Shapiro-Wilk Test displays a p-value of 0.07 which displays normal data. Based on the histogram and Shapiro-Wilk test, the distribution displays a normal distribution.\n"
   ]
  },
  {
   "cell_type": "code",
   "execution_count": 42,
   "id": "3105dc46-a4af-43d7-831c-e987aa6b1fe1",
   "metadata": {},
   "outputs": [
    {
     "data": {
      "text/html": [
       "<div>\n",
       "<style scoped>\n",
       "    .dataframe tbody tr th:only-of-type {\n",
       "        vertical-align: middle;\n",
       "    }\n",
       "\n",
       "    .dataframe tbody tr th {\n",
       "        vertical-align: top;\n",
       "    }\n",
       "\n",
       "    .dataframe thead th {\n",
       "        text-align: right;\n",
       "    }\n",
       "</style>\n",
       "<table border=\"1\" class=\"dataframe\">\n",
       "  <thead>\n",
       "    <tr style=\"text-align: right;\">\n",
       "      <th></th>\n",
       "      <th>Overall rank</th>\n",
       "      <th>Country</th>\n",
       "      <th>Happiness Score</th>\n",
       "    </tr>\n",
       "  </thead>\n",
       "  <tbody>\n",
       "    <tr>\n",
       "      <th>0</th>\n",
       "      <td>1</td>\n",
       "      <td>Norway</td>\n",
       "      <td>7.537</td>\n",
       "    </tr>\n",
       "    <tr>\n",
       "      <th>1</th>\n",
       "      <td>2</td>\n",
       "      <td>Denmark</td>\n",
       "      <td>7.522</td>\n",
       "    </tr>\n",
       "    <tr>\n",
       "      <th>2</th>\n",
       "      <td>3</td>\n",
       "      <td>Iceland</td>\n",
       "      <td>7.504</td>\n",
       "    </tr>\n",
       "  </tbody>\n",
       "</table>\n",
       "</div>"
      ],
      "text/plain": [
       "   Overall rank  Country  Happiness Score\n",
       "0             1   Norway            7.537\n",
       "1             2  Denmark            7.522\n",
       "2             3  Iceland            7.504"
      ]
     },
     "execution_count": 42,
     "metadata": {},
     "output_type": "execute_result"
    }
   ],
   "source": [
    "happiness17_df[['Overall rank', 'Country', 'Happiness Score']].head(3)\n",
    "\n"
   ]
  },
  {
   "cell_type": "markdown",
   "id": "119c87ee-c71d-4819-8d5e-044eabb6918d",
   "metadata": {},
   "source": [
    "In 2017, the countries that ranked highest in terms of happiness score, listed from the most to the least happy, include Norway, Denmark, Iceland."
   ]
  },
  {
   "cell_type": "code",
   "execution_count": 43,
   "id": "ef274788-0f9c-49bb-9cf7-b7f4687d3772",
   "metadata": {
    "scrolled": true
   },
   "outputs": [
    {
     "data": {
      "text/html": [
       "<div>\n",
       "<style scoped>\n",
       "    .dataframe tbody tr th:only-of-type {\n",
       "        vertical-align: middle;\n",
       "    }\n",
       "\n",
       "    .dataframe tbody tr th {\n",
       "        vertical-align: top;\n",
       "    }\n",
       "\n",
       "    .dataframe thead th {\n",
       "        text-align: right;\n",
       "    }\n",
       "</style>\n",
       "<table border=\"1\" class=\"dataframe\">\n",
       "  <thead>\n",
       "    <tr style=\"text-align: right;\">\n",
       "      <th></th>\n",
       "      <th>Overall rank</th>\n",
       "      <th>Country</th>\n",
       "      <th>Happiness Score</th>\n",
       "    </tr>\n",
       "  </thead>\n",
       "  <tbody>\n",
       "    <tr>\n",
       "      <th>154</th>\n",
       "      <td>155</td>\n",
       "      <td>Central African Republic</td>\n",
       "      <td>2.693</td>\n",
       "    </tr>\n",
       "    <tr>\n",
       "      <th>153</th>\n",
       "      <td>154</td>\n",
       "      <td>Burundi</td>\n",
       "      <td>2.905</td>\n",
       "    </tr>\n",
       "    <tr>\n",
       "      <th>152</th>\n",
       "      <td>153</td>\n",
       "      <td>Tanzania</td>\n",
       "      <td>3.349</td>\n",
       "    </tr>\n",
       "  </tbody>\n",
       "</table>\n",
       "</div>"
      ],
      "text/plain": [
       "     Overall rank                   Country  Happiness Score\n",
       "154           155  Central African Republic            2.693\n",
       "153           154                   Burundi            2.905\n",
       "152           153                  Tanzania            3.349"
      ]
     },
     "execution_count": 43,
     "metadata": {},
     "output_type": "execute_result"
    }
   ],
   "source": [
    "happiness17_df[['Overall rank', 'Country', 'Happiness Score']].tail(3).sort_values('Happiness Score', ascending=True)"
   ]
  },
  {
   "cell_type": "markdown",
   "id": "afa38a9c-86d6-4ddf-9ee1-c81a2cc5acff",
   "metadata": {},
   "source": [
    "In 2017, the countries with the least happiness scores, arranged from the lowest to the highest, are as follows: Central African Republic, Burundi, Tanzania."
   ]
  },
  {
   "cell_type": "markdown",
   "id": "4702abbd-a639-414c-b1ec-36e6be2f17bd",
   "metadata": {},
   "source": [
    "Based on the data above, it shows a disparity in scores between Norway (The highest ranked happiness score) and Central African Republic (The lowest ranked happiness score) with approximately 4.8444 points. "
   ]
  },
  {
   "cell_type": "markdown",
   "id": "09bd442c-8119-496b-9c8d-dd91743bc32c",
   "metadata": {},
   "source": [
    "#### **b. 2018**"
   ]
  },
  {
   "cell_type": "code",
   "execution_count": 44,
   "id": "f37742df-eafd-4f45-b15a-0c84781f1380",
   "metadata": {},
   "outputs": [
    {
     "data": {
      "image/png": "[encoded data removed]",
      "text/plain": [
       "<Figure size 800x400 with 1 Axes>"
      ]
     },
     "metadata": {},
     "output_type": "display_data"
    }
   ],
   "source": [
    "column_name = 'Happiness Score'\n",
    "happiness18_df.hist(column_name, bins=nbins, edgecolor='w', figsize=(8, 4))\n",
    "plt.axvline(happiness17_df[column_name].mean(), color='k', linestyle='dashed', linewidth=1, label='Mean')\n",
    "plt.axvline(happiness17_df[column_name].median(), color='r', linestyle='dashed', linewidth=1, label='Median')\n",
    "\n",
    "plt.title(\"Distribution of Happiness Scores in 2017\")\n",
    "plt.xlabel(\"Happiness Score\")\n",
    "plt.ylabel(\"Frequency\")\n",
    "plt.legend()\n",
    "plt.show()"
   ]
  },
  {
   "cell_type": "code",
   "execution_count": 45,
   "id": "1c36af47-3119-4ae0-b95c-826ad5eff3ab",
   "metadata": {},
   "outputs": [
    {
     "data": {
      "text/html": [
       "<div>\n",
       "<style scoped>\n",
       "    .dataframe tbody tr th:only-of-type {\n",
       "        vertical-align: middle;\n",
       "    }\n",
       "\n",
       "    .dataframe tbody tr th {\n",
       "        vertical-align: top;\n",
       "    }\n",
       "\n",
       "    .dataframe thead th {\n",
       "        text-align: right;\n",
       "    }\n",
       "</style>\n",
       "<table border=\"1\" class=\"dataframe\">\n",
       "  <thead>\n",
       "    <tr style=\"text-align: right;\">\n",
       "      <th></th>\n",
       "      <th>Happiness Score</th>\n",
       "    </tr>\n",
       "  </thead>\n",
       "  <tbody>\n",
       "    <tr>\n",
       "      <th>mean</th>\n",
       "      <td>5.386464</td>\n",
       "    </tr>\n",
       "    <tr>\n",
       "      <th>median</th>\n",
       "      <td>5.398000</td>\n",
       "    </tr>\n",
       "  </tbody>\n",
       "</table>\n",
       "</div>"
      ],
      "text/plain": [
       "        Happiness Score\n",
       "mean           5.386464\n",
       "median         5.398000"
      ]
     },
     "execution_count": 45,
     "metadata": {},
     "output_type": "execute_result"
    }
   ],
   "source": [
    "happiness18_df.agg({\"Happiness Score\": [\"mean\", \"median\"]})"
   ]
  },
  {
   "cell_type": "code",
   "execution_count": 46,
   "id": "db369d92-3d46-44cd-b4eb-9aa19e1ff78c",
   "metadata": {},
   "outputs": [
    {
     "name": "stdout",
     "output_type": "stream",
     "text": [
      "Shapiro-Wilk Test Statistic: 0.9851353168487549\n",
      "P-value: 0.10466217994689941\n",
      "The data follows a normal distribution.\n"
     ]
    }
   ],
   "source": [
    "happiness_scores = happiness18_df['Happiness Score']\n",
    "\n",
    "stat, p = shapiro(happiness_scores)\n",
    "\n",
    "print(\"Shapiro-Wilk Test Statistic:\", stat)\n",
    "print(\"P-value:\", p)\n",
    "\n",
    "alpha = 0.05  \n",
    "if p > alpha:\n",
    "    print(\"The data follows a normal distribution.\")\n",
    "else:\n",
    "    print(\"The data does not follow a normal distribution.\")"
   ]
  },
  {
   "cell_type": "markdown",
   "id": "e6a9c0fc-1d2b-458b-be63-1474a6ef473c",
   "metadata": {},
   "source": [
    "The provided histogram illustrates the distribution of Happiness Scores for the year 2018. This histogram serves as a visual representation to depict and interpret the data related to happiness scores by displaying how many countries are found within each of the thirty bins. To be precise, the average Happiness Score for all countries is 5.39, with a median of 5.40. In addition, the Shapiro-Wilk Test displays a p-value of 0.10 which displays normal data. Based on the histogram and Shapiro-Wilk test, the distribution displays a normal distribution."
   ]
  },
  {
   "cell_type": "code",
   "execution_count": 47,
   "id": "2099dc40-4a72-4a5a-b8ad-df609a456f24",
   "metadata": {},
   "outputs": [
    {
     "data": {
      "text/html": [
       "<div>\n",
       "<style scoped>\n",
       "    .dataframe tbody tr th:only-of-type {\n",
       "        vertical-align: middle;\n",
       "    }\n",
       "\n",
       "    .dataframe tbody tr th {\n",
       "        vertical-align: top;\n",
       "    }\n",
       "\n",
       "    .dataframe thead th {\n",
       "        text-align: right;\n",
       "    }\n",
       "</style>\n",
       "<table border=\"1\" class=\"dataframe\">\n",
       "  <thead>\n",
       "    <tr style=\"text-align: right;\">\n",
       "      <th></th>\n",
       "      <th>Overall rank</th>\n",
       "      <th>Country</th>\n",
       "      <th>Happiness Score</th>\n",
       "    </tr>\n",
       "  </thead>\n",
       "  <tbody>\n",
       "    <tr>\n",
       "      <th>0</th>\n",
       "      <td>1</td>\n",
       "      <td>Finland</td>\n",
       "      <td>7.632</td>\n",
       "    </tr>\n",
       "    <tr>\n",
       "      <th>1</th>\n",
       "      <td>2</td>\n",
       "      <td>Norway</td>\n",
       "      <td>7.594</td>\n",
       "    </tr>\n",
       "    <tr>\n",
       "      <th>2</th>\n",
       "      <td>3</td>\n",
       "      <td>Denmark</td>\n",
       "      <td>7.555</td>\n",
       "    </tr>\n",
       "  </tbody>\n",
       "</table>\n",
       "</div>"
      ],
      "text/plain": [
       "   Overall rank  Country  Happiness Score\n",
       "0             1  Finland            7.632\n",
       "1             2   Norway            7.594\n",
       "2             3  Denmark            7.555"
      ]
     },
     "execution_count": 47,
     "metadata": {},
     "output_type": "execute_result"
    }
   ],
   "source": [
    "happiness18_df[['Overall rank', 'Country', 'Happiness Score']].head(3)"
   ]
  },
  {
   "cell_type": "markdown",
   "id": "c7b2cb6c-8212-421c-9fc7-8c93ec22d48e",
   "metadata": {},
   "source": [
    "In 2018, the countries that ranked highest in terms of happiness score, listed from the most to the least happy, include Finland, Norway, Denmark."
   ]
  },
  {
   "cell_type": "code",
   "execution_count": 48,
   "id": "951ed701-db22-46fb-bf94-be9e0890a911",
   "metadata": {},
   "outputs": [
    {
     "data": {
      "text/html": [
       "<div>\n",
       "<style scoped>\n",
       "    .dataframe tbody tr th:only-of-type {\n",
       "        vertical-align: middle;\n",
       "    }\n",
       "\n",
       "    .dataframe tbody tr th {\n",
       "        vertical-align: top;\n",
       "    }\n",
       "\n",
       "    .dataframe thead th {\n",
       "        text-align: right;\n",
       "    }\n",
       "</style>\n",
       "<table border=\"1\" class=\"dataframe\">\n",
       "  <thead>\n",
       "    <tr style=\"text-align: right;\">\n",
       "      <th></th>\n",
       "      <th>Overall rank</th>\n",
       "      <th>Country</th>\n",
       "      <th>Happiness Score</th>\n",
       "    </tr>\n",
       "  </thead>\n",
       "  <tbody>\n",
       "    <tr>\n",
       "      <th>155</th>\n",
       "      <td>156</td>\n",
       "      <td>Burundi</td>\n",
       "      <td>2.905</td>\n",
       "    </tr>\n",
       "    <tr>\n",
       "      <th>154</th>\n",
       "      <td>155</td>\n",
       "      <td>Central African Republic</td>\n",
       "      <td>3.083</td>\n",
       "    </tr>\n",
       "    <tr>\n",
       "      <th>153</th>\n",
       "      <td>154</td>\n",
       "      <td>South Sudan</td>\n",
       "      <td>3.254</td>\n",
       "    </tr>\n",
       "  </tbody>\n",
       "</table>\n",
       "</div>"
      ],
      "text/plain": [
       "     Overall rank                   Country  Happiness Score\n",
       "155           156                   Burundi            2.905\n",
       "154           155  Central African Republic            3.083\n",
       "153           154               South Sudan            3.254"
      ]
     },
     "execution_count": 48,
     "metadata": {},
     "output_type": "execute_result"
    }
   ],
   "source": [
    "happiness18_df[['Overall rank', 'Country', 'Happiness Score']].tail(3).sort_values('Happiness Score', ascending=True)"
   ]
  },
  {
   "cell_type": "markdown",
   "id": "aeaeffa9-a14f-4030-aa7c-b6affba06879",
   "metadata": {},
   "source": [
    "In 2018, the countries with the least happiness scores, arranged from the lowest to the highest, are as follows: Burundi, Central African Republic, South Sudan."
   ]
  },
  {
   "cell_type": "markdown",
   "id": "c6e869b3-379c-41ca-bb09-0a97d5b5c885",
   "metadata": {},
   "source": [
    "Based on the data above, it shows a disparity in scores between Norway (The highest ranked happiness score) and Central African Republic (The lowest ranked happiness score) with approximately 4.727 points. "
   ]
  },
  {
   "cell_type": "markdown",
   "id": "f213a417-a3cf-4e5b-a2d8-c3670e83b648",
   "metadata": {},
   "source": [
    "#### **c. 2019**"
   ]
  },
  {
   "cell_type": "code",
   "execution_count": 49,
   "id": "5445d209-70ce-472b-b569-41c12bcd6268",
   "metadata": {},
   "outputs": [
    {
     "data": {
      "image/png": "[encoded data removed]",
      "text/plain": [
       "<Figure size 800x400 with 1 Axes>"
      ]
     },
     "metadata": {},
     "output_type": "display_data"
    }
   ],
   "source": [
    "column_name = 'Happiness Score'\n",
    "happiness19_df.hist(column_name, bins=nbins, edgecolor='w', figsize=(8, 4))\n",
    "plt.axvline(happiness17_df[column_name].mean(), color='k', linestyle='dashed', linewidth=1, label='Mean')\n",
    "plt.axvline(happiness17_df[column_name].median(), color='r', linestyle='dashed', linewidth=1, label='Median')\n",
    "\n",
    "plt.title(\"Distribution of Happiness Scores in 2017\")\n",
    "plt.xlabel(\"Happiness Score\")\n",
    "plt.ylabel(\"Frequency\")\n",
    "plt.legend()\n",
    "plt.show()"
   ]
  },
  {
   "cell_type": "code",
   "execution_count": 50,
   "id": "f28cc519-40f7-435b-97f5-85088149655f",
   "metadata": {},
   "outputs": [
    {
     "data": {
      "text/html": [
       "<div>\n",
       "<style scoped>\n",
       "    .dataframe tbody tr th:only-of-type {\n",
       "        vertical-align: middle;\n",
       "    }\n",
       "\n",
       "    .dataframe tbody tr th {\n",
       "        vertical-align: top;\n",
       "    }\n",
       "\n",
       "    .dataframe thead th {\n",
       "        text-align: right;\n",
       "    }\n",
       "</style>\n",
       "<table border=\"1\" class=\"dataframe\">\n",
       "  <thead>\n",
       "    <tr style=\"text-align: right;\">\n",
       "      <th></th>\n",
       "      <th>Happiness Score</th>\n",
       "    </tr>\n",
       "  </thead>\n",
       "  <tbody>\n",
       "    <tr>\n",
       "      <th>mean</th>\n",
       "      <td>5.425066</td>\n",
       "    </tr>\n",
       "    <tr>\n",
       "      <th>median</th>\n",
       "      <td>5.425000</td>\n",
       "    </tr>\n",
       "  </tbody>\n",
       "</table>\n",
       "</div>"
      ],
      "text/plain": [
       "        Happiness Score\n",
       "mean           5.425066\n",
       "median         5.425000"
      ]
     },
     "execution_count": 50,
     "metadata": {},
     "output_type": "execute_result"
    }
   ],
   "source": [
    "happiness19_df.agg({\"Happiness Score\": [\"mean\", \"median\"]})"
   ]
  },
  {
   "cell_type": "code",
   "execution_count": 51,
   "id": "97314644-bb27-41cc-8120-81bea73a5509",
   "metadata": {},
   "outputs": [
    {
     "name": "stdout",
     "output_type": "stream",
     "text": [
      "Shapiro-Wilk Test Statistic: 0.9874421954154968\n",
      "P-value: 0.1913404017686844\n",
      "The data follows a normal distribution.\n"
     ]
    }
   ],
   "source": [
    "happiness_scores = happiness19_df['Happiness Score']\n",
    "\n",
    "stat, p = shapiro(happiness_scores)\n",
    "\n",
    "print(\"Shapiro-Wilk Test Statistic:\", stat)\n",
    "print(\"P-value:\", p)\n",
    "\n",
    "alpha = 0.05  \n",
    "if p > alpha:\n",
    "    print(\"The data follows a normal distribution.\")\n",
    "else:\n",
    "    print(\"The data does not follow a normal distribution.\")"
   ]
  },
  {
   "cell_type": "markdown",
   "id": "053c10e7-7571-4d46-9af4-5143c6da12a6",
   "metadata": {},
   "source": [
    "The provided histogram illustrates the distribution of Happiness Scores for the year 2019. This histogram serves as a visual representation to depict and interpret the data related to happiness scores by displaying how many countries are found within each of the thirty bins. To be precise, the average Happiness Score for all countries is 5.43, with a median of 5.43. In addition, the Shapiro-Wilk Test displays a p-value of 0.19 which displays normal data. Based on the histogram and Shapiro-Wilk test, the distribution displays a normal distribution."
   ]
  },
  {
   "cell_type": "code",
   "execution_count": 52,
   "id": "eec94a09-089c-441d-9c56-4c937a2aa290",
   "metadata": {},
   "outputs": [
    {
     "data": {
      "text/html": [
       "<div>\n",
       "<style scoped>\n",
       "    .dataframe tbody tr th:only-of-type {\n",
       "        vertical-align: middle;\n",
       "    }\n",
       "\n",
       "    .dataframe tbody tr th {\n",
       "        vertical-align: top;\n",
       "    }\n",
       "\n",
       "    .dataframe thead th {\n",
       "        text-align: right;\n",
       "    }\n",
       "</style>\n",
       "<table border=\"1\" class=\"dataframe\">\n",
       "  <thead>\n",
       "    <tr style=\"text-align: right;\">\n",
       "      <th></th>\n",
       "      <th>Overall rank</th>\n",
       "      <th>Country</th>\n",
       "      <th>Happiness Score</th>\n",
       "    </tr>\n",
       "  </thead>\n",
       "  <tbody>\n",
       "    <tr>\n",
       "      <th>0</th>\n",
       "      <td>1</td>\n",
       "      <td>Finland</td>\n",
       "      <td>7.769</td>\n",
       "    </tr>\n",
       "    <tr>\n",
       "      <th>1</th>\n",
       "      <td>2</td>\n",
       "      <td>Denmark</td>\n",
       "      <td>7.600</td>\n",
       "    </tr>\n",
       "    <tr>\n",
       "      <th>2</th>\n",
       "      <td>3</td>\n",
       "      <td>Norway</td>\n",
       "      <td>7.554</td>\n",
       "    </tr>\n",
       "  </tbody>\n",
       "</table>\n",
       "</div>"
      ],
      "text/plain": [
       "   Overall rank  Country  Happiness Score\n",
       "0             1  Finland            7.769\n",
       "1             2  Denmark            7.600\n",
       "2             3   Norway            7.554"
      ]
     },
     "execution_count": 52,
     "metadata": {},
     "output_type": "execute_result"
    }
   ],
   "source": [
    "happiness19_df[['Overall rank', 'Country', 'Happiness Score']].head(3)"
   ]
  },
  {
   "cell_type": "markdown",
   "id": "9262b11c-3c60-4aea-b230-425a87ead500",
   "metadata": {},
   "source": [
    "In 2019, the countries that ranked highest in terms of happiness score, listed from the most to the least happy, include Finland, Denmark, Norway."
   ]
  },
  {
   "cell_type": "code",
   "execution_count": 53,
   "id": "0b68f051-7f62-495f-8d8c-ee36beae81f0",
   "metadata": {},
   "outputs": [
    {
     "data": {
      "text/html": [
       "<div>\n",
       "<style scoped>\n",
       "    .dataframe tbody tr th:only-of-type {\n",
       "        vertical-align: middle;\n",
       "    }\n",
       "\n",
       "    .dataframe tbody tr th {\n",
       "        vertical-align: top;\n",
       "    }\n",
       "\n",
       "    .dataframe thead th {\n",
       "        text-align: right;\n",
       "    }\n",
       "</style>\n",
       "<table border=\"1\" class=\"dataframe\">\n",
       "  <thead>\n",
       "    <tr style=\"text-align: right;\">\n",
       "      <th></th>\n",
       "      <th>Overall rank</th>\n",
       "      <th>Country</th>\n",
       "      <th>Happiness Score</th>\n",
       "    </tr>\n",
       "  </thead>\n",
       "  <tbody>\n",
       "    <tr>\n",
       "      <th>155</th>\n",
       "      <td>156</td>\n",
       "      <td>South Sudan</td>\n",
       "      <td>2.853</td>\n",
       "    </tr>\n",
       "    <tr>\n",
       "      <th>154</th>\n",
       "      <td>155</td>\n",
       "      <td>Central African Republic</td>\n",
       "      <td>3.083</td>\n",
       "    </tr>\n",
       "    <tr>\n",
       "      <th>153</th>\n",
       "      <td>154</td>\n",
       "      <td>Afghanistan</td>\n",
       "      <td>3.203</td>\n",
       "    </tr>\n",
       "  </tbody>\n",
       "</table>\n",
       "</div>"
      ],
      "text/plain": [
       "     Overall rank                   Country  Happiness Score\n",
       "155           156               South Sudan            2.853\n",
       "154           155  Central African Republic            3.083\n",
       "153           154               Afghanistan            3.203"
      ]
     },
     "execution_count": 53,
     "metadata": {},
     "output_type": "execute_result"
    }
   ],
   "source": [
    "happiness19_df[['Overall rank', 'Country', 'Happiness Score']].tail(3).sort_values('Happiness Score', ascending=True)"
   ]
  },
  {
   "cell_type": "markdown",
   "id": "0b1afd00-457e-47b9-bfe4-dfbcc89c6236",
   "metadata": {},
   "source": [
    "In 2019, the countries with the least happiness scores, arranged from the lowest to the highest, are as follows: South Sudan, Central African Republic, Afghanistan."
   ]
  },
  {
   "cell_type": "markdown",
   "id": "7ffe2ba2-0cad-4410-9635-ce0076f8077d",
   "metadata": {},
   "source": [
    "Based on the data above, it shows a disparity in scores between Finland (The highest ranked happiness score) and South Sudan (The lowest ranked happiness score) with approximately 4.916 points. "
   ]
  },
  {
   "cell_type": "markdown",
   "id": "ebeb86eb-434a-4490-92eb-e405bb709838",
   "metadata": {},
   "source": [
    "#### *Conclusion for Exploratory Question 1*"
   ]
  },
  {
   "cell_type": "markdown",
   "id": "28c5304c-6aff-4cc8-a3ce-02731fac8921",
   "metadata": {},
   "source": [
    "In conclusion, an analysis of the highest and lowest happiness scores in 2017, 2018, and 2019 revealed the following findings:\n",
    "\n",
    "In **2017** the data exhibited normal distribution. The top 3 countries with the highest happiness scores for that year, ranked from highest to lowest, were **Norway**, **Denmark**, and **Iceland**. Conversely, the top 3 countries with the lowest happiness scores in 2017, ordered from the lowest to the highest, were **Central African Repbulic**, **Burundi**, and **Tanzania**.\n",
    "\n",
    "Moving to **2018**, the distribution showed a normal distribution. The leading 3 countries with the highest scores in 2018, in descending order, were **Finland**, **Norway** and **Denmark**. On the contrary, the top 3 countries with the lowest happiness scores in 2018, in ascending order, were **Burundi**, **Central African Republic**, and **South Sudan**.\n",
    "\n",
    "In **2019**, a similar distribution pattern emerged from 2017 and 2018, exhibited by a normal distribution. The top 3 countries with the highest happiness scores for that year, ranked from highest to lowest, were **Finland**, **Denmark**, and **Norway**. Conversely, the top 3 countries with the lowest happiness scores in 2019, ordered from the lowest to the highest, were **South Sudan**, **Central African Republic**, and **Afghanistan**.\n"
   ]
  },
  {
   "cell_type": "markdown",
   "id": "84fc7c6f-033d-4b90-a181-60cc1293480c",
   "metadata": {},
   "source": [
    "### **2. What are the Top 3 Countries with the highest and lowest GDP (Gross Domestic Product) Per Capita in the years 2017, 2018, and 2019?**"
   ]
  },
  {
   "cell_type": "markdown",
   "id": "f3efafa0-1ca1-4601-adab-7e8ba387a3a6",
   "metadata": {},
   "source": [
    "The second exploratory question aims to identify which countries have the highest and lowest GDP (Gross Domestic Product) per capita.\n",
    "\n",
    "The dataset contains country names stored as strings in the **`Country`** column, and **`GDP per capita`**, represented as floating-point numbers, are found in the GDP per capita column.\n",
    "\n",
    "We employed histograms to examine how frequently countries appear with various GDP per capita and their distribution.\n",
    "\n",
    "In order to identify countries with the most and least trust GDP per capita, we opted to utilize the **nlargest** and **nsmallest** methods. Implementing the **nlargest** function will enable us to examine the top 3 countries with the highest GDP per capita, while implementing the **nsmallest** function will enable us to observe the top 3 countries with the lowest GDP per capita."
   ]
  },
  {
   "cell_type": "code",
   "execution_count": 54,
   "id": "5e3f3c18-a7d7-42a6-920a-d9f4244ca976",
   "metadata": {},
   "outputs": [],
   "source": [
    "col2_eda = ['Country', 'GDP per capita']\n",
    "nbins = 30"
   ]
  },
  {
   "cell_type": "markdown",
   "id": "ddd58a90-6ef0-4669-b08f-95fef0c1d596",
   "metadata": {},
   "source": [
    "#### **a. 2017**"
   ]
  },
  {
   "cell_type": "code",
   "execution_count": 55,
   "id": "e0c01c55-2fd7-40ce-8330-4d1db79259d3",
   "metadata": {},
   "outputs": [
    {
     "data": {
      "image/png": "[encoded data removed]",
      "text/plain": [
       "<Figure size 800x400 with 1 Axes>"
      ]
     },
     "metadata": {},
     "output_type": "display_data"
    }
   ],
   "source": [
    "column_name = 'GDP Per Capita'\n",
    "happiness17_df.hist('GDP per capita', bins=nbins, edgecolor='w', figsize=(8, 4))\n",
    "plt.axvline(happiness17_df['GDP per capita'].mean(), color='k', linestyle='dashed', linewidth=1, label='Mean')\n",
    "plt.axvline(happiness17_df['GDP per capita'].median(), color='r', linestyle='dashed', linewidth=1, label='Median')\n",
    "\n",
    "plt.title(\"Distribution of GDP Per Capita in 2017\")\n",
    "plt.xlabel(\"GDP Per Capita\")\n",
    "plt.ylabel(\"Frequency\")\n",
    "plt.legend()\n",
    "plt.show()"
   ]
  },
  {
   "cell_type": "code",
   "execution_count": 56,
   "id": "5b7f827f-394c-450f-bef0-4b5329ab0643",
   "metadata": {},
   "outputs": [
    {
     "data": {
      "text/html": [
       "<div>\n",
       "<style scoped>\n",
       "    .dataframe tbody tr th:only-of-type {\n",
       "        vertical-align: middle;\n",
       "    }\n",
       "\n",
       "    .dataframe tbody tr th {\n",
       "        vertical-align: top;\n",
       "    }\n",
       "\n",
       "    .dataframe thead th {\n",
       "        text-align: right;\n",
       "    }\n",
       "</style>\n",
       "<table border=\"1\" class=\"dataframe\">\n",
       "  <thead>\n",
       "    <tr style=\"text-align: right;\">\n",
       "      <th></th>\n",
       "      <th>GDP per capita</th>\n",
       "    </tr>\n",
       "  </thead>\n",
       "  <tbody>\n",
       "    <tr>\n",
       "      <th>mean</th>\n",
       "      <td>0.983967</td>\n",
       "    </tr>\n",
       "    <tr>\n",
       "      <th>median</th>\n",
       "      <td>1.069318</td>\n",
       "    </tr>\n",
       "  </tbody>\n",
       "</table>\n",
       "</div>"
      ],
      "text/plain": [
       "        GDP per capita\n",
       "mean          0.983967\n",
       "median        1.069318"
      ]
     },
     "execution_count": 56,
     "metadata": {},
     "output_type": "execute_result"
    }
   ],
   "source": [
    "happiness17_df.agg({\"GDP per capita\": [\"mean\", \"median\"]})"
   ]
  },
  {
   "cell_type": "code",
   "execution_count": 57,
   "id": "df6c1d1a-a90e-47fb-878d-fd6b0e527e0c",
   "metadata": {},
   "outputs": [
    {
     "name": "stdout",
     "output_type": "stream",
     "text": [
      "Shapiro-Wilk Test Statistic: 0.9662166833877563\n",
      "P-value: 0.0009126450167968869\n",
      "The data does not follow a normal distribution.\n"
     ]
    }
   ],
   "source": [
    "gdp_per_capita = happiness17_df['GDP per capita']\n",
    "\n",
    "stat, p = shapiro(gdp_per_capita)\n",
    "\n",
    "print(\"Shapiro-Wilk Test Statistic:\", stat)\n",
    "print(\"P-value:\", p)\n",
    "\n",
    "alpha = 0.05  \n",
    "if p > alpha:\n",
    "    print(\"The data follows a normal distribution.\")\n",
    "else:\n",
    "    print(\"The data does not follow a normal distribution.\")"
   ]
  },
  {
   "cell_type": "markdown",
   "id": "4ea55c89-a7ea-4bbc-989c-818a551d3b8c",
   "metadata": {},
   "source": [
    "The histogram above displays the GDP per capita for 2017. This histogram serves as a visual representation to depict and interpret the data related to GDP per capita by displaying how many countries are found within each of the thirty bins. It can be observed that the average GDP per capita of all the countries is 0.98 while the median is 1.07. In addition, the Shapiro-Wilk Test displays a p-value of 0 which displays non-normal data. Based on the histogram and Shapiro-Wilk test, the distribution displays a non-normal distribution, specifically, negatively-skewed distribution."
   ]
  },
  {
   "cell_type": "code",
   "execution_count": 58,
   "id": "ffeb4c87-35c7-4e44-a3f0-e0114aea6330",
   "metadata": {},
   "outputs": [
    {
     "data": {
      "text/html": [
       "<div>\n",
       "<style scoped>\n",
       "    .dataframe tbody tr th:only-of-type {\n",
       "        vertical-align: middle;\n",
       "    }\n",
       "\n",
       "    .dataframe tbody tr th {\n",
       "        vertical-align: top;\n",
       "    }\n",
       "\n",
       "    .dataframe thead th {\n",
       "        text-align: right;\n",
       "    }\n",
       "</style>\n",
       "<table border=\"1\" class=\"dataframe\">\n",
       "  <thead>\n",
       "    <tr style=\"text-align: right;\">\n",
       "      <th></th>\n",
       "      <th>Country</th>\n",
       "      <th>GDP per capita</th>\n",
       "    </tr>\n",
       "  </thead>\n",
       "  <tbody>\n",
       "    <tr>\n",
       "      <th>34</th>\n",
       "      <td>Qatar</td>\n",
       "      <td>1.870766</td>\n",
       "    </tr>\n",
       "    <tr>\n",
       "      <th>17</th>\n",
       "      <td>Luxembourg</td>\n",
       "      <td>1.741944</td>\n",
       "    </tr>\n",
       "    <tr>\n",
       "      <th>25</th>\n",
       "      <td>Singapore</td>\n",
       "      <td>1.692278</td>\n",
       "    </tr>\n",
       "  </tbody>\n",
       "</table>\n",
       "</div>"
      ],
      "text/plain": [
       "       Country  GDP per capita\n",
       "34       Qatar        1.870766\n",
       "17  Luxembourg        1.741944\n",
       "25   Singapore        1.692278"
      ]
     },
     "execution_count": 58,
     "metadata": {},
     "output_type": "execute_result"
    }
   ],
   "source": [
    "happiness17_df[col2_eda].nlargest(n=3, columns='GDP per capita')"
   ]
  },
  {
   "cell_type": "markdown",
   "id": "67569ea8-43cc-418b-b9dd-65fe0af79f7a",
   "metadata": {},
   "source": [
    "In 2017, the countries that ranked highest in terms of GDP per capita, listed from the most to the least GDP per capita, include Qatar, Luxembourg, and Singapore."
   ]
  },
  {
   "cell_type": "code",
   "execution_count": 59,
   "id": "1db141f0-365e-42e2-b135-bef894a7f61a",
   "metadata": {},
   "outputs": [
    {
     "data": {
      "text/html": [
       "<div>\n",
       "<style scoped>\n",
       "    .dataframe tbody tr th:only-of-type {\n",
       "        vertical-align: middle;\n",
       "    }\n",
       "\n",
       "    .dataframe tbody tr th {\n",
       "        vertical-align: top;\n",
       "    }\n",
       "\n",
       "    .dataframe thead th {\n",
       "        text-align: right;\n",
       "    }\n",
       "</style>\n",
       "<table border=\"1\" class=\"dataframe\">\n",
       "  <thead>\n",
       "    <tr style=\"text-align: right;\">\n",
       "      <th></th>\n",
       "      <th>Country</th>\n",
       "      <th>GDP per capita</th>\n",
       "    </tr>\n",
       "  </thead>\n",
       "  <tbody>\n",
       "    <tr>\n",
       "      <th>154</th>\n",
       "      <td>Central African Republic</td>\n",
       "      <td>0.000000</td>\n",
       "    </tr>\n",
       "    <tr>\n",
       "      <th>92</th>\n",
       "      <td>Somalia</td>\n",
       "      <td>0.022643</td>\n",
       "    </tr>\n",
       "    <tr>\n",
       "      <th>153</th>\n",
       "      <td>Burundi</td>\n",
       "      <td>0.091623</td>\n",
       "    </tr>\n",
       "  </tbody>\n",
       "</table>\n",
       "</div>"
      ],
      "text/plain": [
       "                      Country  GDP per capita\n",
       "154  Central African Republic        0.000000\n",
       "92                    Somalia        0.022643\n",
       "153                   Burundi        0.091623"
      ]
     },
     "execution_count": 59,
     "metadata": {},
     "output_type": "execute_result"
    }
   ],
   "source": [
    "happiness17_df[col2_eda].nsmallest(n=3, columns='GDP per capita')"
   ]
  },
  {
   "cell_type": "markdown",
   "id": "9ac75ea3-3f5c-4b3e-bc75-e9c70a68aead",
   "metadata": {},
   "source": [
    "In 2017, the countries with the least GDP per capita, arranged from the lowest to the highest, are as follows: Central African Republic, Somalia, and Burundi."
   ]
  },
  {
   "cell_type": "markdown",
   "id": "481b93e8-6003-4fef-b9b0-a01205f9a7d4",
   "metadata": {},
   "source": [
    "#### **b. 2018**"
   ]
  },
  {
   "cell_type": "code",
   "execution_count": 60,
   "id": "08605de4-4409-45dc-a756-4b00246b68d0",
   "metadata": {},
   "outputs": [
    {
     "data": {
      "image/png": "[encoded data removed]",
      "text/plain": [
       "<Figure size 800x400 with 1 Axes>"
      ]
     },
     "metadata": {},
     "output_type": "display_data"
    }
   ],
   "source": [
    "column_name = 'GDP Per Capita'\n",
    "happiness18_df.hist('GDP per capita', bins=nbins, edgecolor='w', figsize=(8, 4))\n",
    "plt.axvline(happiness18_df['GDP per capita'].mean(), color='k', linestyle='dashed', linewidth=1, label='Mean')\n",
    "plt.axvline(happiness18_df['GDP per capita'].median(), color='r', linestyle='dashed', linewidth=1, label='Median')\n",
    "\n",
    "plt.title(\"Distribution of GDP Per Capita in 2018\")\n",
    "plt.xlabel(\"GDP Per Capita\")\n",
    "plt.ylabel(\"Frequency\")\n",
    "plt.legend()\n",
    "plt.show()"
   ]
  },
  {
   "cell_type": "code",
   "execution_count": 61,
   "id": "5a7292c3-b421-43f6-a602-01c4b32f51d7",
   "metadata": {},
   "outputs": [
    {
     "data": {
      "text/html": [
       "<div>\n",
       "<style scoped>\n",
       "    .dataframe tbody tr th:only-of-type {\n",
       "        vertical-align: middle;\n",
       "    }\n",
       "\n",
       "    .dataframe tbody tr th {\n",
       "        vertical-align: top;\n",
       "    }\n",
       "\n",
       "    .dataframe thead th {\n",
       "        text-align: right;\n",
       "    }\n",
       "</style>\n",
       "<table border=\"1\" class=\"dataframe\">\n",
       "  <thead>\n",
       "    <tr style=\"text-align: right;\">\n",
       "      <th></th>\n",
       "      <th>GDP per capita</th>\n",
       "    </tr>\n",
       "  </thead>\n",
       "  <tbody>\n",
       "    <tr>\n",
       "      <th>mean</th>\n",
       "      <td>0.888132</td>\n",
       "    </tr>\n",
       "    <tr>\n",
       "      <th>median</th>\n",
       "      <td>0.960000</td>\n",
       "    </tr>\n",
       "  </tbody>\n",
       "</table>\n",
       "</div>"
      ],
      "text/plain": [
       "        GDP per capita\n",
       "mean          0.888132\n",
       "median        0.960000"
      ]
     },
     "execution_count": 61,
     "metadata": {},
     "output_type": "execute_result"
    }
   ],
   "source": [
    "happiness18_df.agg({\"GDP per capita\": [\"mean\", \"median\"]})"
   ]
  },
  {
   "cell_type": "code",
   "execution_count": 62,
   "id": "c5eb1d6a-0a0f-48d1-a033-08b74a1442c6",
   "metadata": {},
   "outputs": [
    {
     "name": "stdout",
     "output_type": "stream",
     "text": [
      "Shapiro-Wilk Test Statistic: 0.9658358097076416\n",
      "P-value: 0.0008369771530851722\n",
      "The data does not follow a normal distribution.\n"
     ]
    }
   ],
   "source": [
    "gdp_per_capita = happiness18_df['GDP per capita']\n",
    "\n",
    "stat, p = shapiro(gdp_per_capita)\n",
    "\n",
    "print(\"Shapiro-Wilk Test Statistic:\", stat)\n",
    "print(\"P-value:\", p)\n",
    "\n",
    "alpha = 0.05  \n",
    "if p > alpha:\n",
    "    print(\"The data follows a normal distribution.\")\n",
    "else:\n",
    "    print(\"The data does not follow a normal distribution.\")"
   ]
  },
  {
   "cell_type": "markdown",
   "id": "c92ae0ed-8058-45b8-815a-944ca9f0ab87",
   "metadata": {},
   "source": [
    "The histogram above displays the GDP per capita for 2018. This histogram serves as a visual representation to depict and interpret the data related to GDP per capita by displaying how many countries are found within each of the thirty bins. It can be observed that the average GDP per capita of all the countries is 0.89 while the median is 0.96. In addition, the Shapiro-Wilk Test displays a p-value of 0 which displays non-normal data. Based on the histogram and Shapiro-Wilk test, the distribution displays a non-normal distribution, specifically, negatively-skewed distribution."
   ]
  },
  {
   "cell_type": "code",
   "execution_count": 63,
   "id": "c65a285a-9fe0-4945-ba12-4f5c014e960e",
   "metadata": {},
   "outputs": [
    {
     "data": {
      "text/html": [
       "<div>\n",
       "<style scoped>\n",
       "    .dataframe tbody tr th:only-of-type {\n",
       "        vertical-align: middle;\n",
       "    }\n",
       "\n",
       "    .dataframe tbody tr th {\n",
       "        vertical-align: top;\n",
       "    }\n",
       "\n",
       "    .dataframe thead th {\n",
       "        text-align: right;\n",
       "    }\n",
       "</style>\n",
       "<table border=\"1\" class=\"dataframe\">\n",
       "  <thead>\n",
       "    <tr style=\"text-align: right;\">\n",
       "      <th></th>\n",
       "      <th>Country</th>\n",
       "      <th>GDP per capita</th>\n",
       "    </tr>\n",
       "  </thead>\n",
       "  <tbody>\n",
       "    <tr>\n",
       "      <th>31</th>\n",
       "      <td>Qatar</td>\n",
       "      <td>1.649</td>\n",
       "    </tr>\n",
       "    <tr>\n",
       "      <th>16</th>\n",
       "      <td>Luxembourg</td>\n",
       "      <td>1.576</td>\n",
       "    </tr>\n",
       "    <tr>\n",
       "      <th>33</th>\n",
       "      <td>Singapore</td>\n",
       "      <td>1.529</td>\n",
       "    </tr>\n",
       "  </tbody>\n",
       "</table>\n",
       "</div>"
      ],
      "text/plain": [
       "       Country  GDP per capita\n",
       "31       Qatar           1.649\n",
       "16  Luxembourg           1.576\n",
       "33   Singapore           1.529"
      ]
     },
     "execution_count": 63,
     "metadata": {},
     "output_type": "execute_result"
    }
   ],
   "source": [
    "happiness18_df[col2_eda].nlargest(n=3, columns='GDP per capita')"
   ]
  },
  {
   "cell_type": "markdown",
   "id": "7b081723-4d4e-48d5-80f6-364ea6aab5b0",
   "metadata": {},
   "source": [
    "In 2018, the countries that ranked highest in terms of GDP per capita, listed from the most to the least GDP per capita, include Qatar, Luxembourg, and Singapore."
   ]
  },
  {
   "cell_type": "code",
   "execution_count": 64,
   "id": "b7d214cc-e3a1-49be-b6bd-57d7bd429532",
   "metadata": {},
   "outputs": [
    {
     "data": {
      "text/html": [
       "<div>\n",
       "<style scoped>\n",
       "    .dataframe tbody tr th:only-of-type {\n",
       "        vertical-align: middle;\n",
       "    }\n",
       "\n",
       "    .dataframe tbody tr th {\n",
       "        vertical-align: top;\n",
       "    }\n",
       "\n",
       "    .dataframe thead th {\n",
       "        text-align: right;\n",
       "    }\n",
       "</style>\n",
       "<table border=\"1\" class=\"dataframe\">\n",
       "  <thead>\n",
       "    <tr style=\"text-align: right;\">\n",
       "      <th></th>\n",
       "      <th>Country</th>\n",
       "      <th>GDP per capita</th>\n",
       "    </tr>\n",
       "  </thead>\n",
       "  <tbody>\n",
       "    <tr>\n",
       "      <th>97</th>\n",
       "      <td>Somalia</td>\n",
       "      <td>0.000</td>\n",
       "    </tr>\n",
       "    <tr>\n",
       "      <th>154</th>\n",
       "      <td>Central African Republic</td>\n",
       "      <td>0.024</td>\n",
       "    </tr>\n",
       "    <tr>\n",
       "      <th>131</th>\n",
       "      <td>Congo (Kinshasa)</td>\n",
       "      <td>0.069</td>\n",
       "    </tr>\n",
       "  </tbody>\n",
       "</table>\n",
       "</div>"
      ],
      "text/plain": [
       "                      Country  GDP per capita\n",
       "97                    Somalia           0.000\n",
       "154  Central African Republic           0.024\n",
       "131          Congo (Kinshasa)           0.069"
      ]
     },
     "execution_count": 64,
     "metadata": {},
     "output_type": "execute_result"
    }
   ],
   "source": [
    "happiness18_df[col2_eda].nsmallest(n=3, columns='GDP per capita')"
   ]
  },
  {
   "cell_type": "markdown",
   "id": "6efb8c38-a5e1-43ad-9e28-c8cea9245909",
   "metadata": {},
   "source": [
    "In 2018, the countries with the least GDP per capita, arranged from the lowest to the highest, are as follows: Somalia, Central African Republic, and Congo (Kinshasa)."
   ]
  },
  {
   "cell_type": "markdown",
   "id": "ca989c04-8fc6-4fe6-b4e5-5b8ab44c439f",
   "metadata": {},
   "source": [
    "#### **c. 2019**"
   ]
  },
  {
   "cell_type": "code",
   "execution_count": 65,
   "id": "18d1d6a7-6935-4bfe-ae7e-d33f41353ba9",
   "metadata": {},
   "outputs": [
    {
     "data": {
      "image/png": "[encoded data removed]",
      "text/plain": [
       "<Figure size 800x400 with 1 Axes>"
      ]
     },
     "metadata": {},
     "output_type": "display_data"
    }
   ],
   "source": [
    "column_name = 'GDP Per Capita'\n",
    "happiness19_df.hist('GDP per capita', bins=nbins, edgecolor='w', figsize=(8, 4))\n",
    "plt.axvline(happiness19_df['GDP per capita'].mean(), color='k', linestyle='dashed', linewidth=1, label='Mean')\n",
    "plt.axvline(happiness19_df['GDP per capita'].median(), color='r', linestyle='dashed', linewidth=1, label='Median')\n",
    "\n",
    "plt.title(\"Distribution of GDP Per Capita in 2019\")\n",
    "plt.xlabel(\"GDP Per Capita\")\n",
    "plt.ylabel(\"Frequency\")\n",
    "plt.legend()\n",
    "plt.show()"
   ]
  },
  {
   "cell_type": "code",
   "execution_count": 66,
   "id": "1e70c379-b265-40fe-b2e9-85406849e5bb",
   "metadata": {},
   "outputs": [
    {
     "data": {
      "text/html": [
       "<div>\n",
       "<style scoped>\n",
       "    .dataframe tbody tr th:only-of-type {\n",
       "        vertical-align: middle;\n",
       "    }\n",
       "\n",
       "    .dataframe tbody tr th {\n",
       "        vertical-align: top;\n",
       "    }\n",
       "\n",
       "    .dataframe thead th {\n",
       "        text-align: right;\n",
       "    }\n",
       "</style>\n",
       "<table border=\"1\" class=\"dataframe\">\n",
       "  <thead>\n",
       "    <tr style=\"text-align: right;\">\n",
       "      <th></th>\n",
       "      <th>GDP per capita</th>\n",
       "    </tr>\n",
       "  </thead>\n",
       "  <tbody>\n",
       "    <tr>\n",
       "      <th>mean</th>\n",
       "      <td>0.910881</td>\n",
       "    </tr>\n",
       "    <tr>\n",
       "      <th>median</th>\n",
       "      <td>0.983000</td>\n",
       "    </tr>\n",
       "  </tbody>\n",
       "</table>\n",
       "</div>"
      ],
      "text/plain": [
       "        GDP per capita\n",
       "mean          0.910881\n",
       "median        0.983000"
      ]
     },
     "execution_count": 66,
     "metadata": {},
     "output_type": "execute_result"
    }
   ],
   "source": [
    "happiness19_df.agg({\"GDP per capita\": [\"mean\", \"median\"]})"
   ]
  },
  {
   "cell_type": "code",
   "execution_count": 67,
   "id": "34910787-2ffb-40a8-8d87-1eb789666cc9",
   "metadata": {},
   "outputs": [
    {
     "name": "stdout",
     "output_type": "stream",
     "text": [
      "Shapiro-Wilk Test Statistic: 0.9639930725097656\n",
      "P-value: 0.0005534554948098958\n",
      "The data does not follow a normal distribution.\n"
     ]
    }
   ],
   "source": [
    "gdp_per_capita = happiness19_df['GDP per capita']\n",
    "\n",
    "stat, p = shapiro(gdp_per_capita)\n",
    "\n",
    "print(\"Shapiro-Wilk Test Statistic:\", stat)\n",
    "print(\"P-value:\", p)\n",
    "\n",
    "alpha = 0.05  \n",
    "if p > alpha:\n",
    "    print(\"The data follows a normal distribution.\")\n",
    "else:\n",
    "    print(\"The data does not follow a normal distribution.\")"
   ]
  },
  {
   "cell_type": "markdown",
   "id": "269cfdf2-fb31-49c0-9ad3-21472ccefbc6",
   "metadata": {},
   "source": [
    "The histogram above displays the GDP per capita for 2019. This histogram serves as a visual representation to depict and interpret the data related to GDP per capita by displaying how many countries are found within each of the thirty bins. It can be observed that the average GDP per capita of all the countries is 0.91 while the median is 0.98. In addition, the Shapiro-Wilk Test displays a p-value of 0 which displays non-normal data. Based on the histogram and Shapiro-Wilk test, the distribution displays a non-normal distribution, specifically, negatively-skewed distribution."
   ]
  },
  {
   "cell_type": "code",
   "execution_count": 68,
   "id": "cbb56070-7112-4ff2-bad5-27dce2d100d2",
   "metadata": {},
   "outputs": [
    {
     "data": {
      "text/html": [
       "<div>\n",
       "<style scoped>\n",
       "    .dataframe tbody tr th:only-of-type {\n",
       "        vertical-align: middle;\n",
       "    }\n",
       "\n",
       "    .dataframe tbody tr th {\n",
       "        vertical-align: top;\n",
       "    }\n",
       "\n",
       "    .dataframe thead th {\n",
       "        text-align: right;\n",
       "    }\n",
       "</style>\n",
       "<table border=\"1\" class=\"dataframe\">\n",
       "  <thead>\n",
       "    <tr style=\"text-align: right;\">\n",
       "      <th></th>\n",
       "      <th>Country</th>\n",
       "      <th>GDP per capita</th>\n",
       "    </tr>\n",
       "  </thead>\n",
       "  <tbody>\n",
       "    <tr>\n",
       "      <th>28</th>\n",
       "      <td>Qatar</td>\n",
       "      <td>1.684</td>\n",
       "    </tr>\n",
       "    <tr>\n",
       "      <th>13</th>\n",
       "      <td>Luxembourg</td>\n",
       "      <td>1.609</td>\n",
       "    </tr>\n",
       "    <tr>\n",
       "      <th>33</th>\n",
       "      <td>Singapore</td>\n",
       "      <td>1.572</td>\n",
       "    </tr>\n",
       "  </tbody>\n",
       "</table>\n",
       "</div>"
      ],
      "text/plain": [
       "       Country  GDP per capita\n",
       "28       Qatar           1.684\n",
       "13  Luxembourg           1.609\n",
       "33   Singapore           1.572"
      ]
     },
     "execution_count": 68,
     "metadata": {},
     "output_type": "execute_result"
    }
   ],
   "source": [
    "happiness19_df[col2_eda].nlargest(n=3, columns='GDP per capita')"
   ]
  },
  {
   "cell_type": "markdown",
   "id": "7fa695d2-38b8-4e76-a850-584a279b99cb",
   "metadata": {},
   "source": [
    "In 2019, the countries that ranked highest in terms of GDP per capita, listed from the most to the least GDP per capita, include Qatar, Luxembourg, and Singapore."
   ]
  },
  {
   "cell_type": "code",
   "execution_count": 69,
   "id": "30cb8ff2-0b6f-442c-9423-f3449e672a95",
   "metadata": {},
   "outputs": [
    {
     "data": {
      "text/html": [
       "<div>\n",
       "<style scoped>\n",
       "    .dataframe tbody tr th:only-of-type {\n",
       "        vertical-align: middle;\n",
       "    }\n",
       "\n",
       "    .dataframe tbody tr th {\n",
       "        vertical-align: top;\n",
       "    }\n",
       "\n",
       "    .dataframe thead th {\n",
       "        text-align: right;\n",
       "    }\n",
       "</style>\n",
       "<table border=\"1\" class=\"dataframe\">\n",
       "  <thead>\n",
       "    <tr style=\"text-align: right;\">\n",
       "      <th></th>\n",
       "      <th>Country</th>\n",
       "      <th>GDP per capita</th>\n",
       "    </tr>\n",
       "  </thead>\n",
       "  <tbody>\n",
       "    <tr>\n",
       "      <th>111</th>\n",
       "      <td>Somalia</td>\n",
       "      <td>0.000</td>\n",
       "    </tr>\n",
       "    <tr>\n",
       "      <th>154</th>\n",
       "      <td>Central African Republic</td>\n",
       "      <td>0.026</td>\n",
       "    </tr>\n",
       "    <tr>\n",
       "      <th>144</th>\n",
       "      <td>Burundi</td>\n",
       "      <td>0.046</td>\n",
       "    </tr>\n",
       "  </tbody>\n",
       "</table>\n",
       "</div>"
      ],
      "text/plain": [
       "                      Country  GDP per capita\n",
       "111                   Somalia           0.000\n",
       "154  Central African Republic           0.026\n",
       "144                   Burundi           0.046"
      ]
     },
     "execution_count": 69,
     "metadata": {},
     "output_type": "execute_result"
    }
   ],
   "source": [
    "happiness19_df[col2_eda].nsmallest(n=3, columns='GDP per capita')"
   ]
  },
  {
   "cell_type": "markdown",
   "id": "6cefe5c0-fe73-48b7-81fc-1354c48d590e",
   "metadata": {},
   "source": [
    "In 2019, the countries with the least GDP per capita, arranged from the lowest to the highest, are as follows: Somalia, Central African Republic, and Burundi."
   ]
  },
  {
   "cell_type": "markdown",
   "id": "b0ba7508-b97d-4e9d-a332-6ec5cbaad274",
   "metadata": {},
   "source": [
    "#### *Conclusion for Exploratory Question 2*"
   ]
  },
  {
   "cell_type": "markdown",
   "id": "eb03a11d-deb9-4010-88c4-c69b2db2e972",
   "metadata": {},
   "source": [
    "In conclusion, an analysis of the highest and lowest GDP per capita in 2017, 2018, and 2019 revealed the following findings:\n",
    "\n",
    "In **2017** the data exhibited a non-normal distribution, distinctively, negatively-skewed distribution. The top 3 countries with the highest GDP per capita for that year, ranked from highest to lowest, were **Qatar**, **Luxembourg**, and **Singapore**. Conversely, the top 3 countries with the lowest GDP per capita in 2017, ordered from the lowest to the highest, were **Central African Repbulic**, **Somalia**, and **Burundi**.\n",
    "\n",
    "Moving to **2018**, the distribution also showed a non-normal distribution, distinctively, negatively-skewed distribution. The leading 3 countries with the highest scores in 2018, in descending order, were **Qatar**, **Luxembourg** and **Singapore**. On the contrary, the top 3 countries with the lowest GDP per capita in 2018, in ascending order, were **Somalia**, **Central African Republic**, and **Congo (Kinshasa)**.\n",
    "\n",
    "In **2019**, a comparable distribution pattern surfaced in both 2017 and 2018, exhibiting a non-normal distribution, distinctively, negatively-skewed distribution. The top 3 countries with the highest GDP per capita for that year, ranked from highest to lowest, were  **Qatar**, **Luxembourg** and **Singapore**. Conversely, the top 3 countries with the lowest GDP per capita in 2019, ordered from the lowest to the highest, were **Somalia**, **Central African Republic**, and **Burundi**."
   ]
  },
  {
   "cell_type": "markdown",
   "id": "bf47af93-96a8-4d32-9939-676e3625560c",
   "metadata": {},
   "source": [
    "### **3. What are the Top 3 Countries with the highest and lowest Perceptions of Corruption in the years 2017, 2018, and 2019?**"
   ]
  },
  {
   "cell_type": "markdown",
   "id": "35ffb1b7-02fd-432e-b86f-ed2f11788625",
   "metadata": {},
   "source": [
    "The third exploratory question aims to identify which countries have the highest and lowest perceptions of corruption.\n",
    "\n",
    "The dataset contains country names stored as strings in the **`Country`** column, and **`Perceptions of corruption`**, represented as floating-point numbers, are found in the Perceptions of corruption column.\n",
    "\n",
    "We employed histograms to examine how frequently countries appear with various Perceptions of corruption and their distribution.\n",
    "\n",
    "In order to identify countries with the most and least trust GDP per capita, we opted to utilize the **nlargest** and **nsmallest** methods. Implementing the **nlargest** function will enable us to examine the top 3 countries with the highest Perceptions of corruption, while implementing the **nsmallest** function will enable us to observe the top 3 countries with the lowest Perceptions of corruption."
   ]
  },
  {
   "cell_type": "code",
   "execution_count": 70,
   "id": "025a6190-acc6-4ad9-8bb3-54fd95d15d6b",
   "metadata": {},
   "outputs": [],
   "source": [
    "col3_eda = ['Country', 'Perceptions of corruption']\n",
    "nbins = 30"
   ]
  },
  {
   "cell_type": "markdown",
   "id": "37a0cd97-a138-40a1-9069-668fc32ed83c",
   "metadata": {},
   "source": [
    "#### **a. 2017**"
   ]
  },
  {
   "cell_type": "code",
   "execution_count": 71,
   "id": "2a5bbd0c-a1d8-40ac-a342-49f16a708cff",
   "metadata": {},
   "outputs": [
    {
     "data": {
      "image/png": "[encoded data removed]",
      "text/plain": [
       "<Figure size 800x400 with 1 Axes>"
      ]
     },
     "metadata": {},
     "output_type": "display_data"
    }
   ],
   "source": [
    "happiness17_df.hist('Perceptions of corruption', bins=nbins, edgecolor='w', figsize=(8, 4))\n",
    "plt.axvline(happiness17_df['Perceptions of corruption'].mean(), color='k', linestyle='dashed', linewidth=1, label='Mean')\n",
    "plt.axvline(happiness17_df['Perceptions of corruption'].median(), color='r', linestyle='dashed', linewidth=1, label='Median')\n",
    "\n",
    "plt.title(\"Distribution of Perceptions of corruption in 2017\")\n",
    "plt.xlabel(\"Perceptions of corruption\")\n",
    "plt.ylabel(\"Frequency\")\n",
    "plt.legend()\n",
    "plt.show()"
   ]
  },
  {
   "cell_type": "code",
   "execution_count": 72,
   "id": "d9b64b93-d51b-4f4c-b84c-3b0ec338cdb7",
   "metadata": {},
   "outputs": [
    {
     "data": {
      "text/html": [
       "<div>\n",
       "<style scoped>\n",
       "    .dataframe tbody tr th:only-of-type {\n",
       "        vertical-align: middle;\n",
       "    }\n",
       "\n",
       "    .dataframe tbody tr th {\n",
       "        vertical-align: top;\n",
       "    }\n",
       "\n",
       "    .dataframe thead th {\n",
       "        text-align: right;\n",
       "    }\n",
       "</style>\n",
       "<table border=\"1\" class=\"dataframe\">\n",
       "  <thead>\n",
       "    <tr style=\"text-align: right;\">\n",
       "      <th></th>\n",
       "      <th>Perceptions of corruption</th>\n",
       "    </tr>\n",
       "  </thead>\n",
       "  <tbody>\n",
       "    <tr>\n",
       "      <th>mean</th>\n",
       "      <td>0.122536</td>\n",
       "    </tr>\n",
       "    <tr>\n",
       "      <th>median</th>\n",
       "      <td>0.089283</td>\n",
       "    </tr>\n",
       "  </tbody>\n",
       "</table>\n",
       "</div>"
      ],
      "text/plain": [
       "        Perceptions of corruption\n",
       "mean                     0.122536\n",
       "median                   0.089283"
      ]
     },
     "execution_count": 72,
     "metadata": {},
     "output_type": "execute_result"
    }
   ],
   "source": [
    "happiness17_df.agg({\"Perceptions of corruption\": [\"mean\", \"median\"]})"
   ]
  },
  {
   "cell_type": "code",
   "execution_count": 73,
   "id": "d7b2d3f3-83fd-4a4c-a76b-31f0c5d1453e",
   "metadata": {},
   "outputs": [
    {
     "name": "stdout",
     "output_type": "stream",
     "text": [
      "Shapiro-Wilk Test Statistic: 0.839742124080658\n",
      "P-value: 1.486582384968571e-11\n",
      "The data does not follow a normal distribution.\n"
     ]
    }
   ],
   "source": [
    "perceptions = happiness17_df['Perceptions of corruption']\n",
    "\n",
    "stat, p = shapiro(perceptions)\n",
    "\n",
    "print(\"Shapiro-Wilk Test Statistic:\", stat)\n",
    "print(\"P-value:\", p)\n",
    "\n",
    "alpha = 0.05  \n",
    "if p > alpha:\n",
    "    print(\"The data follows a normal distribution.\")\n",
    "else:\n",
    "    print(\"The data does not follow a normal distribution.\")"
   ]
  },
  {
   "cell_type": "markdown",
   "id": "967e9164-e164-411f-a61c-b7ab6b50a176",
   "metadata": {},
   "source": [
    "The histogram above displays the perceptions of corruption for 2017. This histogram serves as a visual representation to depict and interpret the data related to perceptions of corruption by displaying how many countries are found within each of the thirty bins. It can be observed that the average perceptions of corruption in all the countries is 0.12 while the median is 0.09. In addition, the Shapiro-Wilk Test displays a p-value of 0 which displays non-normal data. Based on the histogram and Shapiro-Wilk test, the distribution displays a non-normal distribution, specifically, positively-skewed distribution."
   ]
  },
  {
   "cell_type": "code",
   "execution_count": 74,
   "id": "5947eb45-40f1-4c5a-a87f-058930b9e755",
   "metadata": {},
   "outputs": [
    {
     "data": {
      "text/html": [
       "<div>\n",
       "<style scoped>\n",
       "    .dataframe tbody tr th:only-of-type {\n",
       "        vertical-align: middle;\n",
       "    }\n",
       "\n",
       "    .dataframe tbody tr th {\n",
       "        vertical-align: top;\n",
       "    }\n",
       "\n",
       "    .dataframe thead th {\n",
       "        text-align: right;\n",
       "    }\n",
       "</style>\n",
       "<table border=\"1\" class=\"dataframe\">\n",
       "  <thead>\n",
       "    <tr style=\"text-align: right;\">\n",
       "      <th></th>\n",
       "      <th>Country</th>\n",
       "      <th>Perceptions of corruption</th>\n",
       "    </tr>\n",
       "  </thead>\n",
       "  <tbody>\n",
       "    <tr>\n",
       "      <th>25</th>\n",
       "      <td>Singapore</td>\n",
       "      <td>0.464308</td>\n",
       "    </tr>\n",
       "    <tr>\n",
       "      <th>150</th>\n",
       "      <td>Rwanda</td>\n",
       "      <td>0.455220</td>\n",
       "    </tr>\n",
       "    <tr>\n",
       "      <th>34</th>\n",
       "      <td>Qatar</td>\n",
       "      <td>0.439299</td>\n",
       "    </tr>\n",
       "  </tbody>\n",
       "</table>\n",
       "</div>"
      ],
      "text/plain": [
       "       Country  Perceptions of corruption\n",
       "25   Singapore                   0.464308\n",
       "150     Rwanda                   0.455220\n",
       "34       Qatar                   0.439299"
      ]
     },
     "execution_count": 74,
     "metadata": {},
     "output_type": "execute_result"
    }
   ],
   "source": [
    "happiness17_df[col3_eda].nlargest(n=3, columns='Perceptions of corruption')"
   ]
  },
  {
   "cell_type": "markdown",
   "id": "0f3dfeb7-e626-44f5-ad19-fc4968557140",
   "metadata": {},
   "source": [
    "In 2017, the countries that ranked highest in terms of perceptions of corruption, listed from the most to the least perceptions of corruption, include Singapore, Rwanda, and Qatar."
   ]
  },
  {
   "cell_type": "code",
   "execution_count": 75,
   "id": "6f4fddfe-dacd-4e12-b4ab-21b67c82fdec",
   "metadata": {},
   "outputs": [
    {
     "data": {
      "text/html": [
       "<div>\n",
       "<style scoped>\n",
       "    .dataframe tbody tr th:only-of-type {\n",
       "        vertical-align: middle;\n",
       "    }\n",
       "\n",
       "    .dataframe tbody tr th {\n",
       "        vertical-align: top;\n",
       "    }\n",
       "\n",
       "    .dataframe thead th {\n",
       "        text-align: right;\n",
       "    }\n",
       "</style>\n",
       "<table border=\"1\" class=\"dataframe\">\n",
       "  <thead>\n",
       "    <tr style=\"text-align: right;\">\n",
       "      <th></th>\n",
       "      <th>Country</th>\n",
       "      <th>Perceptions of corruption</th>\n",
       "    </tr>\n",
       "  </thead>\n",
       "  <tbody>\n",
       "    <tr>\n",
       "      <th>89</th>\n",
       "      <td>Bosnia and Herzegovina</td>\n",
       "      <td>0.000000</td>\n",
       "    </tr>\n",
       "    <tr>\n",
       "      <th>56</th>\n",
       "      <td>Romania</td>\n",
       "      <td>0.004388</td>\n",
       "    </tr>\n",
       "    <tr>\n",
       "      <th>37</th>\n",
       "      <td>Trinidad and Tobago</td>\n",
       "      <td>0.008965</td>\n",
       "    </tr>\n",
       "  </tbody>\n",
       "</table>\n",
       "</div>"
      ],
      "text/plain": [
       "                   Country  Perceptions of corruption\n",
       "89  Bosnia and Herzegovina                   0.000000\n",
       "56                 Romania                   0.004388\n",
       "37     Trinidad and Tobago                   0.008965"
      ]
     },
     "execution_count": 75,
     "metadata": {},
     "output_type": "execute_result"
    }
   ],
   "source": [
    "happiness17_df[col3_eda].nsmallest(n=3, columns='Perceptions of corruption')"
   ]
  },
  {
   "cell_type": "markdown",
   "id": "5653ec76-2b2f-4a21-a983-b4fcc2413369",
   "metadata": {},
   "source": [
    "In 2017, the countries with the least perceptions of corruption, arranged from the lowest to the highest, are as follows: Bosnia and Herzegovina, Romania, and Trinidad and Tobago."
   ]
  },
  {
   "cell_type": "markdown",
   "id": "647fef32-8994-4125-93d1-583d12bc12ef",
   "metadata": {},
   "source": [
    "#### **b. 2018**"
   ]
  },
  {
   "cell_type": "code",
   "execution_count": 76,
   "id": "6fa74aee-556b-4951-b4b5-a9f6f9fb7d6f",
   "metadata": {},
   "outputs": [
    {
     "data": {
      "image/png": "[encoded data removed]",
      "text/plain": [
       "<Figure size 800x400 with 1 Axes>"
      ]
     },
     "metadata": {},
     "output_type": "display_data"
    }
   ],
   "source": [
    "happiness18_df.hist('Perceptions of corruption', bins=nbins, edgecolor='w', figsize=(8, 4))\n",
    "plt.axvline(happiness17_df['Perceptions of corruption'].mean(), color='k', linestyle='dashed', linewidth=1, label='Mean')\n",
    "plt.axvline(happiness17_df['Perceptions of corruption'].median(), color='r', linestyle='dashed', linewidth=1, label='Median')\n",
    "\n",
    "plt.title(\"Distribution of Perceptions of corruption in 2017\")\n",
    "plt.xlabel(\"Perceptions of corruption\")\n",
    "plt.ylabel(\"Frequency\")\n",
    "plt.legend()\n",
    "plt.show()"
   ]
  },
  {
   "cell_type": "code",
   "execution_count": 77,
   "id": "3cada78f-a69c-4c25-94d6-41352d1350ac",
   "metadata": {},
   "outputs": [
    {
     "data": {
      "text/html": [
       "<div>\n",
       "<style scoped>\n",
       "    .dataframe tbody tr th:only-of-type {\n",
       "        vertical-align: middle;\n",
       "    }\n",
       "\n",
       "    .dataframe tbody tr th {\n",
       "        vertical-align: top;\n",
       "    }\n",
       "\n",
       "    .dataframe thead th {\n",
       "        text-align: right;\n",
       "    }\n",
       "</style>\n",
       "<table border=\"1\" class=\"dataframe\">\n",
       "  <thead>\n",
       "    <tr style=\"text-align: right;\">\n",
       "      <th></th>\n",
       "      <th>Perceptions of corruption</th>\n",
       "    </tr>\n",
       "  </thead>\n",
       "  <tbody>\n",
       "    <tr>\n",
       "      <th>mean</th>\n",
       "      <td>0.112278</td>\n",
       "    </tr>\n",
       "    <tr>\n",
       "      <th>median</th>\n",
       "      <td>0.082000</td>\n",
       "    </tr>\n",
       "  </tbody>\n",
       "</table>\n",
       "</div>"
      ],
      "text/plain": [
       "        Perceptions of corruption\n",
       "mean                     0.112278\n",
       "median                   0.082000"
      ]
     },
     "execution_count": 77,
     "metadata": {},
     "output_type": "execute_result"
    }
   ],
   "source": [
    "happiness18_df.agg({\"Perceptions of corruption\": [\"mean\", \"median\"]})"
   ]
  },
  {
   "cell_type": "code",
   "execution_count": 78,
   "id": "8779c3ad-2560-4b2f-9f79-89e499136ac4",
   "metadata": {},
   "outputs": [
    {
     "name": "stdout",
     "output_type": "stream",
     "text": [
      "Shapiro-Wilk Test Statistic: 0.8171406984329224\n",
      "P-value: 1.8644116198812677e-12\n",
      "The data does not follow a normal distribution.\n"
     ]
    }
   ],
   "source": [
    "perceptions = happiness18_df['Perceptions of corruption']\n",
    "\n",
    "stat, p = shapiro(perceptions)\n",
    "\n",
    "print(\"Shapiro-Wilk Test Statistic:\", stat)\n",
    "print(\"P-value:\", p)\n",
    "\n",
    "alpha = 0.05  \n",
    "if p > alpha:\n",
    "    print(\"The data follows a normal distribution.\")\n",
    "else:\n",
    "    print(\"The data does not follow a normal distribution.\")"
   ]
  },
  {
   "cell_type": "markdown",
   "id": "ec776f9f-4cd5-4a45-a582-133ae9a7c32c",
   "metadata": {},
   "source": [
    "The histogram above displays the perceptions of corruption for 2018. This histogram serves as a visual representation to depict and interpret the data related to perceptions of corruption by displaying how many countries are found within each of the thirty bins. It can be observed that the average perceptions of corruption in all the countries is 0.11 while the median is 0.08. In addition, the Shapiro-Wilk Test displays a p-value of 0 which displays non-normal data. Based on the histogram and Shapiro-Wilk test, the distribution displays a non-normal distribution, specifically, positively-skewed distribution."
   ]
  },
  {
   "cell_type": "code",
   "execution_count": 79,
   "id": "679be5fa-1bec-4694-b55a-9a469963fe09",
   "metadata": {},
   "outputs": [
    {
     "data": {
      "text/html": [
       "<div>\n",
       "<style scoped>\n",
       "    .dataframe tbody tr th:only-of-type {\n",
       "        vertical-align: middle;\n",
       "    }\n",
       "\n",
       "    .dataframe tbody tr th {\n",
       "        vertical-align: top;\n",
       "    }\n",
       "\n",
       "    .dataframe thead th {\n",
       "        text-align: right;\n",
       "    }\n",
       "</style>\n",
       "<table border=\"1\" class=\"dataframe\">\n",
       "  <thead>\n",
       "    <tr style=\"text-align: right;\">\n",
       "      <th></th>\n",
       "      <th>Country</th>\n",
       "      <th>Perceptions of corruption</th>\n",
       "    </tr>\n",
       "  </thead>\n",
       "  <tbody>\n",
       "    <tr>\n",
       "      <th>33</th>\n",
       "      <td>Singapore</td>\n",
       "      <td>0.457</td>\n",
       "    </tr>\n",
       "    <tr>\n",
       "      <th>150</th>\n",
       "      <td>Rwanda</td>\n",
       "      <td>0.444</td>\n",
       "    </tr>\n",
       "    <tr>\n",
       "      <th>2</th>\n",
       "      <td>Denmark</td>\n",
       "      <td>0.408</td>\n",
       "    </tr>\n",
       "  </tbody>\n",
       "</table>\n",
       "</div>"
      ],
      "text/plain": [
       "       Country  Perceptions of corruption\n",
       "33   Singapore                      0.457\n",
       "150     Rwanda                      0.444\n",
       "2      Denmark                      0.408"
      ]
     },
     "execution_count": 79,
     "metadata": {},
     "output_type": "execute_result"
    }
   ],
   "source": [
    "happiness18_df[col3_eda].nlargest(n=3, columns='Perceptions of corruption')"
   ]
  },
  {
   "cell_type": "markdown",
   "id": "58cbd881-e2b8-45e7-b93a-9f4f0469a63d",
   "metadata": {},
   "source": [
    "In 2018, the countries that ranked highest in terms of perceptions of corruption, listed from the most to the least perceptions of corruption, include Singapore, Rwanda, and Denmark."
   ]
  },
  {
   "cell_type": "code",
   "execution_count": 80,
   "id": "4f77d856-fe6a-4162-878d-6ed06dfccdac",
   "metadata": {},
   "outputs": [
    {
     "data": {
      "text/html": [
       "<div>\n",
       "<style scoped>\n",
       "    .dataframe tbody tr th:only-of-type {\n",
       "        vertical-align: middle;\n",
       "    }\n",
       "\n",
       "    .dataframe tbody tr th {\n",
       "        vertical-align: top;\n",
       "    }\n",
       "\n",
       "    .dataframe thead th {\n",
       "        text-align: right;\n",
       "    }\n",
       "</style>\n",
       "<table border=\"1\" class=\"dataframe\">\n",
       "  <thead>\n",
       "    <tr style=\"text-align: right;\">\n",
       "      <th></th>\n",
       "      <th>Country</th>\n",
       "      <th>Perceptions of corruption</th>\n",
       "    </tr>\n",
       "  </thead>\n",
       "  <tbody>\n",
       "    <tr>\n",
       "      <th>66</th>\n",
       "      <td>Moldova</td>\n",
       "      <td>0.000</td>\n",
       "    </tr>\n",
       "    <tr>\n",
       "      <th>92</th>\n",
       "      <td>Bosnia and Herzegovina</td>\n",
       "      <td>0.000</td>\n",
       "    </tr>\n",
       "    <tr>\n",
       "      <th>51</th>\n",
       "      <td>Romania</td>\n",
       "      <td>0.001</td>\n",
       "    </tr>\n",
       "  </tbody>\n",
       "</table>\n",
       "</div>"
      ],
      "text/plain": [
       "                   Country  Perceptions of corruption\n",
       "66                 Moldova                      0.000\n",
       "92  Bosnia and Herzegovina                      0.000\n",
       "51                 Romania                      0.001"
      ]
     },
     "execution_count": 80,
     "metadata": {},
     "output_type": "execute_result"
    }
   ],
   "source": [
    "happiness18_df[col3_eda].nsmallest(n=3, columns='Perceptions of corruption')"
   ]
  },
  {
   "cell_type": "markdown",
   "id": "88b11149-1bb7-4630-bcb3-f8c5f363f136",
   "metadata": {},
   "source": [
    "In 2018, the countries with the least perceptions of corruption, arranged from the lowest to the highest, are as follows: Moldova, Bosnia and Herzegovina, and Romania."
   ]
  },
  {
   "cell_type": "markdown",
   "id": "b2c2aca3-c5e7-4db7-96d5-bb571bb2e8bc",
   "metadata": {},
   "source": [
    "#### **c. 2019**"
   ]
  },
  {
   "cell_type": "code",
   "execution_count": 81,
   "id": "c630ffc8-174b-4626-baf3-9c7a89f63e48",
   "metadata": {},
   "outputs": [
    {
     "data": {
      "image/png": "[encoded data removed]",
      "text/plain": [
       "<Figure size 800x400 with 1 Axes>"
      ]
     },
     "metadata": {},
     "output_type": "display_data"
    }
   ],
   "source": [
    "happiness19_df.hist('Perceptions of corruption', bins=nbins, edgecolor='w', figsize=(8, 4))\n",
    "plt.axvline(happiness17_df['Perceptions of corruption'].mean(), color='k', linestyle='dashed', linewidth=1, label='Mean')\n",
    "plt.axvline(happiness17_df['Perceptions of corruption'].median(), color='r', linestyle='dashed', linewidth=1, label='Median')\n",
    "\n",
    "plt.title(\"Distribution of Perceptions of corruption in 2017\")\n",
    "plt.xlabel(\"Perceptions of corruption\")\n",
    "plt.ylabel(\"Frequency\")\n",
    "plt.legend()\n",
    "plt.show()"
   ]
  },
  {
   "cell_type": "code",
   "execution_count": 82,
   "id": "6d2a39b6-5889-4981-807d-741a170fd604",
   "metadata": {},
   "outputs": [
    {
     "data": {
      "text/html": [
       "<div>\n",
       "<style scoped>\n",
       "    .dataframe tbody tr th:only-of-type {\n",
       "        vertical-align: middle;\n",
       "    }\n",
       "\n",
       "    .dataframe tbody tr th {\n",
       "        vertical-align: top;\n",
       "    }\n",
       "\n",
       "    .dataframe thead th {\n",
       "        text-align: right;\n",
       "    }\n",
       "</style>\n",
       "<table border=\"1\" class=\"dataframe\">\n",
       "  <thead>\n",
       "    <tr style=\"text-align: right;\">\n",
       "      <th></th>\n",
       "      <th>Perceptions of corruption</th>\n",
       "    </tr>\n",
       "  </thead>\n",
       "  <tbody>\n",
       "    <tr>\n",
       "      <th>mean</th>\n",
       "      <td>0.109457</td>\n",
       "    </tr>\n",
       "    <tr>\n",
       "      <th>median</th>\n",
       "      <td>0.085000</td>\n",
       "    </tr>\n",
       "  </tbody>\n",
       "</table>\n",
       "</div>"
      ],
      "text/plain": [
       "        Perceptions of corruption\n",
       "mean                     0.109457\n",
       "median                   0.085000"
      ]
     },
     "execution_count": 82,
     "metadata": {},
     "output_type": "execute_result"
    }
   ],
   "source": [
    "happiness19_df.agg({\"Perceptions of corruption\": [\"mean\", \"median\"]})"
   ]
  },
  {
   "cell_type": "code",
   "execution_count": 83,
   "id": "8197a3e5-7f85-4100-9083-bb7f30239c47",
   "metadata": {},
   "outputs": [
    {
     "name": "stdout",
     "output_type": "stream",
     "text": [
      "Shapiro-Wilk Test Statistic: 0.8123713731765747\n",
      "P-value: 1.2306286632096652e-12\n",
      "The data does not follow a normal distribution.\n"
     ]
    }
   ],
   "source": [
    "perceptions = happiness19_df['Perceptions of corruption']\n",
    "\n",
    "stat, p = shapiro(perceptions)\n",
    "\n",
    "print(\"Shapiro-Wilk Test Statistic:\", stat)\n",
    "print(\"P-value:\", p)\n",
    "\n",
    "alpha = 0.05  \n",
    "if p > alpha:\n",
    "    print(\"The data follows a normal distribution.\")\n",
    "else:\n",
    "    print(\"The data does not follow a normal distribution.\")"
   ]
  },
  {
   "cell_type": "markdown",
   "id": "e4481e1d-94e8-4f3d-8fbb-c40a59bcb477",
   "metadata": {},
   "source": [
    "The histogram above displays the perceptions of corruption for 2019. This histogram serves as a visual representation to depict and interpret the data related to perceptions of corruption by displaying how many countries are found within each of the thirty bins. It can be observed that the average perceptions of corruption in all the countries is 0.11 while the median is 0.09. In addition, the Shapiro-Wilk Test displays a p-value of 0 which displays non-normal data. Based on the histogram and Shapiro-Wilk test, the distribution displays a non-normal distribution, specifically, positively-skewed distribution."
   ]
  },
  {
   "cell_type": "code",
   "execution_count": 84,
   "id": "22f21e9a-191e-41e8-b853-5a9b3218a4f3",
   "metadata": {},
   "outputs": [
    {
     "data": {
      "text/html": [
       "<div>\n",
       "<style scoped>\n",
       "    .dataframe tbody tr th:only-of-type {\n",
       "        vertical-align: middle;\n",
       "    }\n",
       "\n",
       "    .dataframe tbody tr th {\n",
       "        vertical-align: top;\n",
       "    }\n",
       "\n",
       "    .dataframe thead th {\n",
       "        text-align: right;\n",
       "    }\n",
       "</style>\n",
       "<table border=\"1\" class=\"dataframe\">\n",
       "  <thead>\n",
       "    <tr style=\"text-align: right;\">\n",
       "      <th></th>\n",
       "      <th>Country</th>\n",
       "      <th>Perceptions of corruption</th>\n",
       "    </tr>\n",
       "  </thead>\n",
       "  <tbody>\n",
       "    <tr>\n",
       "      <th>33</th>\n",
       "      <td>Singapore</td>\n",
       "      <td>0.453</td>\n",
       "    </tr>\n",
       "    <tr>\n",
       "      <th>151</th>\n",
       "      <td>Rwanda</td>\n",
       "      <td>0.411</td>\n",
       "    </tr>\n",
       "    <tr>\n",
       "      <th>1</th>\n",
       "      <td>Denmark</td>\n",
       "      <td>0.410</td>\n",
       "    </tr>\n",
       "  </tbody>\n",
       "</table>\n",
       "</div>"
      ],
      "text/plain": [
       "       Country  Perceptions of corruption\n",
       "33   Singapore                      0.453\n",
       "151     Rwanda                      0.411\n",
       "1      Denmark                      0.410"
      ]
     },
     "execution_count": 84,
     "metadata": {},
     "output_type": "execute_result"
    }
   ],
   "source": [
    "happiness19_df[col3_eda].nlargest(n=3, columns='Perceptions of corruption')"
   ]
  },
  {
   "cell_type": "markdown",
   "id": "0eb122ee-2761-41df-8d42-9cb08ba450b1",
   "metadata": {},
   "source": [
    "In 2019, the countries that ranked highest in terms of perceptions of corruption, listed from the most to the least perceptions of corruption, include Singapore, Rwanda, and Denmark."
   ]
  },
  {
   "cell_type": "code",
   "execution_count": 85,
   "id": "219ce2a4-cb31-4948-8a42-124a4617db39",
   "metadata": {},
   "outputs": [
    {
     "data": {
      "text/html": [
       "<div>\n",
       "<style scoped>\n",
       "    .dataframe tbody tr th:only-of-type {\n",
       "        vertical-align: middle;\n",
       "    }\n",
       "\n",
       "    .dataframe tbody tr th {\n",
       "        vertical-align: top;\n",
       "    }\n",
       "\n",
       "    .dataframe thead th {\n",
       "        text-align: right;\n",
       "    }\n",
       "</style>\n",
       "<table border=\"1\" class=\"dataframe\">\n",
       "  <thead>\n",
       "    <tr style=\"text-align: right;\">\n",
       "      <th></th>\n",
       "      <th>Country</th>\n",
       "      <th>Perceptions of corruption</th>\n",
       "    </tr>\n",
       "  </thead>\n",
       "  <tbody>\n",
       "    <tr>\n",
       "      <th>70</th>\n",
       "      <td>Moldova</td>\n",
       "      <td>0.000</td>\n",
       "    </tr>\n",
       "    <tr>\n",
       "      <th>96</th>\n",
       "      <td>Bulgaria</td>\n",
       "      <td>0.004</td>\n",
       "    </tr>\n",
       "    <tr>\n",
       "      <th>47</th>\n",
       "      <td>Romania</td>\n",
       "      <td>0.005</td>\n",
       "    </tr>\n",
       "  </tbody>\n",
       "</table>\n",
       "</div>"
      ],
      "text/plain": [
       "     Country  Perceptions of corruption\n",
       "70   Moldova                      0.000\n",
       "96  Bulgaria                      0.004\n",
       "47   Romania                      0.005"
      ]
     },
     "execution_count": 85,
     "metadata": {},
     "output_type": "execute_result"
    }
   ],
   "source": [
    "happiness19_df[col3_eda].nsmallest(n=3, columns='Perceptions of corruption')"
   ]
  },
  {
   "cell_type": "markdown",
   "id": "5d3b55b2-2c04-4e53-b6df-eb4e7ff6ad11",
   "metadata": {},
   "source": [
    "In 2019, the countries with the least perceptions of corruption, arranged from the lowest to the highest, are as follows: Moldova, Bulgaria, and Romania."
   ]
  },
  {
   "cell_type": "markdown",
   "id": "e34e161b-b7de-4095-a4eb-84e996387ffa",
   "metadata": {},
   "source": [
    "#### *Conclusion for Exploratory Question 3*"
   ]
  },
  {
   "cell_type": "markdown",
   "id": "8e60d0f3-e65d-4ee6-94fc-d22ed89fcbf7",
   "metadata": {},
   "source": [
    "In conclusion, an analysis of the highest and lowest perceptions of corruption in 2017, 2018, and 2019 revealed the following findings:\n",
    "\n",
    "In **2017** the data displayed a non-normal distribution, notably with a positively-skewed distribution. The top 3 countries with the highest perceptions of corruption for that year, ranked from highest to lowest, were **Singapore**, **Rwanda**, and **Qatar**. Conversely, the top 3 countries with the lowest perceptions of corruption in 2017, ordered from the lowest to the highest, were **Bosnia and Herzegovina**, **Romania**, and **Trinidad and Tobago**.\n",
    "\n",
    "Shifting to **2018**, the distribution also exhibited a non-normal distribution, specifically with a positively-skewed distribution. The leading 3 countries with the highest scores in 2018, in descending order, were **Singapore**, **Rwanda**, and **Denmark**. On the contrary, the top 3 countries with the lowest perceptions of corruption in 2018, in ascending order, were **Moldova**, **Bosnia and Herzegovina**, and **Romania**.\n",
    "\n",
    "In **2019**, a comparable distribution pattern appeared in both 2017 and 2018, showing a non-normal distribution that were notably positively-skewed distribution. The top 3 countries with the highest perceptions of corruption for that year, ranked from highest to lowest, were  **Singapore**, **Rwanda**, and **Denmark**. Conversely, the top 3 countries with the lowest perceptions of corruption in 2019, ordered from the lowest to the highest, were **Moldova**, **Bulgaria**, and **Romania**."
   ]
  },
  {
   "cell_type": "markdown",
   "id": "d2d3097e-a5ff-435c-997b-6281a13d212b",
   "metadata": {},
   "source": [
    "### **4. What is the relationship between Happiness Score and GDP (Gross Domestic Product) Per Capita in the years 2017, 2018, and 2019?**"
   ]
  },
  {
   "cell_type": "markdown",
   "id": "32fb0b35-4fcf-4315-86bf-f87972c1d1e7",
   "metadata": {},
   "source": [
    "The fourth exploratory question aims to identify the relationship between happiness score and the GDP per capita in the years 2017, 2018, and 2019.\n",
    "\n",
    "The dataset contains score of happiness stored as floating-point numbers in the **`Happiness Score`** column, and **`GDP per capita`**, represented as floating-point numbers, are found in the Relationship 1 column.\n",
    "\n",
    "For numerical representation, we employed a Pearson correlation **corr()** function to determine its relationship numerically. Furthermore, a scatter plot was also utilized using **scatter** function to examine the relationship between the two variables visually.\n",
    "\n"
   ]
  },
  {
   "cell_type": "markdown",
   "id": "d188b85c-679d-40d3-82bf-97a366e2bc6d",
   "metadata": {},
   "source": [
    "#### **a. 2017**"
   ]
  },
  {
   "cell_type": "code",
   "execution_count": 86,
   "id": "a9ec0a8f-0dbd-4eac-b257-2bcc45fa7099",
   "metadata": {},
   "outputs": [
    {
     "data": {
      "text/html": [
       "<div>\n",
       "<style scoped>\n",
       "    .dataframe tbody tr th:only-of-type {\n",
       "        vertical-align: middle;\n",
       "    }\n",
       "\n",
       "    .dataframe tbody tr th {\n",
       "        vertical-align: top;\n",
       "    }\n",
       "\n",
       "    .dataframe thead th {\n",
       "        text-align: right;\n",
       "    }\n",
       "</style>\n",
       "<table border=\"1\" class=\"dataframe\">\n",
       "  <thead>\n",
       "    <tr style=\"text-align: right;\">\n",
       "      <th></th>\n",
       "      <th>Happiness Score</th>\n",
       "      <th>GDP per capita</th>\n",
       "    </tr>\n",
       "  </thead>\n",
       "  <tbody>\n",
       "    <tr>\n",
       "      <th>Happiness Score</th>\n",
       "      <td>1.000000</td>\n",
       "      <td>0.814055</td>\n",
       "    </tr>\n",
       "    <tr>\n",
       "      <th>GDP per capita</th>\n",
       "      <td>0.814055</td>\n",
       "      <td>1.000000</td>\n",
       "    </tr>\n",
       "  </tbody>\n",
       "</table>\n",
       "</div>"
      ],
      "text/plain": [
       "                 Happiness Score  GDP per capita\n",
       "Happiness Score         1.000000        0.814055\n",
       "GDP per capita          0.814055        1.000000"
      ]
     },
     "execution_count": 86,
     "metadata": {},
     "output_type": "execute_result"
    }
   ],
   "source": [
    "hs_gdp = happiness17_df[['Happiness Score', 'GDP per capita']]\n",
    "hs_gdp.corr()"
   ]
  },
  {
   "cell_type": "code",
   "execution_count": 87,
   "id": "303f5c4f-6f3e-43b6-a0e4-f68ef1333b94",
   "metadata": {},
   "outputs": [
    {
     "data": {
      "text/plain": [
       "Text(0.5, 1.0, 'Relationship of Happiness Score and GDP Per Capita in 2017')"
      ]
     },
     "execution_count": 87,
     "metadata": {},
     "output_type": "execute_result"
    },
    {
     "data": {
      "image/png": "[encoded data removed]",
      "text/plain": [
       "<Figure size 640x480 with 1 Axes>"
      ]
     },
     "metadata": {},
     "output_type": "display_data"
    }
   ],
   "source": [
    "hs_gdp.plot.scatter(x='Happiness Score', y='GDP per capita', alpha=0.5)\n",
    "plt.title('Relationship of Happiness Score and GDP Per Capita in 2017')"
   ]
  },
  {
   "cell_type": "markdown",
   "id": "2dfa0318-e5e8-422d-babb-1cf7961e2c30",
   "metadata": {},
   "source": [
    "Based on the scatter plot the trend of the graph shows an upward slope from left to right in the year 2017. In addition, the correlation score generated by Pearson's R is 0.81 in the same year. This indicates that there is a strong positive linear relationship between Happiness Score and GDP per capita."
   ]
  },
  {
   "cell_type": "markdown",
   "id": "19815cbf-ed21-4591-b833-1b1459f5d73c",
   "metadata": {},
   "source": [
    "#### **b. 2018**"
   ]
  },
  {
   "cell_type": "code",
   "execution_count": 88,
   "id": "1ea09ae4-2aaa-49b6-9509-6bd7b2f3f25b",
   "metadata": {},
   "outputs": [
    {
     "data": {
      "text/html": [
       "<div>\n",
       "<style scoped>\n",
       "    .dataframe tbody tr th:only-of-type {\n",
       "        vertical-align: middle;\n",
       "    }\n",
       "\n",
       "    .dataframe tbody tr th {\n",
       "        vertical-align: top;\n",
       "    }\n",
       "\n",
       "    .dataframe thead th {\n",
       "        text-align: right;\n",
       "    }\n",
       "</style>\n",
       "<table border=\"1\" class=\"dataframe\">\n",
       "  <thead>\n",
       "    <tr style=\"text-align: right;\">\n",
       "      <th></th>\n",
       "      <th>Happiness Score</th>\n",
       "      <th>GDP per capita</th>\n",
       "    </tr>\n",
       "  </thead>\n",
       "  <tbody>\n",
       "    <tr>\n",
       "      <th>Happiness Score</th>\n",
       "      <td>1.000000</td>\n",
       "      <td>0.808913</td>\n",
       "    </tr>\n",
       "    <tr>\n",
       "      <th>GDP per capita</th>\n",
       "      <td>0.808913</td>\n",
       "      <td>1.000000</td>\n",
       "    </tr>\n",
       "  </tbody>\n",
       "</table>\n",
       "</div>"
      ],
      "text/plain": [
       "                 Happiness Score  GDP per capita\n",
       "Happiness Score         1.000000        0.808913\n",
       "GDP per capita          0.808913        1.000000"
      ]
     },
     "execution_count": 88,
     "metadata": {},
     "output_type": "execute_result"
    }
   ],
   "source": [
    "hs_gdp = happiness18_df[['Happiness Score', 'GDP per capita']]\n",
    "hs_gdp.corr()"
   ]
  },
  {
   "cell_type": "code",
   "execution_count": 89,
   "id": "9c58c3d9-2631-45a1-b7f7-ca1ccbb808d5",
   "metadata": {},
   "outputs": [
    {
     "data": {
      "text/plain": [
       "Text(0.5, 1.0, 'Relationship of Happiness Score and GDP Per Capita in 2018')"
      ]
     },
     "execution_count": 89,
     "metadata": {},
     "output_type": "execute_result"
    },
    {
     "data": {
      "image/png": "[encoded data removed]",
      "text/plain": [
       "<Figure size 640x480 with 1 Axes>"
      ]
     },
     "metadata": {},
     "output_type": "display_data"
    }
   ],
   "source": [
    "hs_gdp.plot.scatter(x='Happiness Score', y='GDP per capita', alpha=0.5)\n",
    "plt.title('Relationship of Happiness Score and GDP Per Capita in 2018')"
   ]
  },
  {
   "cell_type": "markdown",
   "id": "946e0363-e473-4bdb-8016-03e60325ba17",
   "metadata": {},
   "source": [
    "Based on the scatter plot the trend of the graph shows an upward slope from left to right in the year 2018. In addition, the correlation score generated by Pearson's R is 0.81 in the same year. This indicates that there is a strong positive linear relationship between Happiness Score and GDP per capita."
   ]
  },
  {
   "cell_type": "markdown",
   "id": "8cec4417-78df-4fd1-bbae-79b440e9074e",
   "metadata": {},
   "source": [
    "#### **c. 2019**"
   ]
  },
  {
   "cell_type": "code",
   "execution_count": 90,
   "id": "cf8dfad1-a5be-4d44-80f8-e542fc257e38",
   "metadata": {},
   "outputs": [
    {
     "data": {
      "text/html": [
       "<div>\n",
       "<style scoped>\n",
       "    .dataframe tbody tr th:only-of-type {\n",
       "        vertical-align: middle;\n",
       "    }\n",
       "\n",
       "    .dataframe tbody tr th {\n",
       "        vertical-align: top;\n",
       "    }\n",
       "\n",
       "    .dataframe thead th {\n",
       "        text-align: right;\n",
       "    }\n",
       "</style>\n",
       "<table border=\"1\" class=\"dataframe\">\n",
       "  <thead>\n",
       "    <tr style=\"text-align: right;\">\n",
       "      <th></th>\n",
       "      <th>Happiness Score</th>\n",
       "      <th>GDP per capita</th>\n",
       "    </tr>\n",
       "  </thead>\n",
       "  <tbody>\n",
       "    <tr>\n",
       "      <th>Happiness Score</th>\n",
       "      <td>1.000000</td>\n",
       "      <td>0.789732</td>\n",
       "    </tr>\n",
       "    <tr>\n",
       "      <th>GDP per capita</th>\n",
       "      <td>0.789732</td>\n",
       "      <td>1.000000</td>\n",
       "    </tr>\n",
       "  </tbody>\n",
       "</table>\n",
       "</div>"
      ],
      "text/plain": [
       "                 Happiness Score  GDP per capita\n",
       "Happiness Score         1.000000        0.789732\n",
       "GDP per capita          0.789732        1.000000"
      ]
     },
     "execution_count": 90,
     "metadata": {},
     "output_type": "execute_result"
    }
   ],
   "source": [
    "hs_gdp = happiness19_df[['Happiness Score', 'GDP per capita']]\n",
    "hs_gdp.corr()"
   ]
  },
  {
   "cell_type": "code",
   "execution_count": 91,
   "id": "21993464-72bb-430c-bd6c-e6a2ee7532f5",
   "metadata": {},
   "outputs": [
    {
     "data": {
      "text/plain": [
       "Text(0.5, 1.0, 'Relationship of Happiness Score and GDP Per Capita in 2019')"
      ]
     },
     "execution_count": 91,
     "metadata": {},
     "output_type": "execute_result"
    },
    {
     "data": {
      "image/png": "[encoded data removed]",
      "text/plain": [
       "<Figure size 640x480 with 1 Axes>"
      ]
     },
     "metadata": {},
     "output_type": "display_data"
    }
   ],
   "source": [
    "hs_gdp.plot.scatter(x='Happiness Score', y='GDP per capita', alpha=0.5)\n",
    "plt.title('Relationship of Happiness Score and GDP Per Capita in 2019')"
   ]
  },
  {
   "cell_type": "markdown",
   "id": "0e14a78b-a406-4274-942c-f013b6db6282",
   "metadata": {},
   "source": [
    "Based on the scatter plot the trend of the graph shows an upward slope from left to right in the year 2019. In addition, the correlation score generated by Pearson's R is 0.79 in the same year. This indicates that there is a strong positive linear relationship between Happiness Score and GDP per capita."
   ]
  },
  {
   "cell_type": "markdown",
   "id": "2ac0f20d-192b-494f-a89c-d8c7d3d89512",
   "metadata": {},
   "source": [
    "#### *Conclusion for Exploratory Question 4*"
   ]
  },
  {
   "cell_type": "markdown",
   "id": "7e33a37d-64ab-4e20-9705-49d3ef84d59a",
   "metadata": {},
   "source": [
    "In conclusion, an analysis of the relationship between the Happiness Score and GDP per Capita of the country in the years 2017, 2018, and 2019 revealed a **strong positive linear relationship** between the Happiness Score and GDP per capita in all three years. This indicates that as the Happiness Score increases, GDP per capita also increases."
   ]
  },
  {
   "cell_type": "markdown",
   "id": "d99ee4c7-f991-4513-97c2-a668df888c98",
   "metadata": {},
   "source": [
    "### **5. What is the relationship between Happiness Score and Perceptions of Corruption in the years 2017, 2018, and 2019?**"
   ]
  },
  {
   "cell_type": "markdown",
   "id": "59060319-1f78-424d-af9b-8a8da5ba020a",
   "metadata": {},
   "source": [
    "The fifth exploratory question aims to identify the relationship between happiness score and the perceptions of corruption in the years 2017, 2018, and 2019.\n",
    "\n",
    "The dataset contains a score of happiness stored as floating-point numbers in the **`Happiness Score`** column, and **`Perceptions of corruption`**, represented as floating-point numbers.\n",
    "\n",
    "To represent the data numerically, we utilized the Pearson correlation function **corr()** to quantitatively assess the relationship. Additionally, we employed the **scatter** function to visually explore the relationship between the two variables.\n",
    "\n"
   ]
  },
  {
   "cell_type": "markdown",
   "id": "81c47d88-656d-42a3-a30c-4981825a5bc9",
   "metadata": {},
   "source": [
    "#### **a. 2017**"
   ]
  },
  {
   "cell_type": "code",
   "execution_count": 92,
   "id": "8db3f4ff-5bad-4016-ad67-d8e7811b67fa",
   "metadata": {},
   "outputs": [
    {
     "data": {
      "text/html": [
       "<div>\n",
       "<style scoped>\n",
       "    .dataframe tbody tr th:only-of-type {\n",
       "        vertical-align: middle;\n",
       "    }\n",
       "\n",
       "    .dataframe tbody tr th {\n",
       "        vertical-align: top;\n",
       "    }\n",
       "\n",
       "    .dataframe thead th {\n",
       "        text-align: right;\n",
       "    }\n",
       "</style>\n",
       "<table border=\"1\" class=\"dataframe\">\n",
       "  <thead>\n",
       "    <tr style=\"text-align: right;\">\n",
       "      <th></th>\n",
       "      <th>Happiness Score</th>\n",
       "      <th>Perceptions of corruption</th>\n",
       "    </tr>\n",
       "  </thead>\n",
       "  <tbody>\n",
       "    <tr>\n",
       "      <th>Happiness Score</th>\n",
       "      <td>1.000000</td>\n",
       "      <td>0.420645</td>\n",
       "    </tr>\n",
       "    <tr>\n",
       "      <th>Perceptions of corruption</th>\n",
       "      <td>0.420645</td>\n",
       "      <td>1.000000</td>\n",
       "    </tr>\n",
       "  </tbody>\n",
       "</table>\n",
       "</div>"
      ],
      "text/plain": [
       "                           Happiness Score  Perceptions of corruption\n",
       "Happiness Score                   1.000000                   0.420645\n",
       "Perceptions of corruption         0.420645                   1.000000"
      ]
     },
     "execution_count": 92,
     "metadata": {},
     "output_type": "execute_result"
    }
   ],
   "source": [
    "hs_poc = happiness17_df[['Happiness Score', 'Perceptions of corruption']]\n",
    "hs_poc.corr()"
   ]
  },
  {
   "cell_type": "code",
   "execution_count": 93,
   "id": "bc62ddb3-d82f-4cef-8f48-bd972930091a",
   "metadata": {},
   "outputs": [
    {
     "data": {
      "text/plain": [
       "Text(0.5, 1.0, 'Relationship of Happiness Score and Perceptions of Corruption in 2017')"
      ]
     },
     "execution_count": 93,
     "metadata": {},
     "output_type": "execute_result"
    },
    {
     "data": {
      "image/png": "[encoded data removed]",
      "text/plain": [
       "<Figure size 640x480 with 1 Axes>"
      ]
     },
     "metadata": {},
     "output_type": "display_data"
    }
   ],
   "source": [
    "hs_poc.plot.scatter(x='Happiness Score', y='Perceptions of corruption', alpha=0.5)\n",
    "plt.title('Relationship of Happiness Score and Perceptions of Corruption in 2017')"
   ]
  },
  {
   "cell_type": "markdown",
   "id": "18827a7d-7026-4d10-b868-3c63aea8606b",
   "metadata": {},
   "source": [
    "Based on the scatter plot the trend of the graph shows an upward-sloping trend with some variability from left to right in the year 2017. In addition, the correlation score generated by Pearson's R is 0.42 in the same year. This indicates that there is a moderate positive relationship between happiness score and perceptions of corruption."
   ]
  },
  {
   "cell_type": "markdown",
   "id": "b80ab26f-90e8-4560-bfd9-8d8edb7f7ff7",
   "metadata": {},
   "source": [
    "#### **b. 2018**"
   ]
  },
  {
   "cell_type": "code",
   "execution_count": 94,
   "id": "df71ac39-5f7e-4e07-93cf-a2a2640a77d0",
   "metadata": {},
   "outputs": [
    {
     "data": {
      "text/html": [
       "<div>\n",
       "<style scoped>\n",
       "    .dataframe tbody tr th:only-of-type {\n",
       "        vertical-align: middle;\n",
       "    }\n",
       "\n",
       "    .dataframe tbody tr th {\n",
       "        vertical-align: top;\n",
       "    }\n",
       "\n",
       "    .dataframe thead th {\n",
       "        text-align: right;\n",
       "    }\n",
       "</style>\n",
       "<table border=\"1\" class=\"dataframe\">\n",
       "  <thead>\n",
       "    <tr style=\"text-align: right;\">\n",
       "      <th></th>\n",
       "      <th>Happiness Score</th>\n",
       "      <th>Perceptions of corruption</th>\n",
       "    </tr>\n",
       "  </thead>\n",
       "  <tbody>\n",
       "    <tr>\n",
       "      <th>Happiness Score</th>\n",
       "      <td>1.000000</td>\n",
       "      <td>0.408172</td>\n",
       "    </tr>\n",
       "    <tr>\n",
       "      <th>Perceptions of corruption</th>\n",
       "      <td>0.408172</td>\n",
       "      <td>1.000000</td>\n",
       "    </tr>\n",
       "  </tbody>\n",
       "</table>\n",
       "</div>"
      ],
      "text/plain": [
       "                           Happiness Score  Perceptions of corruption\n",
       "Happiness Score                   1.000000                   0.408172\n",
       "Perceptions of corruption         0.408172                   1.000000"
      ]
     },
     "execution_count": 94,
     "metadata": {},
     "output_type": "execute_result"
    }
   ],
   "source": [
    "hs_poc = happiness18_df[['Happiness Score', 'Perceptions of corruption']]\n",
    "hs_poc.corr()"
   ]
  },
  {
   "cell_type": "code",
   "execution_count": 95,
   "id": "78ad6633-5331-44fc-a360-18bc8dfae7a6",
   "metadata": {},
   "outputs": [
    {
     "data": {
      "text/plain": [
       "Text(0.5, 1.0, 'Relationship of Happiness Score and Perceptions of Corruption in 2018')"
      ]
     },
     "execution_count": 95,
     "metadata": {},
     "output_type": "execute_result"
    },
    {
     "data": {
      "image/png": "[encoded data removed]",
      "text/plain": [
       "<Figure size 640x480 with 1 Axes>"
      ]
     },
     "metadata": {},
     "output_type": "display_data"
    }
   ],
   "source": [
    "hs_poc.plot.scatter(x='Happiness Score', y='Perceptions of corruption', alpha=0.5)\n",
    "plt.title('Relationship of Happiness Score and Perceptions of Corruption in 2018')"
   ]
  },
  {
   "cell_type": "markdown",
   "id": "67444e61-a9c7-4df6-8136-8ba4bbb592c1",
   "metadata": {},
   "source": [
    "Based on the scatter plot the trend of the graph shows an upward-sloping trend with some variability from left to right in the year 2018. In addition, the correlation score generated by Pearson's R is 0.41 in the same year. This indicates that there is a moderate positive relationship between happiness score and perceptions of corruption."
   ]
  },
  {
   "cell_type": "markdown",
   "id": "404a3e79-7f32-49a8-a390-aceda4dbea78",
   "metadata": {},
   "source": [
    "#### **c. 2019**"
   ]
  },
  {
   "cell_type": "code",
   "execution_count": 96,
   "id": "beeb5ef2-3ef3-448b-8071-b05eb5bc95f5",
   "metadata": {},
   "outputs": [
    {
     "data": {
      "text/html": [
       "<div>\n",
       "<style scoped>\n",
       "    .dataframe tbody tr th:only-of-type {\n",
       "        vertical-align: middle;\n",
       "    }\n",
       "\n",
       "    .dataframe tbody tr th {\n",
       "        vertical-align: top;\n",
       "    }\n",
       "\n",
       "    .dataframe thead th {\n",
       "        text-align: right;\n",
       "    }\n",
       "</style>\n",
       "<table border=\"1\" class=\"dataframe\">\n",
       "  <thead>\n",
       "    <tr style=\"text-align: right;\">\n",
       "      <th></th>\n",
       "      <th>Happiness Score</th>\n",
       "      <th>Perceptions of corruption</th>\n",
       "    </tr>\n",
       "  </thead>\n",
       "  <tbody>\n",
       "    <tr>\n",
       "      <th>Happiness Score</th>\n",
       "      <td>1.000000</td>\n",
       "      <td>0.392327</td>\n",
       "    </tr>\n",
       "    <tr>\n",
       "      <th>Perceptions of corruption</th>\n",
       "      <td>0.392327</td>\n",
       "      <td>1.000000</td>\n",
       "    </tr>\n",
       "  </tbody>\n",
       "</table>\n",
       "</div>"
      ],
      "text/plain": [
       "                           Happiness Score  Perceptions of corruption\n",
       "Happiness Score                   1.000000                   0.392327\n",
       "Perceptions of corruption         0.392327                   1.000000"
      ]
     },
     "execution_count": 96,
     "metadata": {},
     "output_type": "execute_result"
    }
   ],
   "source": [
    "hs_poc = happiness19_df[['Happiness Score', 'Perceptions of corruption']]\n",
    "hs_poc.corr()"
   ]
  },
  {
   "cell_type": "code",
   "execution_count": 97,
   "id": "572a4eb6-dac4-4ccf-bf86-145484a51332",
   "metadata": {},
   "outputs": [
    {
     "data": {
      "text/plain": [
       "Text(0.5, 1.0, 'Relationship of Happiness Score and Perceptions of Corruption in 2019')"
      ]
     },
     "execution_count": 97,
     "metadata": {},
     "output_type": "execute_result"
    },
    {
     "data": {
      "image/png": "[encoded data removed]",
      "text/plain": [
       "<Figure size 640x480 with 1 Axes>"
      ]
     },
     "metadata": {},
     "output_type": "display_data"
    }
   ],
   "source": [
    "hs_poc.plot.scatter(x='Happiness Score', y='Perceptions of corruption', alpha=0.5)\n",
    "plt.title('Relationship of Happiness Score and Perceptions of Corruption in 2019')"
   ]
  },
  {
   "cell_type": "markdown",
   "id": "fdfe1910-93fe-41ed-a918-5d68a324fe37",
   "metadata": {},
   "source": [
    "Based on the scatter plot the trend of the graph shows an upward-sloping trend with some variability from left to right in the year 2019. In addition, the correlation score generated by Pearson's R is 0.39 in the same year. This indicates that there is a moderate positive relationship between happiness score and perceptions of corruption."
   ]
  },
  {
   "cell_type": "markdown",
   "id": "ab63447f-4f6c-409b-bb17-50eb4dcf208d",
   "metadata": {},
   "source": [
    "#### *Conclusion for Exploratory Question 5*"
   ]
  },
  {
   "cell_type": "markdown",
   "id": "e72df951-e4ff-4bd9-9ab6-c5c01e28119c",
   "metadata": {},
   "source": [
    "In conclusion, an analysis of the relationship between the Happiness Score and Perceptions of corruption of the country in the years 2017, 2018, and 2019 revealed a **moderate positive linear relationship** between the Happiness Score and Perceptions of corruption in all three years. This implies that, in general, nations with higher happiness scores tend to show somewhat greater perceptions of corruption, while countries with lower happiness scores tend to demonstrate somewhat lower perceptions of corruption. It is crucial to acknowledge that correlation does not establish causation, and there may be other factors influencing this relationship."
   ]
  },
  {
   "cell_type": "markdown",
   "id": "f00d630a-9873-44c6-b9a9-3eabb18dd978",
   "metadata": {},
   "source": [
    "## **V. Research Question**"
   ]
  },
  {
   "cell_type": "markdown",
   "id": "abe977d2-4ad3-489b-8cdc-a4bdfade4923",
   "metadata": {},
   "source": [
    "##### Is there a significant difference in the happiness score and GDP per capita among the countries from 2017, 2018, and 2019\n",
    "\n",
    "This research question arises from the need to comprehend how the Happiness Score of a country correlates with its GDP per Capita. \n",
    "\n",
    "Based on the preceding exploratory data analysis, a **strong positive linear relationship** between the **Happiness Score and GDP per Capita** is evident. While there is a **moderate positive linear relationship** between the Happiness Score and the Perceptions of Corruption, the group decided to omit the aforementioned because compared to the GDP per Capita, the relationship proves to be lower.\n",
    "\n",
    "This research sheds light on whether economic well-being exerts a more substantial influence on overall happiness. As highlighted in the study by [Garces et al., 2019](https://doi.org/10.4236/oalib.1105455), there is already a body of research recognizing the intricate link between happiness and economic development indicators. However, the field is dynamic, and contextual factors can differ between datasets. \n",
    "\n",
    "Therefore, conducting this study is valuable, offering a comprehensive and tailored examination of the relationships between a country's Happiness Score and GDP per Capita. These insights are directly applicable to diverse contexts, inform policy decisions, and contribute to our understanding of the multifaceted factors shaping human well-being. This study not only guides the development of economic and anti-corruption policies but also advances academic comprehension of the complex aspects influencing human well-being, ultimately benefiting governments, organizations, and societies striving to enhance the overall quality of life. Exploring the potential difference in the strength of the relationship between a country's Happiness Score and GDP per Capita is crucial for informing policy decisions, resource allocation, and understanding the dynamics of societal well-being.\n",
    "\n",
    "The question also falls within the scope of the dataset since it was formulated with the acquired results from the above exploratory data analysis in mind, ultimately only utilizing the variables and data collected from the chosen World Happiness Report 2017, 2018, and 2019 datasets. "
   ]
  },
  {
   "cell_type": "markdown",
   "id": "fefdcf9a-6411-4086-af8d-7f2332f4cf53",
   "metadata": {},
   "source": [
    "# Project Phase II"
   ]
  },
  {
   "cell_type": "markdown",
   "id": "76274f1e-2698-4ede-b628-0f2441378ec8",
   "metadata": {},
   "source": [
    "## Data Modeling\n",
    "\n",
    "The data modeling technique employed in this analysis is k-means clustering. Using the World Happiness dataset for the years 2017, 2018, and 2019, the group focused on the **`'Happiness Score'`** and **`'GDP per Capita'`** features. These features were chosen to explore the correlation between a country's well-being, as indicated by the happiness score, and its economic strength measured through GDP per capita.\n",
    "\n",
    "The clustering process involved several steps, starting with the utilization of the **Elbow Method** to determine the optimal number of clusters. Moreover, the **K-means algorithm** was applied to group the data points based on these variables. The application of the K-means algorithm facilitated the representation of these clusters in the form of a 3D scatter plot, offering a visual understanding of how countries are grouped based on their **`Happiness Score`** and **`GDP per Capita`**."
   ]
  },
  {
   "cell_type": "markdown",
   "id": "62b92888-6297-4a9e-bc13-321656554ee6",
   "metadata": {},
   "source": [
    "## A. Elbow Method\n",
    "\n",
    "This notebook includes the functions to determine the optimal number of clusters in a dataset using the **Elbow Method**, which identifies the appropriate number of cluster for K-means clustering.\n",
    "\n",
    "Function **find_optimal_k()** represents the elbow method, which finds the optimal number of clusters within a dataset. On the other hand, the **optimise_k_means()** determines the K-means clustering with varying numbers of clusters to create an elbow plot. The provided code employs these functions to determine and visualize the optimal number of clusters for happiness datasets from 2017, 2018, and 2019, providing insights into the clustering structure based on the **`Happiness Score`** and **`GDP per Capita`** features."
   ]
  },
  {
   "cell_type": "code",
   "execution_count": 98,
   "id": "efa5673a-4cc2-42c2-b74a-3b30f9e5cba6",
   "metadata": {},
   "outputs": [],
   "source": [
    "# import needed modules\n",
    "from sklearn.cluster import KMeans\n",
    "import matplotlib.pyplot as plt\n",
    "from kneed import KneeLocator\n",
    "import plotly.express as px"
   ]
  },
  {
   "cell_type": "code",
   "execution_count": 99,
   "id": "bb3a6c7f-a2cf-483a-ad82-7523f53f4745",
   "metadata": {
    "scrolled": true
   },
   "outputs": [],
   "source": [
    "def find_optimal_k(X, max_k=10):\n",
    "    inertias = []\n",
    "\n",
    "    for k in range(1, max_k + 1):\n",
    "        kmeans = KMeans(n_clusters=k, random_state=42, n_init=10)\n",
    "        kmeans.fit(X)\n",
    "        inertias.append(kmeans.inertia_)\n",
    "\n",
    "    # using the KneeLocator from the kneed library to find the elbow point\n",
    "    knee_locator = KneeLocator(range(1, max_k + 1), inertias, curve='convex', direction='decreasing')\n",
    "    optimal_k = knee_locator.elbow\n",
    "\n",
    "    return optimal_k\n",
    "\n",
    "def optimise_k_means(data, max_k, year):\n",
    "    features = ['Happiness Score', 'GDP per capita']\n",
    "    subset_data = data[features].copy()\n",
    "\n",
    "    optimal_k = find_optimal_k(subset_data.values, max_k)\n",
    "\n",
    "    means = []\n",
    "    inertias = []\n",
    "\n",
    "    for k in range(1, max_k):\n",
    "        kmeans = KMeans(n_clusters=k, n_init=10)\n",
    "        kmeans.fit(subset_data)\n",
    "        means.append(k)\n",
    "        inertias.append(kmeans.inertia_)\n",
    "\n",
    "    # plotting of elbow method\n",
    "    plt.plot(means, inertias, 'o-')\n",
    "    plt.title(f'Elbow Plot - Year {year}')\n",
    "    plt.xlabel(f'Number of Clusters | Optimal = {optimal_k}')\n",
    "    plt.ylabel('Inertia')\n",
    "    plt.grid(True)"
   ]
  },
  {
   "cell_type": "code",
   "execution_count": 100,
   "id": "db46773d-6f09-4cf1-a195-fa617340a2c7",
   "metadata": {},
   "outputs": [
    {
     "data": {
      "image/png": "[encoded data removed]",
      "text/plain": [
       "<Figure size 1500x500 with 3 Axes>"
      ]
     },
     "metadata": {},
     "output_type": "display_data"
    }
   ],
   "source": [
    "max_clusters = 10\n",
    "plt.figure(figsize=(15, 5))\n",
    "    \n",
    "# Plot for 2017\n",
    "plt.subplot(1, 3, 1)\n",
    "optimise_k_means(happiness17_df,max_clusters, 2017)\n",
    "    \n",
    "# Plot for 2018\n",
    "plt.subplot(1, 3, 2)\n",
    "optimise_k_means(happiness18_df,max_clusters, 2018)\n",
    "    \n",
    "# Plot for 2019\n",
    "plt.subplot(1, 3, 3)\n",
    "optimise_k_means(happiness19_df,max_clusters, 2019)\n",
    "\n",
    "plt.tight_layout()\n",
    "plt.show()"
   ]
  },
  {
   "cell_type": "markdown",
   "id": "93766599-429b-496b-abe9-a9abf281a338",
   "metadata": {},
   "source": [
    "Based on the elbow plots for the years 2017, 2018, and 2019 above, the noticeable 'elbow' occurs at the point corresponding to **3 clusters**. This suggests that the optimal number of clusters for implementing the k-means algorithm is 3."
   ]
  },
  {
   "cell_type": "markdown",
   "id": "c9ecd77d-3c2f-45ac-be3d-6c7fb72bd015",
   "metadata": {},
   "source": [
    "## B. K-means Clustering\n",
    "\n",
    "After getting the optimized number of clusters, the group will use the **K-means algorithm and 3D scatter plot for better visualization.**\r\n",
    "Specifically, it provides a visual representation of the dataset's clustering structures based on the specified features **`Happiness Score`** and **`GDP per Capita`** for a particular year. The 3D scatter plot helps visualize how the data points are grouped into clusters, aiding in the interpretation of the clustering results.s."
   ]
  },
  {
   "cell_type": "code",
   "execution_count": 151,
   "id": "7e0a4ac3-672f-471f-9c15-9df9bbd61e7b",
   "metadata": {},
   "outputs": [],
   "source": [
    "import math\n",
    "def kmeans_and_visualization(data, year, max_k=10):\n",
    "    features = ['Happiness Score', 'GDP per capita']\n",
    "    subset_data = data[features].copy()\n",
    "\n",
    "    optimal_k = find_optimal_k(subset_data.values, max_k)\n",
    "\n",
    "    # Perform k-means clustering with the optimal number of clusters\n",
    "    kmeans = KMeans(n_clusters=optimal_k, n_init=10, random_state=42)\n",
    "    subset_data['Cluster'] = kmeans.fit_predict(subset_data)\n",
    "\n",
    "    # Add the 'Country' column back for display in hover_data\n",
    "    subset_data['Country'] = data['Country']\n",
    "\n",
    "    # 3D Scatter Plot with hover data\n",
    "    fig = px.scatter_3d(subset_data, x='Happiness Score', y='GDP per capita', z='Cluster',\n",
    "                        color='Cluster', opacity=0.7,\n",
    "                        title=f'K-means Clustering - Year {year}',\n",
    "                        labels={'Happiness Score': 'Happiness Score', 'GDP per capita': 'GDP per Capita'},\n",
    "                        hover_data=['Country'])\n",
    "    \n",
    "    fig.show()"
   ]
  },
  {
   "cell_type": "code",
   "execution_count": 152,
   "id": "833a7a08-5b07-4cee-9dc9-5d991d5b0f20",
   "metadata": {
    "scrolled": true
   },
   "outputs": [
    {
     "data": {
      "application/vnd.plotly.v1+json": {
       "config": {
        "plotlyServerURL": "https://plot.ly"
       },
       "data": [
        {
         "customdata": [
          [
           "Norway"
          ],
          [
           "Denmark"
          ],
          [
           "Iceland"
          ],
          [
           "Switzerland"
          ],
          [
           "Finland"
          ],
          [
           "Netherlands"
          ],
          [
           "Canada"
          ],
          [
           "New Zealand"
          ],
          [
           "Sweden"
          ],
          [
           "Australia"
          ],
          [
           "Israel"
          ],
          [
           "Costa Rica"
          ],
          [
           "Austria"
          ],
          [
           "United States"
          ],
          [
           "Ireland"
          ],
          [
           "Germany"
          ],
          [
           "Belgium"
          ],
          [
           "Luxembourg"
          ],
          [
           "United Kingdom"
          ],
          [
           "Chile"
          ],
          [
           "Brazil"
          ],
          [
           "Czech Republic"
          ],
          [
           "Argentina"
          ],
          [
           "Mexico"
          ],
          [
           "Singapore"
          ],
          [
           "Malta"
          ],
          [
           "Uruguay"
          ],
          [
           "Guatemala"
          ],
          [
           "Panama"
          ],
          [
           "France"
          ],
          [
           "Thailand"
          ],
          [
           "Taiwan"
          ],
          [
           "Spain"
          ],
          [
           "Qatar"
          ],
          [
           "Colombia"
          ],
          [
           "Saudi Arabia"
          ],
          [
           "Trinidad and Tobago"
          ],
          [
           "Kuwait"
          ],
          [
           "Slovakia"
          ],
          [
           "Bahrain"
          ],
          [
           "Malaysia"
          ],
          [
           "Nicaragua"
          ],
          [
           "Ecuador"
          ],
          [
           "El Salvador"
          ],
          [
           "Poland"
          ],
          [
           "Uzbekistan"
          ],
          [
           "Italy"
          ],
          [
           "Russia"
          ],
          [
           "Japan"
          ],
          [
           "Lithuania"
          ],
          [
           "Algeria"
          ],
          [
           "Latvia"
          ],
          [
           "South Korea"
          ],
          [
           "Moldova"
          ],
          [
           "Romania"
          ],
          [
           "Bolivia"
          ],
          [
           "Turkmenistan"
          ],
          [
           "Kazakhstan"
          ],
          [
           "Northern Cyprus"
          ],
          [
           "Slovenia"
          ],
          [
           "Peru"
          ],
          [
           "Mauritius"
          ],
          [
           "Cyprus"
          ],
          [
           "Estonia"
          ],
          [
           "Belarus"
          ],
          [
           "Libya"
          ],
          [
           "Turkey"
          ],
          [
           "Paraguay"
          ],
          [
           "Hong Kong"
          ],
          [
           "Philippines"
          ],
          [
           "Serbia"
          ],
          [
           "Jordan"
          ],
          [
           "Hungary"
          ],
          [
           "Jamaica"
          ],
          [
           "Croatia"
          ],
          [
           "Kosovo"
          ],
          [
           "China"
          ],
          [
           "Pakistan"
          ],
          [
           "Indonesia"
          ],
          [
           "Venezuela"
          ],
          [
           "Montenegro"
          ],
          [
           "Morocco"
          ],
          [
           "Azerbaijan"
          ],
          [
           "Dominican Republic"
          ],
          [
           "Greece"
          ],
          [
           "Lebanon"
          ],
          [
           "Portugal"
          ],
          [
           "Bosnia and Herzegovina"
          ],
          [
           "Honduras"
          ],
          [
           "North Macedonia"
          ],
          [
           "Somalia"
          ],
          [
           "Vietnam"
          ],
          [
           "Nigeria"
          ],
          [
           "Tajikistan"
          ],
          [
           "Bhutan"
          ],
          [
           "Kyrgyzstan"
          ],
          [
           "Nepal"
          ],
          [
           "Mongolia"
          ],
          [
           "South Africa"
          ],
          [
           "Tunisia"
          ],
          [
           "Palestinian Territories"
          ],
          [
           "Egypt"
          ],
          [
           "Bulgaria"
          ],
          [
           "Sierra Leone"
          ],
          [
           "Cameroon"
          ],
          [
           "Iran"
          ],
          [
           "Albania"
          ],
          [
           "Bangladesh"
          ],
          [
           "Namibia"
          ],
          [
           "Kenya"
          ],
          [
           "Mozambique"
          ],
          [
           "Myanmar"
          ],
          [
           "Senegal"
          ],
          [
           "Zambia"
          ],
          [
           "Iraq"
          ],
          [
           "Gabon"
          ],
          [
           "Ethiopia"
          ],
          [
           "Sri Lanka"
          ],
          [
           "Armenia"
          ],
          [
           "India"
          ],
          [
           "Mauritania"
          ],
          [
           "Congo (Brazzaville)"
          ],
          [
           "Georgia"
          ],
          [
           "Congo (Kinshasa)"
          ],
          [
           "Mali"
          ],
          [
           "Ivory Coast"
          ],
          [
           "Cambodia"
          ],
          [
           "Ghana"
          ],
          [
           "Ukraine"
          ],
          [
           "Uganda"
          ],
          [
           "Burkina Faso"
          ],
          [
           "Niger"
          ],
          [
           "Malawi"
          ],
          [
           "Chad"
          ],
          [
           "Zimbabwe"
          ],
          [
           "Lesotho"
          ],
          [
           "Afghanistan"
          ],
          [
           "Botswana"
          ],
          [
           "Benin"
          ],
          [
           "Madagascar"
          ],
          [
           "Haiti"
          ],
          [
           "Yemen"
          ],
          [
           "South Sudan"
          ],
          [
           "Liberia"
          ],
          [
           "Guinea"
          ],
          [
           "Togo"
          ],
          [
           "Rwanda"
          ],
          [
           "Syria"
          ],
          [
           "Tanzania"
          ],
          [
           "Burundi"
          ],
          [
           "Central African Republic"
          ]
         ],
         "hovertemplate": "Happiness Score=%{x}<br>GDP per Capita=%{y}<br>Cluster=%{marker.color}<br>Country=%{customdata[0]}<extra></extra>",
         "legendgroup": "",
         "marker": {
          "color": [
           0,
           0,
           0,
           0,
           0,
           0,
           0,
           0,
           0,
           0,
           0,
           0,
           0,
           0,
           0,
           0,
           0,
           0,
           0,
           0,
           0,
           0,
           0,
           0,
           0,
           0,
           0,
           0,
           0,
           0,
           0,
           0,
           0,
           0,
           0,
           0,
           0,
           0,
           0,
           0,
           1,
           1,
           1,
           1,
           1,
           1,
           1,
           1,
           1,
           1,
           1,
           1,
           1,
           1,
           1,
           1,
           1,
           1,
           1,
           1,
           1,
           1,
           1,
           1,
           1,
           1,
           1,
           1,
           1,
           1,
           1,
           1,
           1,
           1,
           1,
           1,
           1,
           1,
           1,
           1,
           1,
           1,
           1,
           1,
           1,
           1,
           1,
           1,
           1,
           1,
           1,
           1,
           1,
           1,
           1,
           1,
           1,
           1,
           1,
           1,
           1,
           1,
           1,
           2,
           2,
           1,
           2,
           2,
           2,
           2,
           2,
           2,
           2,
           2,
           2,
           2,
           2,
           2,
           2,
           2,
           2,
           2,
           2,
           2,
           2,
           2,
           2,
           2,
           2,
           2,
           2,
           2,
           2,
           2,
           2,
           2,
           2,
           2,
           2,
           2,
           2,
           2,
           2,
           2,
           2,
           2,
           2,
           2,
           2,
           2,
           2
          ],
          "coloraxis": "coloraxis",
          "opacity": 0.7,
          "symbol": "circle"
         },
         "mode": "markers",
         "name": "",
         "scene": "scene",
         "showlegend": false,
         "type": "scatter3d",
         "x": [
          7.53700017929077,
          7.52199983596802,
          7.50400018692017,
          7.49399995803833,
          7.4689998626709,
          7.3769998550415,
          7.31599998474121,
          7.31400012969971,
          7.28399991989136,
          7.28399991989136,
          7.21299982070923,
          7.0789999961853,
          7.00600004196167,
          6.99300003051758,
          6.97700023651123,
          6.95100021362305,
          6.89099979400635,
          6.86299991607666,
          6.71400022506714,
          6.65199995040894,
          6.63500022888184,
          6.60900020599365,
          6.59899997711182,
          6.57800006866455,
          6.57200002670288,
          6.52699995040894,
          6.4539999961853,
          6.4539999961853,
          6.4520001411438,
          6.44199991226196,
          6.42399978637695,
          6.42199993133545,
          6.40299987792969,
          6.375,
          6.35699987411499,
          6.3439998626709,
          6.16800022125244,
          6.10500001907349,
          6.09800004959106,
          6.08699989318848,
          6.08400011062622,
          6.07100009918213,
          6.00799989700317,
          6.00299978256226,
          5.97300004959106,
          5.97100019454956,
          5.96400022506714,
          5.96299982070923,
          5.92000007629395,
          5.90199995040894,
          5.87200021743774,
          5.84999990463257,
          5.83799982070923,
          5.83799982070923,
          5.82499980926514,
          5.82299995422363,
          5.82200002670288,
          5.81899976730347,
          5.80999994277954,
          5.75799989700317,
          5.71500015258789,
          5.62900018692017,
          5.62099981307983,
          5.61100006103516,
          5.56899976730347,
          5.52500009536743,
          5.5,
          5.49300003051758,
          5.47200012207031,
          5.42999982833862,
          5.39499998092651,
          5.33599996566772,
          5.32399988174438,
          5.31099987030029,
          5.29300022125244,
          5.27899980545044,
          5.27299976348877,
          5.26900005340576,
          5.26200008392334,
          5.25,
          5.23699998855591,
          5.2350001335144,
          5.23400020599365,
          5.23000001907349,
          5.22700023651123,
          5.22499990463257,
          5.19500017166138,
          5.18200016021729,
          5.18100023269653,
          5.17500019073486,
          5.15100002288818,
          5.07399988174438,
          5.07399988174438,
          5.04099988937378,
          5.01100015640259,
          5.00400018692017,
          4.96199989318848,
          4.95499992370605,
          4.8289999961853,
          4.80499982833862,
          4.77500009536743,
          4.7350001335144,
          4.71400022506714,
          4.70900011062622,
          4.69500017166138,
          4.69199991226196,
          4.64400005340576,
          4.60799980163574,
          4.57399988174438,
          4.55299997329712,
          4.55000019073486,
          4.54500007629395,
          4.53499984741211,
          4.51399993896484,
          4.49700021743774,
          4.46500015258789,
          4.46000003814697,
          4.44000005722046,
          4.37599992752075,
          4.31500005722046,
          4.29199981689453,
          4.29099988937378,
          4.28599977493286,
          4.28000020980835,
          4.19000005722046,
          4.17999982833862,
          4.16800022125244,
          4.11999988555908,
          4.09600019454956,
          4.08099985122681,
          4.03200006484985,
          4.02799987792969,
          3.97000002861023,
          3.93600010871887,
          3.875,
          3.80800008773804,
          3.79399991035461,
          3.76600003242493,
          3.65700006484985,
          3.64400005340576,
          3.6029999256134,
          3.59299993515015,
          3.59100008010864,
          3.53299999237061,
          3.50699996948242,
          3.49499988555908,
          3.47099995613098,
          3.46199989318848,
          3.34899997711182,
          2.90499997138977,
          2.69300007820129
         ],
         "y": [
          1.61646318435669,
          1.48238301277161,
          1.480633020401,
          1.56497955322266,
          1.44357192516327,
          1.50394463539124,
          1.47920441627502,
          1.40570604801178,
          1.49438726902008,
          1.484414935112,
          1.37538242340088,
          1.10970628261566,
          1.48709726333618,
          1.54625928401947,
          1.53570663928986,
          1.48792338371277,
          1.46378076076508,
          1.74194359779358,
          1.44163393974304,
          1.25278460979462,
          1.10735321044922,
          1.35268235206604,
          1.18529546260834,
          1.15318381786346,
          1.69227766990662,
          1.34327983856201,
          1.21755969524384,
          0.872001945972443,
          1.23374843597412,
          1.43092346191406,
          1.12786877155304,
          1.43362653255463,
          1.38439786434174,
          1.87076568603516,
          1.07062232494354,
          1.53062355518341,
          1.36135590076447,
          1.63295245170593,
          1.32539355754852,
          1.48841226100922,
          1.29121541976929,
          0.737299203872681,
          1.00082039833069,
          0.909784495830536,
          1.29178786277771,
          0.786441087722778,
          1.39506661891937,
          1.28177809715271,
          1.41691517829895,
          1.31458234786987,
          1.09186446666718,
          1.26074862480164,
          1.40167844295502,
          0.728870630264282,
          1.21768391132355,
          0.833756566047668,
          1.13077676296234,
          1.28455626964569,
          1.3469113111496,
          1.3412059545517,
          1.03522527217865,
          1.18939554691315,
          1.35593807697296,
          1.32087934017181,
          1.15655755996704,
          1.10180306434631,
          1.19827437400818,
          0.932537317276001,
          1.55167484283447,
          0.85769921541214,
          1.06931757926941,
          0.991012394428253,
          1.2860119342804,
          0.925579309463501,
          1.22255623340607,
          0.951484382152557,
          1.08116579055786,
          0.72688353061676,
          0.995538592338562,
          1.12843120098114,
          1.12112903594971,
          0.878114581108093,
          1.15360176563263,
          1.07937383651733,
          1.28948748111725,
          1.07498753070831,
          1.3151752948761,
          0.982409417629242,
          0.730573117733002,
          1.06457793712616,
          0.0226431842893362,
          0.788547575473785,
          0.783756256103516,
          0.524713635444641,
          0.885416388511658,
          0.596220076084137,
          0.479820191860199,
          1.02723586559296,
          1.05469870567322,
          1.00726580619812,
          0.716249227523804,
          0.989701807498932,
          1.1614590883255,
          0.36842092871666,
          0.564305365085602,
          1.15687310695648,
          0.996192753314972,
          0.586682975292206,
          0.964434325695038,
          0.560479462146759,
          0.234305649995804,
          0.367110550403595,
          0.479309022426605,
          0.636406779289246,
          1.10271048545837,
          1.1982102394104,
          0.339233845472336,
          1.00985014438629,
          0.900596737861633,
          0.792221248149872,
          0.648457288742065,
          0.808964252471924,
          0.950612664222717,
          0.0921023488044739,
          0.476180493831635,
          0.603048920631409,
          0.601765096187592,
          0.667224824428558,
          0.89465194940567,
          0.381430715322495,
          0.3502277135849,
          0.161925330758095,
          0.233442038297653,
          0.438012987375259,
          0.375846534967422,
          0.521021246910095,
          0.401477217674255,
          1.12209415435791,
          0.431085407733917,
          0.305808693170547,
          0.368610262870789,
          0.591683447360992,
          0.39724862575531,
          0.119041793048382,
          0.244549930095673,
          0.305444717407227,
          0.368745893239975,
          0.777153134346008,
          0.511135876178741,
          0.091622568666935,
          0
         ],
         "z": [
          0,
          0,
          0,
          0,
          0,
          0,
          0,
          0,
          0,
          0,
          0,
          0,
          0,
          0,
          0,
          0,
          0,
          0,
          0,
          0,
          0,
          0,
          0,
          0,
          0,
          0,
          0,
          0,
          0,
          0,
          0,
          0,
          0,
          0,
          0,
          0,
          0,
          0,
          0,
          0,
          1,
          1,
          1,
          1,
          1,
          1,
          1,
          1,
          1,
          1,
          1,
          1,
          1,
          1,
          1,
          1,
          1,
          1,
          1,
          1,
          1,
          1,
          1,
          1,
          1,
          1,
          1,
          1,
          1,
          1,
          1,
          1,
          1,
          1,
          1,
          1,
          1,
          1,
          1,
          1,
          1,
          1,
          1,
          1,
          1,
          1,
          1,
          1,
          1,
          1,
          1,
          1,
          1,
          1,
          1,
          1,
          1,
          1,
          1,
          1,
          1,
          1,
          1,
          2,
          2,
          1,
          2,
          2,
          2,
          2,
          2,
          2,
          2,
          2,
          2,
          2,
          2,
          2,
          2,
          2,
          2,
          2,
          2,
          2,
          2,
          2,
          2,
          2,
          2,
          2,
          2,
          2,
          2,
          2,
          2,
          2,
          2,
          2,
          2,
          2,
          2,
          2,
          2,
          2,
          2,
          2,
          2,
          2,
          2,
          2,
          2
         ]
        }
       ],
       "layout": {
        "autosize": true,
        "coloraxis": {
         "colorbar": {
          "title": {
           "text": "Cluster"
          }
         },
         "colorscale": [
          [
           0,
           "#0d0887"
          ],
          [
           0.1111111111111111,
           "#46039f"
          ],
          [
           0.2222222222222222,
           "#7201a8"
          ],
          [
           0.3333333333333333,
           "#9c179e"
          ],
          [
           0.4444444444444444,
           "#bd3786"
          ],
          [
           0.5555555555555556,
           "#d8576b"
          ],
          [
           0.6666666666666666,
           "#ed7953"
          ],
          [
           0.7777777777777778,
           "#fb9f3a"
          ],
          [
           0.8888888888888888,
           "#fdca26"
          ],
          [
           1,
           "#f0f921"
          ]
         ]
        },
        "legend": {
         "tracegroupgap": 0
        },
        "scene": {
         "aspectmode": "auto",
         "aspectratio": {
          "x": 1.8441077740833998,
          "y": 0.712199313193651,
          "z": 0.7613987347641201
         },
         "camera": {
          "center": {
           "x": 0,
           "y": 0,
           "z": 0
          },
          "eye": {
           "x": 1.4013732518519009,
           "y": -1.0984647419455398,
           "z": 1.231676994871849
          },
          "projection": {
           "type": "perspective"
          },
          "up": {
           "x": 0,
           "y": 0,
           "z": 1
          }
         },
         "domain": {
          "x": [
           0,
           1
          ],
          "y": [
           0,
           1
          ]
         },
         "xaxis": {
          "title": {
           "text": "Happiness Score"
          },
          "type": "linear"
         },
         "yaxis": {
          "title": {
           "text": "GDP per Capita"
          },
          "type": "linear"
         },
         "zaxis": {
          "title": {
           "text": "Cluster"
          },
          "type": "linear"
         }
        },
        "template": {
         "data": {
          "bar": [
           {
            "error_x": {
             "color": "#2a3f5f"
            },
            "error_y": {
             "color": "#2a3f5f"
            },
            "marker": {
             "line": {
              "color": "#E5ECF6",
              "width": 0.5
             },
             "pattern": {
              "fillmode": "overlay",
              "size": 10,
              "solidity": 0.2
             }
            },
            "type": "bar"
           }
          ],
          "barpolar": [
           {
            "marker": {
             "line": {
              "color": "#E5ECF6",
              "width": 0.5
             },
             "pattern": {
              "fillmode": "overlay",
              "size": 10,
              "solidity": 0.2
             }
            },
            "type": "barpolar"
           }
          ],
          "carpet": [
           {
            "aaxis": {
             "endlinecolor": "#2a3f5f",
             "gridcolor": "white",
             "linecolor": "white",
             "minorgridcolor": "white",
             "startlinecolor": "#2a3f5f"
            },
            "baxis": {
             "endlinecolor": "#2a3f5f",
             "gridcolor": "white",
             "linecolor": "white",
             "minorgridcolor": "white",
             "startlinecolor": "#2a3f5f"
            },
            "type": "carpet"
           }
          ],
          "choropleth": [
           {
            "colorbar": {
             "outlinewidth": 0,
             "ticks": ""
            },
            "type": "choropleth"
           }
          ],
          "contour": [
           {
            "colorbar": {
             "outlinewidth": 0,
             "ticks": ""
            },
            "colorscale": [
             [
              0,
              "#0d0887"
             ],
             [
              0.1111111111111111,
              "#46039f"
             ],
             [
              0.2222222222222222,
              "#7201a8"
             ],
             [
              0.3333333333333333,
              "#9c179e"
             ],
             [
              0.4444444444444444,
              "#bd3786"
             ],
             [
              0.5555555555555556,
              "#d8576b"
             ],
             [
              0.6666666666666666,
              "#ed7953"
             ],
             [
              0.7777777777777778,
              "#fb9f3a"
             ],
             [
              0.8888888888888888,
              "#fdca26"
             ],
             [
              1,
              "#f0f921"
             ]
            ],
            "type": "contour"
           }
          ],
          "contourcarpet": [
           {
            "colorbar": {
             "outlinewidth": 0,
             "ticks": ""
            },
            "type": "contourcarpet"
           }
          ],
          "heatmap": [
           {
            "colorbar": {
             "outlinewidth": 0,
             "ticks": ""
            },
            "colorscale": [
             [
              0,
              "#0d0887"
             ],
             [
              0.1111111111111111,
              "#46039f"
             ],
             [
              0.2222222222222222,
              "#7201a8"
             ],
             [
              0.3333333333333333,
              "#9c179e"
             ],
             [
              0.4444444444444444,
              "#bd3786"
             ],
             [
              0.5555555555555556,
              "#d8576b"
             ],
             [
              0.6666666666666666,
              "#ed7953"
             ],
             [
              0.7777777777777778,
              "#fb9f3a"
             ],
             [
              0.8888888888888888,
              "#fdca26"
             ],
             [
              1,
              "#f0f921"
             ]
            ],
            "type": "heatmap"
           }
          ],
          "heatmapgl": [
           {
            "colorbar": {
             "outlinewidth": 0,
             "ticks": ""
            },
            "colorscale": [
             [
              0,
              "#0d0887"
             ],
             [
              0.1111111111111111,
              "#46039f"
             ],
             [
              0.2222222222222222,
              "#7201a8"
             ],
             [
              0.3333333333333333,
              "#9c179e"
             ],
             [
              0.4444444444444444,
              "#bd3786"
             ],
             [
              0.5555555555555556,
              "#d8576b"
             ],
             [
              0.6666666666666666,
              "#ed7953"
             ],
             [
              0.7777777777777778,
              "#fb9f3a"
             ],
             [
              0.8888888888888888,
              "#fdca26"
             ],
             [
              1,
              "#f0f921"
             ]
            ],
            "type": "heatmapgl"
           }
          ],
          "histogram": [
           {
            "marker": {
             "pattern": {
              "fillmode": "overlay",
              "size": 10,
              "solidity": 0.2
             }
            },
            "type": "histogram"
           }
          ],
          "histogram2d": [
           {
            "colorbar": {
             "outlinewidth": 0,
             "ticks": ""
            },
            "colorscale": [
             [
              0,
              "#0d0887"
             ],
             [
              0.1111111111111111,
              "#46039f"
             ],
             [
              0.2222222222222222,
              "#7201a8"
             ],
             [
              0.3333333333333333,
              "#9c179e"
             ],
             [
              0.4444444444444444,
              "#bd3786"
             ],
             [
              0.5555555555555556,
              "#d8576b"
             ],
             [
              0.6666666666666666,
              "#ed7953"
             ],
             [
              0.7777777777777778,
              "#fb9f3a"
             ],
             [
              0.8888888888888888,
              "#fdca26"
             ],
             [
              1,
              "#f0f921"
             ]
            ],
            "type": "histogram2d"
           }
          ],
          "histogram2dcontour": [
           {
            "colorbar": {
             "outlinewidth": 0,
             "ticks": ""
            },
            "colorscale": [
             [
              0,
              "#0d0887"
             ],
             [
              0.1111111111111111,
              "#46039f"
             ],
             [
              0.2222222222222222,
              "#7201a8"
             ],
             [
              0.3333333333333333,
              "#9c179e"
             ],
             [
              0.4444444444444444,
              "#bd3786"
             ],
             [
              0.5555555555555556,
              "#d8576b"
             ],
             [
              0.6666666666666666,
              "#ed7953"
             ],
             [
              0.7777777777777778,
              "#fb9f3a"
             ],
             [
              0.8888888888888888,
              "#fdca26"
             ],
             [
              1,
              "#f0f921"
             ]
            ],
            "type": "histogram2dcontour"
           }
          ],
          "mesh3d": [
           {
            "colorbar": {
             "outlinewidth": 0,
             "ticks": ""
            },
            "type": "mesh3d"
           }
          ],
          "parcoords": [
           {
            "line": {
             "colorbar": {
              "outlinewidth": 0,
              "ticks": ""
             }
            },
            "type": "parcoords"
           }
          ],
          "pie": [
           {
            "automargin": true,
            "type": "pie"
           }
          ],
          "scatter": [
           {
            "fillpattern": {
             "fillmode": "overlay",
             "size": 10,
             "solidity": 0.2
            },
            "type": "scatter"
           }
          ],
          "scatter3d": [
           {
            "line": {
             "colorbar": {
              "outlinewidth": 0,
              "ticks": ""
             }
            },
            "marker": {
             "colorbar": {
              "outlinewidth": 0,
              "ticks": ""
             }
            },
            "type": "scatter3d"
           }
          ],
          "scattercarpet": [
           {
            "marker": {
             "colorbar": {
              "outlinewidth": 0,
              "ticks": ""
             }
            },
            "type": "scattercarpet"
           }
          ],
          "scattergeo": [
           {
            "marker": {
             "colorbar": {
              "outlinewidth": 0,
              "ticks": ""
             }
            },
            "type": "scattergeo"
           }
          ],
          "scattergl": [
           {
            "marker": {
             "colorbar": {
              "outlinewidth": 0,
              "ticks": ""
             }
            },
            "type": "scattergl"
           }
          ],
          "scattermapbox": [
           {
            "marker": {
             "colorbar": {
              "outlinewidth": 0,
              "ticks": ""
             }
            },
            "type": "scattermapbox"
           }
          ],
          "scatterpolar": [
           {
            "marker": {
             "colorbar": {
              "outlinewidth": 0,
              "ticks": ""
             }
            },
            "type": "scatterpolar"
           }
          ],
          "scatterpolargl": [
           {
            "marker": {
             "colorbar": {
              "outlinewidth": 0,
              "ticks": ""
             }
            },
            "type": "scatterpolargl"
           }
          ],
          "scatterternary": [
           {
            "marker": {
             "colorbar": {
              "outlinewidth": 0,
              "ticks": ""
             }
            },
            "type": "scatterternary"
           }
          ],
          "surface": [
           {
            "colorbar": {
             "outlinewidth": 0,
             "ticks": ""
            },
            "colorscale": [
             [
              0,
              "#0d0887"
             ],
             [
              0.1111111111111111,
              "#46039f"
             ],
             [
              0.2222222222222222,
              "#7201a8"
             ],
             [
              0.3333333333333333,
              "#9c179e"
             ],
             [
              0.4444444444444444,
              "#bd3786"
             ],
             [
              0.5555555555555556,
              "#d8576b"
             ],
             [
              0.6666666666666666,
              "#ed7953"
             ],
             [
              0.7777777777777778,
              "#fb9f3a"
             ],
             [
              0.8888888888888888,
              "#fdca26"
             ],
             [
              1,
              "#f0f921"
             ]
            ],
            "type": "surface"
           }
          ],
          "table": [
           {
            "cells": {
             "fill": {
              "color": "#EBF0F8"
             },
             "line": {
              "color": "white"
             }
            },
            "header": {
             "fill": {
              "color": "#C8D4E3"
             },
             "line": {
              "color": "white"
             }
            },
            "type": "table"
           }
          ]
         },
         "layout": {
          "annotationdefaults": {
           "arrowcolor": "#2a3f5f",
           "arrowhead": 0,
           "arrowwidth": 1
          },
          "autotypenumbers": "strict",
          "coloraxis": {
           "colorbar": {
            "outlinewidth": 0,
            "ticks": ""
           }
          },
          "colorscale": {
           "diverging": [
            [
             0,
             "#8e0152"
            ],
            [
             0.1,
             "#c51b7d"
            ],
            [
             0.2,
             "#de77ae"
            ],
            [
             0.3,
             "#f1b6da"
            ],
            [
             0.4,
             "#fde0ef"
            ],
            [
             0.5,
             "#f7f7f7"
            ],
            [
             0.6,
             "#e6f5d0"
            ],
            [
             0.7,
             "#b8e186"
            ],
            [
             0.8,
             "#7fbc41"
            ],
            [
             0.9,
             "#4d9221"
            ],
            [
             1,
             "#276419"
            ]
           ],
           "sequential": [
            [
             0,
             "#0d0887"
            ],
            [
             0.1111111111111111,
             "#46039f"
            ],
            [
             0.2222222222222222,
             "#7201a8"
            ],
            [
             0.3333333333333333,
             "#9c179e"
            ],
            [
             0.4444444444444444,
             "#bd3786"
            ],
            [
             0.5555555555555556,
             "#d8576b"
            ],
            [
             0.6666666666666666,
             "#ed7953"
            ],
            [
             0.7777777777777778,
             "#fb9f3a"
            ],
            [
             0.8888888888888888,
             "#fdca26"
            ],
            [
             1,
             "#f0f921"
            ]
           ],
           "sequentialminus": [
            [
             0,
             "#0d0887"
            ],
            [
             0.1111111111111111,
             "#46039f"
            ],
            [
             0.2222222222222222,
             "#7201a8"
            ],
            [
             0.3333333333333333,
             "#9c179e"
            ],
            [
             0.4444444444444444,
             "#bd3786"
            ],
            [
             0.5555555555555556,
             "#d8576b"
            ],
            [
             0.6666666666666666,
             "#ed7953"
            ],
            [
             0.7777777777777778,
             "#fb9f3a"
            ],
            [
             0.8888888888888888,
             "#fdca26"
            ],
            [
             1,
             "#f0f921"
            ]
           ]
          },
          "colorway": [
           "#636efa",
           "#EF553B",
           "#00cc96",
           "#ab63fa",
           "#FFA15A",
           "#19d3f3",
           "#FF6692",
           "#B6E880",
           "#FF97FF",
           "#FECB52"
          ],
          "font": {
           "color": "#2a3f5f"
          },
          "geo": {
           "bgcolor": "white",
           "lakecolor": "white",
           "landcolor": "#E5ECF6",
           "showlakes": true,
           "showland": true,
           "subunitcolor": "white"
          },
          "hoverlabel": {
           "align": "left"
          },
          "hovermode": "closest",
          "mapbox": {
           "style": "light"
          },
          "paper_bgcolor": "white",
          "plot_bgcolor": "#E5ECF6",
          "polar": {
           "angularaxis": {
            "gridcolor": "white",
            "linecolor": "white",
            "ticks": ""
           },
           "bgcolor": "#E5ECF6",
           "radialaxis": {
            "gridcolor": "white",
            "linecolor": "white",
            "ticks": ""
           }
          },
          "scene": {
           "xaxis": {
            "backgroundcolor": "#E5ECF6",
            "gridcolor": "white",
            "gridwidth": 2,
            "linecolor": "white",
            "showbackground": true,
            "ticks": "",
            "zerolinecolor": "white"
           },
           "yaxis": {
            "backgroundcolor": "#E5ECF6",
            "gridcolor": "white",
            "gridwidth": 2,
            "linecolor": "white",
            "showbackground": true,
            "ticks": "",
            "zerolinecolor": "white"
           },
           "zaxis": {
            "backgroundcolor": "#E5ECF6",
            "gridcolor": "white",
            "gridwidth": 2,
            "linecolor": "white",
            "showbackground": true,
            "ticks": "",
            "zerolinecolor": "white"
           }
          },
          "shapedefaults": {
           "line": {
            "color": "#2a3f5f"
           }
          },
          "ternary": {
           "aaxis": {
            "gridcolor": "white",
            "linecolor": "white",
            "ticks": ""
           },
           "baxis": {
            "gridcolor": "white",
            "linecolor": "white",
            "ticks": ""
           },
           "bgcolor": "#E5ECF6",
           "caxis": {
            "gridcolor": "white",
            "linecolor": "white",
            "ticks": ""
           }
          },
          "title": {
           "x": 0.05
          },
          "xaxis": {
           "automargin": true,
           "gridcolor": "white",
           "linecolor": "white",
           "ticks": "",
           "title": {
            "standoff": 15
           },
           "zerolinecolor": "white",
           "zerolinewidth": 2
          },
          "yaxis": {
           "automargin": true,
           "gridcolor": "white",
           "linecolor": "white",
           "ticks": "",
           "title": {
            "standoff": 15
           },
           "zerolinecolor": "white",
           "zerolinewidth": 2
          }
         }
        },
        "title": {
         "text": "K-means Clustering - Year 2017"
        }
       }
      },
      "text/html": [
       "<div>                            <div id=\"1f02cddb-dbbe-4aca-b91b-8f062bdf7f71\" class=\"plotly-graph-div\" style=\"height:525px; width:100%;\"></div>            <script type=\"text/javascript\">                require([\"plotly\"], function(Plotly) {                    window.PLOTLYENV=window.PLOTLYENV || {};                                    if (document.getElementById(\"1f02cddb-dbbe-4aca-b91b-8f062bdf7f71\")) {                    Plotly.newPlot(                        \"1f02cddb-dbbe-4aca-b91b-8f062bdf7f71\",                        [{\"customdata\":[[\"Norway\"],[\"Denmark\"],[\"Iceland\"],[\"Switzerland\"],[\"Finland\"],[\"Netherlands\"],[\"Canada\"],[\"New Zealand\"],[\"Sweden\"],[\"Australia\"],[\"Israel\"],[\"Costa Rica\"],[\"Austria\"],[\"United States\"],[\"Ireland\"],[\"Germany\"],[\"Belgium\"],[\"Luxembourg\"],[\"United Kingdom\"],[\"Chile\"],[\"Brazil\"],[\"Czech Republic\"],[\"Argentina\"],[\"Mexico\"],[\"Singapore\"],[\"Malta\"],[\"Uruguay\"],[\"Guatemala\"],[\"Panama\"],[\"France\"],[\"Thailand\"],[\"Taiwan\"],[\"Spain\"],[\"Qatar\"],[\"Colombia\"],[\"Saudi Arabia\"],[\"Trinidad and Tobago\"],[\"Kuwait\"],[\"Slovakia\"],[\"Bahrain\"],[\"Malaysia\"],[\"Nicaragua\"],[\"Ecuador\"],[\"El Salvador\"],[\"Poland\"],[\"Uzbekistan\"],[\"Italy\"],[\"Russia\"],[\"Japan\"],[\"Lithuania\"],[\"Algeria\"],[\"Latvia\"],[\"South Korea\"],[\"Moldova\"],[\"Romania\"],[\"Bolivia\"],[\"Turkmenistan\"],[\"Kazakhstan\"],[\"Northern Cyprus\"],[\"Slovenia\"],[\"Peru\"],[\"Mauritius\"],[\"Cyprus\"],[\"Estonia\"],[\"Belarus\"],[\"Libya\"],[\"Turkey\"],[\"Paraguay\"],[\"Hong Kong\"],[\"Philippines\"],[\"Serbia\"],[\"Jordan\"],[\"Hungary\"],[\"Jamaica\"],[\"Croatia\"],[\"Kosovo\"],[\"China\"],[\"Pakistan\"],[\"Indonesia\"],[\"Venezuela\"],[\"Montenegro\"],[\"Morocco\"],[\"Azerbaijan\"],[\"Dominican Republic\"],[\"Greece\"],[\"Lebanon\"],[\"Portugal\"],[\"Bosnia and Herzegovina\"],[\"Honduras\"],[\"North Macedonia\"],[\"Somalia\"],[\"Vietnam\"],[\"Nigeria\"],[\"Tajikistan\"],[\"Bhutan\"],[\"Kyrgyzstan\"],[\"Nepal\"],[\"Mongolia\"],[\"South Africa\"],[\"Tunisia\"],[\"Palestinian Territories\"],[\"Egypt\"],[\"Bulgaria\"],[\"Sierra Leone\"],[\"Cameroon\"],[\"Iran\"],[\"Albania\"],[\"Bangladesh\"],[\"Namibia\"],[\"Kenya\"],[\"Mozambique\"],[\"Myanmar\"],[\"Senegal\"],[\"Zambia\"],[\"Iraq\"],[\"Gabon\"],[\"Ethiopia\"],[\"Sri Lanka\"],[\"Armenia\"],[\"India\"],[\"Mauritania\"],[\"Congo (Brazzaville)\"],[\"Georgia\"],[\"Congo (Kinshasa)\"],[\"Mali\"],[\"Ivory Coast\"],[\"Cambodia\"],[\"Ghana\"],[\"Ukraine\"],[\"Uganda\"],[\"Burkina Faso\"],[\"Niger\"],[\"Malawi\"],[\"Chad\"],[\"Zimbabwe\"],[\"Lesotho\"],[\"Afghanistan\"],[\"Botswana\"],[\"Benin\"],[\"Madagascar\"],[\"Haiti\"],[\"Yemen\"],[\"South Sudan\"],[\"Liberia\"],[\"Guinea\"],[\"Togo\"],[\"Rwanda\"],[\"Syria\"],[\"Tanzania\"],[\"Burundi\"],[\"Central African Republic\"]],\"hovertemplate\":\"Happiness Score=%{x}\\u003cbr\\u003eGDP per Capita=%{y}\\u003cbr\\u003eCluster=%{marker.color}\\u003cbr\\u003eCountry=%{customdata[0]}\\u003cextra\\u003e\\u003c\\u002fextra\\u003e\",\"legendgroup\":\"\",\"marker\":{\"color\":[0,0,0,0,0,0,0,0,0,0,0,0,0,0,0,0,0,0,0,0,0,0,0,0,0,0,0,0,0,0,0,0,0,0,0,0,0,0,0,0,1,1,1,1,1,1,1,1,1,1,1,1,1,1,1,1,1,1,1,1,1,1,1,1,1,1,1,1,1,1,1,1,1,1,1,1,1,1,1,1,1,1,1,1,1,1,1,1,1,1,1,1,1,1,1,1,1,1,1,1,1,1,1,2,2,1,2,2,2,2,2,2,2,2,2,2,2,2,2,2,2,2,2,2,2,2,2,2,2,2,2,2,2,2,2,2,2,2,2,2,2,2,2,2,2,2,2,2,2,2,2],\"coloraxis\":\"coloraxis\",\"opacity\":0.7,\"symbol\":\"circle\"},\"mode\":\"markers\",\"name\":\"\",\"scene\":\"scene\",\"showlegend\":false,\"x\":[7.53700017929077,7.52199983596802,7.50400018692017,7.49399995803833,7.4689998626709,7.3769998550415,7.31599998474121,7.31400012969971,7.28399991989136,7.28399991989136,7.21299982070923,7.0789999961853,7.00600004196167,6.99300003051758,6.97700023651123,6.95100021362305,6.89099979400635,6.86299991607666,6.71400022506714,6.65199995040894,6.63500022888184,6.60900020599365,6.59899997711182,6.57800006866455,6.57200002670288,6.52699995040894,6.4539999961853,6.4539999961853,6.4520001411438,6.44199991226196,6.42399978637695,6.42199993133545,6.40299987792969,6.375,6.35699987411499,6.3439998626709,6.16800022125244,6.10500001907349,6.09800004959106,6.08699989318848,6.08400011062622,6.07100009918213,6.00799989700317,6.00299978256226,5.97300004959106,5.97100019454956,5.96400022506714,5.96299982070923,5.92000007629395,5.90199995040894,5.87200021743774,5.84999990463257,5.83799982070923,5.83799982070923,5.82499980926514,5.82299995422363,5.82200002670288,5.81899976730347,5.80999994277954,5.75799989700317,5.71500015258789,5.62900018692017,5.62099981307983,5.61100006103516,5.56899976730347,5.52500009536743,5.5,5.49300003051758,5.47200012207031,5.42999982833862,5.39499998092651,5.33599996566772,5.32399988174438,5.31099987030029,5.29300022125244,5.27899980545044,5.27299976348877,5.26900005340576,5.26200008392334,5.25,5.23699998855591,5.2350001335144,5.23400020599365,5.23000001907349,5.22700023651123,5.22499990463257,5.19500017166138,5.18200016021729,5.18100023269653,5.17500019073486,5.15100002288818,5.07399988174438,5.07399988174438,5.04099988937378,5.01100015640259,5.00400018692017,4.96199989318848,4.95499992370605,4.8289999961853,4.80499982833862,4.77500009536743,4.7350001335144,4.71400022506714,4.70900011062622,4.69500017166138,4.69199991226196,4.64400005340576,4.60799980163574,4.57399988174438,4.55299997329712,4.55000019073486,4.54500007629395,4.53499984741211,4.51399993896484,4.49700021743774,4.46500015258789,4.46000003814697,4.44000005722046,4.37599992752075,4.31500005722046,4.29199981689453,4.29099988937378,4.28599977493286,4.28000020980835,4.19000005722046,4.17999982833862,4.16800022125244,4.11999988555908,4.09600019454956,4.08099985122681,4.03200006484985,4.02799987792969,3.97000002861023,3.93600010871887,3.875,3.80800008773804,3.79399991035461,3.76600003242493,3.65700006484985,3.64400005340576,3.6029999256134,3.59299993515015,3.59100008010864,3.53299999237061,3.50699996948242,3.49499988555908,3.47099995613098,3.46199989318848,3.34899997711182,2.90499997138977,2.69300007820129],\"y\":[1.61646318435669,1.48238301277161,1.480633020401,1.56497955322266,1.44357192516327,1.50394463539124,1.47920441627502,1.40570604801178,1.49438726902008,1.484414935112,1.37538242340088,1.10970628261566,1.48709726333618,1.54625928401947,1.53570663928986,1.48792338371277,1.46378076076508,1.74194359779358,1.44163393974304,1.25278460979462,1.10735321044922,1.35268235206604,1.18529546260834,1.15318381786346,1.69227766990662,1.34327983856201,1.21755969524384,0.872001945972443,1.23374843597412,1.43092346191406,1.12786877155304,1.43362653255463,1.38439786434174,1.87076568603516,1.07062232494354,1.53062355518341,1.36135590076447,1.63295245170593,1.32539355754852,1.48841226100922,1.29121541976929,0.737299203872681,1.00082039833069,0.909784495830536,1.29178786277771,0.786441087722778,1.39506661891937,1.28177809715271,1.41691517829895,1.31458234786987,1.09186446666718,1.26074862480164,1.40167844295502,0.728870630264282,1.21768391132355,0.833756566047668,1.13077676296234,1.28455626964569,1.3469113111496,1.3412059545517,1.03522527217865,1.18939554691315,1.35593807697296,1.32087934017181,1.15655755996704,1.10180306434631,1.19827437400818,0.932537317276001,1.55167484283447,0.85769921541214,1.06931757926941,0.991012394428253,1.2860119342804,0.925579309463501,1.22255623340607,0.951484382152557,1.08116579055786,0.72688353061676,0.995538592338562,1.12843120098114,1.12112903594971,0.878114581108093,1.15360176563263,1.07937383651733,1.28948748111725,1.07498753070831,1.3151752948761,0.982409417629242,0.730573117733002,1.06457793712616,0.0226431842893362,0.788547575473785,0.783756256103516,0.524713635444641,0.885416388511658,0.596220076084137,0.479820191860199,1.02723586559296,1.05469870567322,1.00726580619812,0.716249227523804,0.989701807498932,1.1614590883255,0.36842092871666,0.564305365085602,1.15687310695648,0.996192753314972,0.586682975292206,0.964434325695038,0.560479462146759,0.234305649995804,0.367110550403595,0.479309022426605,0.636406779289246,1.10271048545837,1.1982102394104,0.339233845472336,1.00985014438629,0.900596737861633,0.792221248149872,0.648457288742065,0.808964252471924,0.950612664222717,0.0921023488044739,0.476180493831635,0.603048920631409,0.601765096187592,0.667224824428558,0.89465194940567,0.381430715322495,0.3502277135849,0.161925330758095,0.233442038297653,0.438012987375259,0.375846534967422,0.521021246910095,0.401477217674255,1.12209415435791,0.431085407733917,0.305808693170547,0.368610262870789,0.591683447360992,0.39724862575531,0.119041793048382,0.244549930095673,0.305444717407227,0.368745893239975,0.777153134346008,0.511135876178741,0.091622568666935,0.0],\"z\":[0,0,0,0,0,0,0,0,0,0,0,0,0,0,0,0,0,0,0,0,0,0,0,0,0,0,0,0,0,0,0,0,0,0,0,0,0,0,0,0,1,1,1,1,1,1,1,1,1,1,1,1,1,1,1,1,1,1,1,1,1,1,1,1,1,1,1,1,1,1,1,1,1,1,1,1,1,1,1,1,1,1,1,1,1,1,1,1,1,1,1,1,1,1,1,1,1,1,1,1,1,1,1,2,2,1,2,2,2,2,2,2,2,2,2,2,2,2,2,2,2,2,2,2,2,2,2,2,2,2,2,2,2,2,2,2,2,2,2,2,2,2,2,2,2,2,2,2,2,2,2],\"type\":\"scatter3d\"}],                        {\"template\":{\"data\":{\"histogram2dcontour\":[{\"type\":\"histogram2dcontour\",\"colorbar\":{\"outlinewidth\":0,\"ticks\":\"\"},\"colorscale\":[[0.0,\"#0d0887\"],[0.1111111111111111,\"#46039f\"],[0.2222222222222222,\"#7201a8\"],[0.3333333333333333,\"#9c179e\"],[0.4444444444444444,\"#bd3786\"],[0.5555555555555556,\"#d8576b\"],[0.6666666666666666,\"#ed7953\"],[0.7777777777777778,\"#fb9f3a\"],[0.8888888888888888,\"#fdca26\"],[1.0,\"#f0f921\"]]}],\"choropleth\":[{\"type\":\"choropleth\",\"colorbar\":{\"outlinewidth\":0,\"ticks\":\"\"}}],\"histogram2d\":[{\"type\":\"histogram2d\",\"colorbar\":{\"outlinewidth\":0,\"ticks\":\"\"},\"colorscale\":[[0.0,\"#0d0887\"],[0.1111111111111111,\"#46039f\"],[0.2222222222222222,\"#7201a8\"],[0.3333333333333333,\"#9c179e\"],[0.4444444444444444,\"#bd3786\"],[0.5555555555555556,\"#d8576b\"],[0.6666666666666666,\"#ed7953\"],[0.7777777777777778,\"#fb9f3a\"],[0.8888888888888888,\"#fdca26\"],[1.0,\"#f0f921\"]]}],\"heatmap\":[{\"type\":\"heatmap\",\"colorbar\":{\"outlinewidth\":0,\"ticks\":\"\"},\"colorscale\":[[0.0,\"#0d0887\"],[0.1111111111111111,\"#46039f\"],[0.2222222222222222,\"#7201a8\"],[0.3333333333333333,\"#9c179e\"],[0.4444444444444444,\"#bd3786\"],[0.5555555555555556,\"#d8576b\"],[0.6666666666666666,\"#ed7953\"],[0.7777777777777778,\"#fb9f3a\"],[0.8888888888888888,\"#fdca26\"],[1.0,\"#f0f921\"]]}],\"heatmapgl\":[{\"type\":\"heatmapgl\",\"colorbar\":{\"outlinewidth\":0,\"ticks\":\"\"},\"colorscale\":[[0.0,\"#0d0887\"],[0.1111111111111111,\"#46039f\"],[0.2222222222222222,\"#7201a8\"],[0.3333333333333333,\"#9c179e\"],[0.4444444444444444,\"#bd3786\"],[0.5555555555555556,\"#d8576b\"],[0.6666666666666666,\"#ed7953\"],[0.7777777777777778,\"#fb9f3a\"],[0.8888888888888888,\"#fdca26\"],[1.0,\"#f0f921\"]]}],\"contourcarpet\":[{\"type\":\"contourcarpet\",\"colorbar\":{\"outlinewidth\":0,\"ticks\":\"\"}}],\"contour\":[{\"type\":\"contour\",\"colorbar\":{\"outlinewidth\":0,\"ticks\":\"\"},\"colorscale\":[[0.0,\"#0d0887\"],[0.1111111111111111,\"#46039f\"],[0.2222222222222222,\"#7201a8\"],[0.3333333333333333,\"#9c179e\"],[0.4444444444444444,\"#bd3786\"],[0.5555555555555556,\"#d8576b\"],[0.6666666666666666,\"#ed7953\"],[0.7777777777777778,\"#fb9f3a\"],[0.8888888888888888,\"#fdca26\"],[1.0,\"#f0f921\"]]}],\"surface\":[{\"type\":\"surface\",\"colorbar\":{\"outlinewidth\":0,\"ticks\":\"\"},\"colorscale\":[[0.0,\"#0d0887\"],[0.1111111111111111,\"#46039f\"],[0.2222222222222222,\"#7201a8\"],[0.3333333333333333,\"#9c179e\"],[0.4444444444444444,\"#bd3786\"],[0.5555555555555556,\"#d8576b\"],[0.6666666666666666,\"#ed7953\"],[0.7777777777777778,\"#fb9f3a\"],[0.8888888888888888,\"#fdca26\"],[1.0,\"#f0f921\"]]}],\"mesh3d\":[{\"type\":\"mesh3d\",\"colorbar\":{\"outlinewidth\":0,\"ticks\":\"\"}}],\"scatter\":[{\"fillpattern\":{\"fillmode\":\"overlay\",\"size\":10,\"solidity\":0.2},\"type\":\"scatter\"}],\"parcoords\":[{\"type\":\"parcoords\",\"line\":{\"colorbar\":{\"outlinewidth\":0,\"ticks\":\"\"}}}],\"scatterpolargl\":[{\"type\":\"scatterpolargl\",\"marker\":{\"colorbar\":{\"outlinewidth\":0,\"ticks\":\"\"}}}],\"bar\":[{\"error_x\":{\"color\":\"#2a3f5f\"},\"error_y\":{\"color\":\"#2a3f5f\"},\"marker\":{\"line\":{\"color\":\"#E5ECF6\",\"width\":0.5},\"pattern\":{\"fillmode\":\"overlay\",\"size\":10,\"solidity\":0.2}},\"type\":\"bar\"}],\"scattergeo\":[{\"type\":\"scattergeo\",\"marker\":{\"colorbar\":{\"outlinewidth\":0,\"ticks\":\"\"}}}],\"scatterpolar\":[{\"type\":\"scatterpolar\",\"marker\":{\"colorbar\":{\"outlinewidth\":0,\"ticks\":\"\"}}}],\"histogram\":[{\"marker\":{\"pattern\":{\"fillmode\":\"overlay\",\"size\":10,\"solidity\":0.2}},\"type\":\"histogram\"}],\"scattergl\":[{\"type\":\"scattergl\",\"marker\":{\"colorbar\":{\"outlinewidth\":0,\"ticks\":\"\"}}}],\"scatter3d\":[{\"type\":\"scatter3d\",\"line\":{\"colorbar\":{\"outlinewidth\":0,\"ticks\":\"\"}},\"marker\":{\"colorbar\":{\"outlinewidth\":0,\"ticks\":\"\"}}}],\"scattermapbox\":[{\"type\":\"scattermapbox\",\"marker\":{\"colorbar\":{\"outlinewidth\":0,\"ticks\":\"\"}}}],\"scatterternary\":[{\"type\":\"scatterternary\",\"marker\":{\"colorbar\":{\"outlinewidth\":0,\"ticks\":\"\"}}}],\"scattercarpet\":[{\"type\":\"scattercarpet\",\"marker\":{\"colorbar\":{\"outlinewidth\":0,\"ticks\":\"\"}}}],\"carpet\":[{\"aaxis\":{\"endlinecolor\":\"#2a3f5f\",\"gridcolor\":\"white\",\"linecolor\":\"white\",\"minorgridcolor\":\"white\",\"startlinecolor\":\"#2a3f5f\"},\"baxis\":{\"endlinecolor\":\"#2a3f5f\",\"gridcolor\":\"white\",\"linecolor\":\"white\",\"minorgridcolor\":\"white\",\"startlinecolor\":\"#2a3f5f\"},\"type\":\"carpet\"}],\"table\":[{\"cells\":{\"fill\":{\"color\":\"#EBF0F8\"},\"line\":{\"color\":\"white\"}},\"header\":{\"fill\":{\"color\":\"#C8D4E3\"},\"line\":{\"color\":\"white\"}},\"type\":\"table\"}],\"barpolar\":[{\"marker\":{\"line\":{\"color\":\"#E5ECF6\",\"width\":0.5},\"pattern\":{\"fillmode\":\"overlay\",\"size\":10,\"solidity\":0.2}},\"type\":\"barpolar\"}],\"pie\":[{\"automargin\":true,\"type\":\"pie\"}]},\"layout\":{\"autotypenumbers\":\"strict\",\"colorway\":[\"#636efa\",\"#EF553B\",\"#00cc96\",\"#ab63fa\",\"#FFA15A\",\"#19d3f3\",\"#FF6692\",\"#B6E880\",\"#FF97FF\",\"#FECB52\"],\"font\":{\"color\":\"#2a3f5f\"},\"hovermode\":\"closest\",\"hoverlabel\":{\"align\":\"left\"},\"paper_bgcolor\":\"white\",\"plot_bgcolor\":\"#E5ECF6\",\"polar\":{\"bgcolor\":\"#E5ECF6\",\"angularaxis\":{\"gridcolor\":\"white\",\"linecolor\":\"white\",\"ticks\":\"\"},\"radialaxis\":{\"gridcolor\":\"white\",\"linecolor\":\"white\",\"ticks\":\"\"}},\"ternary\":{\"bgcolor\":\"#E5ECF6\",\"aaxis\":{\"gridcolor\":\"white\",\"linecolor\":\"white\",\"ticks\":\"\"},\"baxis\":{\"gridcolor\":\"white\",\"linecolor\":\"white\",\"ticks\":\"\"},\"caxis\":{\"gridcolor\":\"white\",\"linecolor\":\"white\",\"ticks\":\"\"}},\"coloraxis\":{\"colorbar\":{\"outlinewidth\":0,\"ticks\":\"\"}},\"colorscale\":{\"sequential\":[[0.0,\"#0d0887\"],[0.1111111111111111,\"#46039f\"],[0.2222222222222222,\"#7201a8\"],[0.3333333333333333,\"#9c179e\"],[0.4444444444444444,\"#bd3786\"],[0.5555555555555556,\"#d8576b\"],[0.6666666666666666,\"#ed7953\"],[0.7777777777777778,\"#fb9f3a\"],[0.8888888888888888,\"#fdca26\"],[1.0,\"#f0f921\"]],\"sequentialminus\":[[0.0,\"#0d0887\"],[0.1111111111111111,\"#46039f\"],[0.2222222222222222,\"#7201a8\"],[0.3333333333333333,\"#9c179e\"],[0.4444444444444444,\"#bd3786\"],[0.5555555555555556,\"#d8576b\"],[0.6666666666666666,\"#ed7953\"],[0.7777777777777778,\"#fb9f3a\"],[0.8888888888888888,\"#fdca26\"],[1.0,\"#f0f921\"]],\"diverging\":[[0,\"#8e0152\"],[0.1,\"#c51b7d\"],[0.2,\"#de77ae\"],[0.3,\"#f1b6da\"],[0.4,\"#fde0ef\"],[0.5,\"#f7f7f7\"],[0.6,\"#e6f5d0\"],[0.7,\"#b8e186\"],[0.8,\"#7fbc41\"],[0.9,\"#4d9221\"],[1,\"#276419\"]]},\"xaxis\":{\"gridcolor\":\"white\",\"linecolor\":\"white\",\"ticks\":\"\",\"title\":{\"standoff\":15},\"zerolinecolor\":\"white\",\"automargin\":true,\"zerolinewidth\":2},\"yaxis\":{\"gridcolor\":\"white\",\"linecolor\":\"white\",\"ticks\":\"\",\"title\":{\"standoff\":15},\"zerolinecolor\":\"white\",\"automargin\":true,\"zerolinewidth\":2},\"scene\":{\"xaxis\":{\"backgroundcolor\":\"#E5ECF6\",\"gridcolor\":\"white\",\"linecolor\":\"white\",\"showbackground\":true,\"ticks\":\"\",\"zerolinecolor\":\"white\",\"gridwidth\":2},\"yaxis\":{\"backgroundcolor\":\"#E5ECF6\",\"gridcolor\":\"white\",\"linecolor\":\"white\",\"showbackground\":true,\"ticks\":\"\",\"zerolinecolor\":\"white\",\"gridwidth\":2},\"zaxis\":{\"backgroundcolor\":\"#E5ECF6\",\"gridcolor\":\"white\",\"linecolor\":\"white\",\"showbackground\":true,\"ticks\":\"\",\"zerolinecolor\":\"white\",\"gridwidth\":2}},\"shapedefaults\":{\"line\":{\"color\":\"#2a3f5f\"}},\"annotationdefaults\":{\"arrowcolor\":\"#2a3f5f\",\"arrowhead\":0,\"arrowwidth\":1},\"geo\":{\"bgcolor\":\"white\",\"landcolor\":\"#E5ECF6\",\"subunitcolor\":\"white\",\"showland\":true,\"showlakes\":true,\"lakecolor\":\"white\"},\"title\":{\"x\":0.05},\"mapbox\":{\"style\":\"light\"}}},\"scene\":{\"domain\":{\"x\":[0.0,1.0],\"y\":[0.0,1.0]},\"xaxis\":{\"title\":{\"text\":\"Happiness Score\"}},\"yaxis\":{\"title\":{\"text\":\"GDP per Capita\"}},\"zaxis\":{\"title\":{\"text\":\"Cluster\"}}},\"coloraxis\":{\"colorbar\":{\"title\":{\"text\":\"Cluster\"}},\"colorscale\":[[0.0,\"#0d0887\"],[0.1111111111111111,\"#46039f\"],[0.2222222222222222,\"#7201a8\"],[0.3333333333333333,\"#9c179e\"],[0.4444444444444444,\"#bd3786\"],[0.5555555555555556,\"#d8576b\"],[0.6666666666666666,\"#ed7953\"],[0.7777777777777778,\"#fb9f3a\"],[0.8888888888888888,\"#fdca26\"],[1.0,\"#f0f921\"]]},\"legend\":{\"tracegroupgap\":0},\"title\":{\"text\":\"K-means Clustering - Year 2017\"}},                        {\"responsive\": true}                    ).then(function(){\n",
       "                            \n",
       "var gd = document.getElementById('1f02cddb-dbbe-4aca-b91b-8f062bdf7f71');\n",
       "var x = new MutationObserver(function (mutations, observer) {{\n",
       "        var display = window.getComputedStyle(gd).display;\n",
       "        if (!display || display === 'none') {{\n",
       "            console.log([gd, 'removed!']);\n",
       "            Plotly.purge(gd);\n",
       "            observer.disconnect();\n",
       "        }}\n",
       "}});\n",
       "\n",
       "// Listen for the removal of the full notebook cells\n",
       "var notebookContainer = gd.closest('#notebook-container');\n",
       "if (notebookContainer) {{\n",
       "    x.observe(notebookContainer, {childList: true});\n",
       "}}\n",
       "\n",
       "// Listen for the clearing of the current output cell\n",
       "var outputEl = gd.closest('.output');\n",
       "if (outputEl) {{\n",
       "    x.observe(outputEl, {childList: true});\n",
       "}}\n",
       "\n",
       "                        })                };                });            </script>        </div>"
      ]
     },
     "metadata": {},
     "output_type": "display_data"
    }
   ],
   "source": [
    "# Plot for 2017\n",
    "kmeans_and_visualization(happiness17_df, 2017)"
   ]
  },
  {
   "cell_type": "markdown",
   "id": "705b53bb-2249-4de1-8a85-11a7540adc30",
   "metadata": {},
   "source": [
    "The scatter plot above display the clister of the countries grouped into three clusters labeled 0,1, and 2 in the year **2017**. As observed, **Cluster 0** represents the countries with **higher Happiness Scores and GDP per Capita**. Countries like Norway, Denmark, and Switzerland likely share similarities regarding high well-being and economic strength.\n",
    "\n",
    "On the other hand, **Cluster 1 has moderate values**. Countries like Malaysia, Poland, and Italy may have average well-being and moderate economic strength compared to other clusters. Lastly, **Cluster 2 represents countries with lower Happiness Scores and GDP per Capita values.** This includes countries like Chad, Liberia, and Yemen.\n",
    "\n",
    "---"
   ]
  },
  {
   "cell_type": "code",
   "execution_count": 123,
   "id": "ae06731c-7833-440c-a627-3b7e177ac791",
   "metadata": {
    "scrolled": true
   },
   "outputs": [
    {
     "data": {
      "application/vnd.plotly.v1+json": {
       "config": {
        "plotlyServerURL": "https://plot.ly"
       },
       "data": [
        {
         "customdata": [
          [
           "Finland"
          ],
          [
           "Norway"
          ],
          [
           "Denmark"
          ],
          [
           "Iceland"
          ],
          [
           "Switzerland"
          ],
          [
           "Netherlands"
          ],
          [
           "Canada"
          ],
          [
           "New Zealand"
          ],
          [
           "Sweden"
          ],
          [
           "Australia"
          ],
          [
           "United Kingdom"
          ],
          [
           "Austria"
          ],
          [
           "Costa Rica"
          ],
          [
           "Ireland"
          ],
          [
           "Germany"
          ],
          [
           "Belgium"
          ],
          [
           "Luxembourg"
          ],
          [
           "United States"
          ],
          [
           "Israel"
          ],
          [
           "Czech Republic"
          ],
          [
           "Malta"
          ],
          [
           "France"
          ],
          [
           "Mexico"
          ],
          [
           "Chile"
          ],
          [
           "Taiwan"
          ],
          [
           "Panama"
          ],
          [
           "Brazil"
          ],
          [
           "Argentina"
          ],
          [
           "Guatemala"
          ],
          [
           "Uruguay"
          ],
          [
           "Qatar"
          ],
          [
           "Saudi Arabia"
          ],
          [
           "Singapore"
          ],
          [
           "Malaysia"
          ],
          [
           "Spain"
          ],
          [
           "Colombia"
          ],
          [
           "Trinidad and Tobago"
          ],
          [
           "Slovakia"
          ],
          [
           "El Salvador"
          ],
          [
           "Nicaragua"
          ],
          [
           "Poland"
          ],
          [
           "Bahrain"
          ],
          [
           "Uzbekistan"
          ],
          [
           "Kuwait"
          ],
          [
           "Thailand"
          ],
          [
           "Italy"
          ],
          [
           "Ecuador"
          ],
          [
           "Lithuania"
          ],
          [
           "Slovenia"
          ],
          [
           "Romania"
          ],
          [
           "Latvia"
          ],
          [
           "Japan"
          ],
          [
           "Mauritius"
          ],
          [
           "Jamaica"
          ],
          [
           "South Korea"
          ],
          [
           "Northern Cyprus"
          ],
          [
           "Russia"
          ],
          [
           "Kazakhstan"
          ],
          [
           "Cyprus"
          ],
          [
           "Bolivia"
          ],
          [
           "Estonia"
          ],
          [
           "Paraguay"
          ],
          [
           "Peru"
          ],
          [
           "Kosovo"
          ],
          [
           "Moldova"
          ],
          [
           "Turkmenistan"
          ],
          [
           "Hungary"
          ],
          [
           "Libya"
          ],
          [
           "Philippines"
          ],
          [
           "Honduras"
          ],
          [
           "Belarus"
          ],
          [
           "Turkey"
          ],
          [
           "Pakistan"
          ],
          [
           "Hong Kong"
          ],
          [
           "Portugal"
          ],
          [
           "Serbia"
          ],
          [
           "Greece"
          ],
          [
           "Lebanon"
          ],
          [
           "Montenegro"
          ],
          [
           "Croatia"
          ],
          [
           "Dominican Republic"
          ],
          [
           "Algeria"
          ],
          [
           "Morocco"
          ],
          [
           "China"
          ],
          [
           "Azerbaijan"
          ],
          [
           "Tajikistan"
          ],
          [
           "North Macedonia"
          ],
          [
           "Jordan"
          ],
          [
           "Nigeria"
          ],
          [
           "Kyrgyzstan"
          ],
          [
           "Bosnia and Herzegovina"
          ],
          [
           "Mongolia"
          ],
          [
           "Vietnam"
          ],
          [
           "Indonesia"
          ],
          [
           "Bhutan"
          ],
          [
           "Somalia"
          ],
          [
           "Cameroon"
          ],
          [
           "Bulgaria"
          ],
          [
           "Nepal"
          ],
          [
           "Venezuela"
          ],
          [
           "Gabon"
          ],
          [
           "Palestinian Territories"
          ],
          [
           "South Africa"
          ],
          [
           "Iran"
          ],
          [
           "Ivory Coast"
          ],
          [
           "Ghana"
          ],
          [
           "Senegal"
          ],
          [
           "Tunisia"
          ],
          [
           "Albania"
          ],
          [
           "Sierra Leone"
          ],
          [
           "Congo (Brazzaville)"
          ],
          [
           "Bangladesh"
          ],
          [
           "Sri Lanka"
          ],
          [
           "Iraq"
          ],
          [
           "Mali"
          ],
          [
           "Namibia"
          ],
          [
           "Cambodia"
          ],
          [
           "Burkina Faso"
          ],
          [
           "Egypt"
          ],
          [
           "Mozambique"
          ],
          [
           "Kenya"
          ],
          [
           "Zambia"
          ],
          [
           "Mauritania"
          ],
          [
           "Ethiopia"
          ],
          [
           "Georgia"
          ],
          [
           "Armenia"
          ],
          [
           "Myanmar"
          ],
          [
           "Chad"
          ],
          [
           "Congo (Kinshasa)"
          ],
          [
           "India"
          ],
          [
           "Niger"
          ],
          [
           "Uganda"
          ],
          [
           "Benin"
          ],
          [
           "Ukraine"
          ],
          [
           "Togo"
          ],
          [
           "Guinea"
          ],
          [
           "Lesotho"
          ],
          [
           "Madagascar"
          ],
          [
           "Zimbabwe"
          ],
          [
           "Afghanistan"
          ],
          [
           "Botswana"
          ],
          [
           "Malawi"
          ],
          [
           "Haiti"
          ],
          [
           "Liberia"
          ],
          [
           "Syria"
          ],
          [
           "Rwanda"
          ],
          [
           "Yemen"
          ],
          [
           "Tanzania"
          ],
          [
           "South Sudan"
          ],
          [
           "Central African Republic"
          ],
          [
           "Burundi"
          ]
         ],
         "hovertemplate": "Happiness Score=%{x}<br>GDP per Capita=%{y}<br>Cluster=%{marker.color}<br>Country=%{customdata[0]}<extra></extra>",
         "legendgroup": "",
         "marker": {
          "color": [
           0,
           0,
           0,
           0,
           0,
           0,
           0,
           0,
           0,
           0,
           0,
           0,
           0,
           0,
           0,
           0,
           0,
           0,
           0,
           0,
           0,
           0,
           0,
           0,
           0,
           0,
           0,
           0,
           0,
           0,
           0,
           0,
           0,
           0,
           0,
           0,
           0,
           0,
           1,
           1,
           1,
           1,
           1,
           1,
           1,
           1,
           1,
           1,
           1,
           1,
           1,
           1,
           1,
           1,
           1,
           1,
           1,
           1,
           1,
           1,
           1,
           1,
           1,
           1,
           1,
           1,
           1,
           1,
           1,
           1,
           1,
           1,
           1,
           1,
           1,
           1,
           1,
           1,
           1,
           1,
           1,
           1,
           1,
           1,
           1,
           1,
           1,
           1,
           1,
           1,
           1,
           1,
           1,
           1,
           1,
           2,
           1,
           1,
           2,
           1,
           1,
           2,
           2,
           2,
           2,
           2,
           2,
           2,
           2,
           2,
           2,
           2,
           2,
           2,
           2,
           2,
           2,
           2,
           2,
           2,
           2,
           2,
           2,
           2,
           2,
           2,
           2,
           2,
           2,
           2,
           2,
           2,
           2,
           2,
           2,
           2,
           2,
           2,
           2,
           2,
           2,
           2,
           2,
           2,
           2,
           2,
           2,
           2,
           2,
           2,
           2
          ],
          "coloraxis": "coloraxis",
          "opacity": 0.7,
          "symbol": "circle"
         },
         "mode": "markers",
         "name": "",
         "scene": "scene",
         "showlegend": false,
         "type": "scatter3d",
         "x": [
          7.632,
          7.594,
          7.555,
          7.495,
          7.487,
          7.441,
          7.328,
          7.324,
          7.314,
          7.272,
          7.19,
          7.139,
          7.072,
          6.977,
          6.965,
          6.927,
          6.91,
          6.886,
          6.814,
          6.711,
          6.627,
          6.489,
          6.488,
          6.476,
          6.441,
          6.43,
          6.419,
          6.388,
          6.382,
          6.379,
          6.374,
          6.371,
          6.343,
          6.322,
          6.31,
          6.26,
          6.192,
          6.173,
          6.167,
          6.141,
          6.123,
          6.105,
          6.096,
          6.083,
          6.072,
          6,
          5.973,
          5.952,
          5.948,
          5.945,
          5.933,
          5.915,
          5.891,
          5.89,
          5.875,
          5.835,
          5.81,
          5.79,
          5.762,
          5.752,
          5.739,
          5.681,
          5.663,
          5.662,
          5.64,
          5.636,
          5.62,
          5.566,
          5.524,
          5.504,
          5.483,
          5.483,
          5.472,
          5.43,
          5.41,
          5.398,
          5.358,
          5.358,
          5.347,
          5.321,
          5.302,
          5.295,
          5.254,
          5.246,
          5.201,
          5.199,
          5.185,
          5.161,
          5.155,
          5.131,
          5.129,
          5.125,
          5.103,
          5.093,
          5.082,
          4.982,
          4.975,
          4.933,
          4.88,
          4.806,
          4.758,
          4.743,
          4.724,
          4.707,
          4.671,
          4.657,
          4.631,
          4.592,
          4.586,
          4.571,
          4.559,
          4.5,
          4.471,
          4.456,
          4.447,
          4.441,
          4.433,
          4.424,
          4.419,
          4.417,
          4.41,
          4.377,
          4.356,
          4.35,
          4.34,
          4.321,
          4.308,
          4.301,
          4.245,
          4.19,
          4.166,
          4.161,
          4.141,
          4.103,
          3.999,
          3.964,
          3.808,
          3.774,
          3.692,
          3.632,
          3.59,
          3.587,
          3.582,
          3.495,
          3.462,
          3.408,
          3.355,
          3.303,
          3.254,
          3.083,
          2.905
         ],
         "y": [
          1.305,
          1.456,
          1.351,
          1.343,
          1.42,
          1.361,
          1.33,
          1.268,
          1.355,
          1.34,
          1.244,
          1.341,
          1.01,
          1.448,
          1.34,
          1.324,
          1.576,
          1.398,
          1.301,
          1.233,
          1.27,
          1.293,
          1.038,
          1.131,
          1.365,
          1.112,
          0.986,
          1.073,
          0.781,
          1.093,
          1.649,
          1.379,
          1.529,
          1.161,
          1.251,
          0.96,
          1.223,
          1.21,
          0.806,
          0.668,
          1.176,
          1.338,
          0.719,
          1.474,
          1.016,
          1.264,
          0.889,
          1.197,
          1.219,
          1.116,
          1.148,
          1.294,
          1.09,
          0.819,
          1.266,
          1.229,
          1.151,
          1.143,
          1.229,
          0.751,
          1.2,
          0.835,
          0.934,
          0.855,
          0.657,
          1.016,
          1.171,
          0.985,
          0.775,
          0.62,
          1.039,
          1.148,
          0.652,
          1.405,
          1.188,
          0.975,
          1.154,
          0.965,
          1.017,
          1.115,
          0.982,
          0.979,
          0.779,
          0.989,
          1.024,
          0.474,
          0.959,
          0.822,
          0.689,
          0.53,
          0.915,
          0.914,
          0.715,
          0.899,
          0.796,
          0,
          0.535,
          1.054,
          0.425,
          0.996,
          1.036,
          0.642,
          0.94,
          1.059,
          0.541,
          0.592,
          0.429,
          0.9,
          0.916,
          0.256,
          0.682,
          0.532,
          0.918,
          1.01,
          0.37,
          0.874,
          0.549,
          0.314,
          0.885,
          0.198,
          0.493,
          0.562,
          0.557,
          0.308,
          0.853,
          0.816,
          0.682,
          0.358,
          0.069,
          0.721,
          0.131,
          0.322,
          0.378,
          0.793,
          0.259,
          0.344,
          0.472,
          0.262,
          0.357,
          0.332,
          1.017,
          0.186,
          0.315,
          0.076,
          0.689,
          0.332,
          0.442,
          0.455,
          0.337,
          0.024,
          0.091
         ],
         "z": [
          0,
          0,
          0,
          0,
          0,
          0,
          0,
          0,
          0,
          0,
          0,
          0,
          0,
          0,
          0,
          0,
          0,
          0,
          0,
          0,
          0,
          0,
          0,
          0,
          0,
          0,
          0,
          0,
          0,
          0,
          0,
          0,
          0,
          0,
          0,
          0,
          0,
          0,
          1,
          1,
          1,
          1,
          1,
          1,
          1,
          1,
          1,
          1,
          1,
          1,
          1,
          1,
          1,
          1,
          1,
          1,
          1,
          1,
          1,
          1,
          1,
          1,
          1,
          1,
          1,
          1,
          1,
          1,
          1,
          1,
          1,
          1,
          1,
          1,
          1,
          1,
          1,
          1,
          1,
          1,
          1,
          1,
          1,
          1,
          1,
          1,
          1,
          1,
          1,
          1,
          1,
          1,
          1,
          1,
          1,
          2,
          1,
          1,
          2,
          1,
          1,
          2,
          2,
          2,
          2,
          2,
          2,
          2,
          2,
          2,
          2,
          2,
          2,
          2,
          2,
          2,
          2,
          2,
          2,
          2,
          2,
          2,
          2,
          2,
          2,
          2,
          2,
          2,
          2,
          2,
          2,
          2,
          2,
          2,
          2,
          2,
          2,
          2,
          2,
          2,
          2,
          2,
          2,
          2,
          2,
          2,
          2,
          2,
          2,
          2,
          2
         ]
        }
       ],
       "layout": {
        "autosize": true,
        "coloraxis": {
         "colorbar": {
          "title": {
           "text": "Cluster"
          }
         },
         "colorscale": [
          [
           0,
           "#0d0887"
          ],
          [
           0.1111111111111111,
           "#46039f"
          ],
          [
           0.2222222222222222,
           "#7201a8"
          ],
          [
           0.3333333333333333,
           "#9c179e"
          ],
          [
           0.4444444444444444,
           "#bd3786"
          ],
          [
           0.5555555555555556,
           "#d8576b"
          ],
          [
           0.6666666666666666,
           "#ed7953"
          ],
          [
           0.7777777777777778,
           "#fb9f3a"
          ],
          [
           0.8888888888888888,
           "#fdca26"
          ],
          [
           1,
           "#f0f921"
          ]
         ]
        },
        "legend": {
         "tracegroupgap": 0
        },
        "scene": {
         "aspectmode": "auto",
         "aspectratio": {
          "x": 1.8922282315950347,
          "y": 0.6600982343770282,
          "z": 0.8006042866913622
         },
         "camera": {
          "center": {
           "x": 0,
           "y": 0,
           "z": 0
          },
          "eye": {
           "x": 6.8908906257629435e-18,
           "y": -1.3239269458490684e-16,
           "z": 2.165063509461097
          },
          "projection": {
           "type": "perspective"
          },
          "up": {
           "x": 0,
           "y": 0,
           "z": 1
          }
         },
         "domain": {
          "x": [
           0,
           1
          ],
          "y": [
           0,
           1
          ]
         },
         "xaxis": {
          "title": {
           "text": "Happiness Score"
          },
          "type": "linear"
         },
         "yaxis": {
          "title": {
           "text": "GDP per Capita"
          },
          "type": "linear"
         },
         "zaxis": {
          "title": {
           "text": "Cluster"
          },
          "type": "linear"
         }
        },
        "template": {
         "data": {
          "bar": [
           {
            "error_x": {
             "color": "#2a3f5f"
            },
            "error_y": {
             "color": "#2a3f5f"
            },
            "marker": {
             "line": {
              "color": "#E5ECF6",
              "width": 0.5
             },
             "pattern": {
              "fillmode": "overlay",
              "size": 10,
              "solidity": 0.2
             }
            },
            "type": "bar"
           }
          ],
          "barpolar": [
           {
            "marker": {
             "line": {
              "color": "#E5ECF6",
              "width": 0.5
             },
             "pattern": {
              "fillmode": "overlay",
              "size": 10,
              "solidity": 0.2
             }
            },
            "type": "barpolar"
           }
          ],
          "carpet": [
           {
            "aaxis": {
             "endlinecolor": "#2a3f5f",
             "gridcolor": "white",
             "linecolor": "white",
             "minorgridcolor": "white",
             "startlinecolor": "#2a3f5f"
            },
            "baxis": {
             "endlinecolor": "#2a3f5f",
             "gridcolor": "white",
             "linecolor": "white",
             "minorgridcolor": "white",
             "startlinecolor": "#2a3f5f"
            },
            "type": "carpet"
           }
          ],
          "choropleth": [
           {
            "colorbar": {
             "outlinewidth": 0,
             "ticks": ""
            },
            "type": "choropleth"
           }
          ],
          "contour": [
           {
            "colorbar": {
             "outlinewidth": 0,
             "ticks": ""
            },
            "colorscale": [
             [
              0,
              "#0d0887"
             ],
             [
              0.1111111111111111,
              "#46039f"
             ],
             [
              0.2222222222222222,
              "#7201a8"
             ],
             [
              0.3333333333333333,
              "#9c179e"
             ],
             [
              0.4444444444444444,
              "#bd3786"
             ],
             [
              0.5555555555555556,
              "#d8576b"
             ],
             [
              0.6666666666666666,
              "#ed7953"
             ],
             [
              0.7777777777777778,
              "#fb9f3a"
             ],
             [
              0.8888888888888888,
              "#fdca26"
             ],
             [
              1,
              "#f0f921"
             ]
            ],
            "type": "contour"
           }
          ],
          "contourcarpet": [
           {
            "colorbar": {
             "outlinewidth": 0,
             "ticks": ""
            },
            "type": "contourcarpet"
           }
          ],
          "heatmap": [
           {
            "colorbar": {
             "outlinewidth": 0,
             "ticks": ""
            },
            "colorscale": [
             [
              0,
              "#0d0887"
             ],
             [
              0.1111111111111111,
              "#46039f"
             ],
             [
              0.2222222222222222,
              "#7201a8"
             ],
             [
              0.3333333333333333,
              "#9c179e"
             ],
             [
              0.4444444444444444,
              "#bd3786"
             ],
             [
              0.5555555555555556,
              "#d8576b"
             ],
             [
              0.6666666666666666,
              "#ed7953"
             ],
             [
              0.7777777777777778,
              "#fb9f3a"
             ],
             [
              0.8888888888888888,
              "#fdca26"
             ],
             [
              1,
              "#f0f921"
             ]
            ],
            "type": "heatmap"
           }
          ],
          "heatmapgl": [
           {
            "colorbar": {
             "outlinewidth": 0,
             "ticks": ""
            },
            "colorscale": [
             [
              0,
              "#0d0887"
             ],
             [
              0.1111111111111111,
              "#46039f"
             ],
             [
              0.2222222222222222,
              "#7201a8"
             ],
             [
              0.3333333333333333,
              "#9c179e"
             ],
             [
              0.4444444444444444,
              "#bd3786"
             ],
             [
              0.5555555555555556,
              "#d8576b"
             ],
             [
              0.6666666666666666,
              "#ed7953"
             ],
             [
              0.7777777777777778,
              "#fb9f3a"
             ],
             [
              0.8888888888888888,
              "#fdca26"
             ],
             [
              1,
              "#f0f921"
             ]
            ],
            "type": "heatmapgl"
           }
          ],
          "histogram": [
           {
            "marker": {
             "pattern": {
              "fillmode": "overlay",
              "size": 10,
              "solidity": 0.2
             }
            },
            "type": "histogram"
           }
          ],
          "histogram2d": [
           {
            "colorbar": {
             "outlinewidth": 0,
             "ticks": ""
            },
            "colorscale": [
             [
              0,
              "#0d0887"
             ],
             [
              0.1111111111111111,
              "#46039f"
             ],
             [
              0.2222222222222222,
              "#7201a8"
             ],
             [
              0.3333333333333333,
              "#9c179e"
             ],
             [
              0.4444444444444444,
              "#bd3786"
             ],
             [
              0.5555555555555556,
              "#d8576b"
             ],
             [
              0.6666666666666666,
              "#ed7953"
             ],
             [
              0.7777777777777778,
              "#fb9f3a"
             ],
             [
              0.8888888888888888,
              "#fdca26"
             ],
             [
              1,
              "#f0f921"
             ]
            ],
            "type": "histogram2d"
           }
          ],
          "histogram2dcontour": [
           {
            "colorbar": {
             "outlinewidth": 0,
             "ticks": ""
            },
            "colorscale": [
             [
              0,
              "#0d0887"
             ],
             [
              0.1111111111111111,
              "#46039f"
             ],
             [
              0.2222222222222222,
              "#7201a8"
             ],
             [
              0.3333333333333333,
              "#9c179e"
             ],
             [
              0.4444444444444444,
              "#bd3786"
             ],
             [
              0.5555555555555556,
              "#d8576b"
             ],
             [
              0.6666666666666666,
              "#ed7953"
             ],
             [
              0.7777777777777778,
              "#fb9f3a"
             ],
             [
              0.8888888888888888,
              "#fdca26"
             ],
             [
              1,
              "#f0f921"
             ]
            ],
            "type": "histogram2dcontour"
           }
          ],
          "mesh3d": [
           {
            "colorbar": {
             "outlinewidth": 0,
             "ticks": ""
            },
            "type": "mesh3d"
           }
          ],
          "parcoords": [
           {
            "line": {
             "colorbar": {
              "outlinewidth": 0,
              "ticks": ""
             }
            },
            "type": "parcoords"
           }
          ],
          "pie": [
           {
            "automargin": true,
            "type": "pie"
           }
          ],
          "scatter": [
           {
            "fillpattern": {
             "fillmode": "overlay",
             "size": 10,
             "solidity": 0.2
            },
            "type": "scatter"
           }
          ],
          "scatter3d": [
           {
            "line": {
             "colorbar": {
              "outlinewidth": 0,
              "ticks": ""
             }
            },
            "marker": {
             "colorbar": {
              "outlinewidth": 0,
              "ticks": ""
             }
            },
            "type": "scatter3d"
           }
          ],
          "scattercarpet": [
           {
            "marker": {
             "colorbar": {
              "outlinewidth": 0,
              "ticks": ""
             }
            },
            "type": "scattercarpet"
           }
          ],
          "scattergeo": [
           {
            "marker": {
             "colorbar": {
              "outlinewidth": 0,
              "ticks": ""
             }
            },
            "type": "scattergeo"
           }
          ],
          "scattergl": [
           {
            "marker": {
             "colorbar": {
              "outlinewidth": 0,
              "ticks": ""
             }
            },
            "type": "scattergl"
           }
          ],
          "scattermapbox": [
           {
            "marker": {
             "colorbar": {
              "outlinewidth": 0,
              "ticks": ""
             }
            },
            "type": "scattermapbox"
           }
          ],
          "scatterpolar": [
           {
            "marker": {
             "colorbar": {
              "outlinewidth": 0,
              "ticks": ""
             }
            },
            "type": "scatterpolar"
           }
          ],
          "scatterpolargl": [
           {
            "marker": {
             "colorbar": {
              "outlinewidth": 0,
              "ticks": ""
             }
            },
            "type": "scatterpolargl"
           }
          ],
          "scatterternary": [
           {
            "marker": {
             "colorbar": {
              "outlinewidth": 0,
              "ticks": ""
             }
            },
            "type": "scatterternary"
           }
          ],
          "surface": [
           {
            "colorbar": {
             "outlinewidth": 0,
             "ticks": ""
            },
            "colorscale": [
             [
              0,
              "#0d0887"
             ],
             [
              0.1111111111111111,
              "#46039f"
             ],
             [
              0.2222222222222222,
              "#7201a8"
             ],
             [
              0.3333333333333333,
              "#9c179e"
             ],
             [
              0.4444444444444444,
              "#bd3786"
             ],
             [
              0.5555555555555556,
              "#d8576b"
             ],
             [
              0.6666666666666666,
              "#ed7953"
             ],
             [
              0.7777777777777778,
              "#fb9f3a"
             ],
             [
              0.8888888888888888,
              "#fdca26"
             ],
             [
              1,
              "#f0f921"
             ]
            ],
            "type": "surface"
           }
          ],
          "table": [
           {
            "cells": {
             "fill": {
              "color": "#EBF0F8"
             },
             "line": {
              "color": "white"
             }
            },
            "header": {
             "fill": {
              "color": "#C8D4E3"
             },
             "line": {
              "color": "white"
             }
            },
            "type": "table"
           }
          ]
         },
         "layout": {
          "annotationdefaults": {
           "arrowcolor": "#2a3f5f",
           "arrowhead": 0,
           "arrowwidth": 1
          },
          "autotypenumbers": "strict",
          "coloraxis": {
           "colorbar": {
            "outlinewidth": 0,
            "ticks": ""
           }
          },
          "colorscale": {
           "diverging": [
            [
             0,
             "#8e0152"
            ],
            [
             0.1,
             "#c51b7d"
            ],
            [
             0.2,
             "#de77ae"
            ],
            [
             0.3,
             "#f1b6da"
            ],
            [
             0.4,
             "#fde0ef"
            ],
            [
             0.5,
             "#f7f7f7"
            ],
            [
             0.6,
             "#e6f5d0"
            ],
            [
             0.7,
             "#b8e186"
            ],
            [
             0.8,
             "#7fbc41"
            ],
            [
             0.9,
             "#4d9221"
            ],
            [
             1,
             "#276419"
            ]
           ],
           "sequential": [
            [
             0,
             "#0d0887"
            ],
            [
             0.1111111111111111,
             "#46039f"
            ],
            [
             0.2222222222222222,
             "#7201a8"
            ],
            [
             0.3333333333333333,
             "#9c179e"
            ],
            [
             0.4444444444444444,
             "#bd3786"
            ],
            [
             0.5555555555555556,
             "#d8576b"
            ],
            [
             0.6666666666666666,
             "#ed7953"
            ],
            [
             0.7777777777777778,
             "#fb9f3a"
            ],
            [
             0.8888888888888888,
             "#fdca26"
            ],
            [
             1,
             "#f0f921"
            ]
           ],
           "sequentialminus": [
            [
             0,
             "#0d0887"
            ],
            [
             0.1111111111111111,
             "#46039f"
            ],
            [
             0.2222222222222222,
             "#7201a8"
            ],
            [
             0.3333333333333333,
             "#9c179e"
            ],
            [
             0.4444444444444444,
             "#bd3786"
            ],
            [
             0.5555555555555556,
             "#d8576b"
            ],
            [
             0.6666666666666666,
             "#ed7953"
            ],
            [
             0.7777777777777778,
             "#fb9f3a"
            ],
            [
             0.8888888888888888,
             "#fdca26"
            ],
            [
             1,
             "#f0f921"
            ]
           ]
          },
          "colorway": [
           "#636efa",
           "#EF553B",
           "#00cc96",
           "#ab63fa",
           "#FFA15A",
           "#19d3f3",
           "#FF6692",
           "#B6E880",
           "#FF97FF",
           "#FECB52"
          ],
          "font": {
           "color": "#2a3f5f"
          },
          "geo": {
           "bgcolor": "white",
           "lakecolor": "white",
           "landcolor": "#E5ECF6",
           "showlakes": true,
           "showland": true,
           "subunitcolor": "white"
          },
          "hoverlabel": {
           "align": "left"
          },
          "hovermode": "closest",
          "mapbox": {
           "style": "light"
          },
          "paper_bgcolor": "white",
          "plot_bgcolor": "#E5ECF6",
          "polar": {
           "angularaxis": {
            "gridcolor": "white",
            "linecolor": "white",
            "ticks": ""
           },
           "bgcolor": "#E5ECF6",
           "radialaxis": {
            "gridcolor": "white",
            "linecolor": "white",
            "ticks": ""
           }
          },
          "scene": {
           "xaxis": {
            "backgroundcolor": "#E5ECF6",
            "gridcolor": "white",
            "gridwidth": 2,
            "linecolor": "white",
            "showbackground": true,
            "ticks": "",
            "zerolinecolor": "white"
           },
           "yaxis": {
            "backgroundcolor": "#E5ECF6",
            "gridcolor": "white",
            "gridwidth": 2,
            "linecolor": "white",
            "showbackground": true,
            "ticks": "",
            "zerolinecolor": "white"
           },
           "zaxis": {
            "backgroundcolor": "#E5ECF6",
            "gridcolor": "white",
            "gridwidth": 2,
            "linecolor": "white",
            "showbackground": true,
            "ticks": "",
            "zerolinecolor": "white"
           }
          },
          "shapedefaults": {
           "line": {
            "color": "#2a3f5f"
           }
          },
          "ternary": {
           "aaxis": {
            "gridcolor": "white",
            "linecolor": "white",
            "ticks": ""
           },
           "baxis": {
            "gridcolor": "white",
            "linecolor": "white",
            "ticks": ""
           },
           "bgcolor": "#E5ECF6",
           "caxis": {
            "gridcolor": "white",
            "linecolor": "white",
            "ticks": ""
           }
          },
          "title": {
           "x": 0.05
          },
          "xaxis": {
           "automargin": true,
           "gridcolor": "white",
           "linecolor": "white",
           "ticks": "",
           "title": {
            "standoff": 15
           },
           "zerolinecolor": "white",
           "zerolinewidth": 2
          },
          "yaxis": {
           "automargin": true,
           "gridcolor": "white",
           "linecolor": "white",
           "ticks": "",
           "title": {
            "standoff": 15
           },
           "zerolinecolor": "white",
           "zerolinewidth": 2
          }
         }
        },
        "title": {
         "text": "K-means Clustering - Year 2018"
        }
       }
      },
      "text/html": [
       "<div>                            <div id=\"104d3a8e-cc6f-4d3e-9a02-ac8aa72acc4d\" class=\"plotly-graph-div\" style=\"height:525px; width:100%;\"></div>            <script type=\"text/javascript\">                require([\"plotly\"], function(Plotly) {                    window.PLOTLYENV=window.PLOTLYENV || {};                                    if (document.getElementById(\"104d3a8e-cc6f-4d3e-9a02-ac8aa72acc4d\")) {                    Plotly.newPlot(                        \"104d3a8e-cc6f-4d3e-9a02-ac8aa72acc4d\",                        [{\"customdata\":[[\"Finland\"],[\"Norway\"],[\"Denmark\"],[\"Iceland\"],[\"Switzerland\"],[\"Netherlands\"],[\"Canada\"],[\"New Zealand\"],[\"Sweden\"],[\"Australia\"],[\"United Kingdom\"],[\"Austria\"],[\"Costa Rica\"],[\"Ireland\"],[\"Germany\"],[\"Belgium\"],[\"Luxembourg\"],[\"United States\"],[\"Israel\"],[\"Czech Republic\"],[\"Malta\"],[\"France\"],[\"Mexico\"],[\"Chile\"],[\"Taiwan\"],[\"Panama\"],[\"Brazil\"],[\"Argentina\"],[\"Guatemala\"],[\"Uruguay\"],[\"Qatar\"],[\"Saudi Arabia\"],[\"Singapore\"],[\"Malaysia\"],[\"Spain\"],[\"Colombia\"],[\"Trinidad and Tobago\"],[\"Slovakia\"],[\"El Salvador\"],[\"Nicaragua\"],[\"Poland\"],[\"Bahrain\"],[\"Uzbekistan\"],[\"Kuwait\"],[\"Thailand\"],[\"Italy\"],[\"Ecuador\"],[\"Lithuania\"],[\"Slovenia\"],[\"Romania\"],[\"Latvia\"],[\"Japan\"],[\"Mauritius\"],[\"Jamaica\"],[\"South Korea\"],[\"Northern Cyprus\"],[\"Russia\"],[\"Kazakhstan\"],[\"Cyprus\"],[\"Bolivia\"],[\"Estonia\"],[\"Paraguay\"],[\"Peru\"],[\"Kosovo\"],[\"Moldova\"],[\"Turkmenistan\"],[\"Hungary\"],[\"Libya\"],[\"Philippines\"],[\"Honduras\"],[\"Belarus\"],[\"Turkey\"],[\"Pakistan\"],[\"Hong Kong\"],[\"Portugal\"],[\"Serbia\"],[\"Greece\"],[\"Lebanon\"],[\"Montenegro\"],[\"Croatia\"],[\"Dominican Republic\"],[\"Algeria\"],[\"Morocco\"],[\"China\"],[\"Azerbaijan\"],[\"Tajikistan\"],[\"North Macedonia\"],[\"Jordan\"],[\"Nigeria\"],[\"Kyrgyzstan\"],[\"Bosnia and Herzegovina\"],[\"Mongolia\"],[\"Vietnam\"],[\"Indonesia\"],[\"Bhutan\"],[\"Somalia\"],[\"Cameroon\"],[\"Bulgaria\"],[\"Nepal\"],[\"Venezuela\"],[\"Gabon\"],[\"Palestinian Territories\"],[\"South Africa\"],[\"Iran\"],[\"Ivory Coast\"],[\"Ghana\"],[\"Senegal\"],[\"Tunisia\"],[\"Albania\"],[\"Sierra Leone\"],[\"Congo (Brazzaville)\"],[\"Bangladesh\"],[\"Sri Lanka\"],[\"Iraq\"],[\"Mali\"],[\"Namibia\"],[\"Cambodia\"],[\"Burkina Faso\"],[\"Egypt\"],[\"Mozambique\"],[\"Kenya\"],[\"Zambia\"],[\"Mauritania\"],[\"Ethiopia\"],[\"Georgia\"],[\"Armenia\"],[\"Myanmar\"],[\"Chad\"],[\"Congo (Kinshasa)\"],[\"India\"],[\"Niger\"],[\"Uganda\"],[\"Benin\"],[\"Ukraine\"],[\"Togo\"],[\"Guinea\"],[\"Lesotho\"],[\"Madagascar\"],[\"Zimbabwe\"],[\"Afghanistan\"],[\"Botswana\"],[\"Malawi\"],[\"Haiti\"],[\"Liberia\"],[\"Syria\"],[\"Rwanda\"],[\"Yemen\"],[\"Tanzania\"],[\"South Sudan\"],[\"Central African Republic\"],[\"Burundi\"]],\"hovertemplate\":\"Happiness Score=%{x}\\u003cbr\\u003eGDP per Capita=%{y}\\u003cbr\\u003eCluster=%{marker.color}\\u003cbr\\u003eCountry=%{customdata[0]}\\u003cextra\\u003e\\u003c\\u002fextra\\u003e\",\"legendgroup\":\"\",\"marker\":{\"color\":[0,0,0,0,0,0,0,0,0,0,0,0,0,0,0,0,0,0,0,0,0,0,0,0,0,0,0,0,0,0,0,0,0,0,0,0,0,0,1,1,1,1,1,1,1,1,1,1,1,1,1,1,1,1,1,1,1,1,1,1,1,1,1,1,1,1,1,1,1,1,1,1,1,1,1,1,1,1,1,1,1,1,1,1,1,1,1,1,1,1,1,1,1,1,1,2,1,1,2,1,1,2,2,2,2,2,2,2,2,2,2,2,2,2,2,2,2,2,2,2,2,2,2,2,2,2,2,2,2,2,2,2,2,2,2,2,2,2,2,2,2,2,2,2,2,2,2,2,2,2,2],\"coloraxis\":\"coloraxis\",\"opacity\":0.7,\"symbol\":\"circle\"},\"mode\":\"markers\",\"name\":\"\",\"scene\":\"scene\",\"showlegend\":false,\"x\":[7.632,7.594,7.555,7.495,7.487,7.441,7.328,7.324,7.314,7.272,7.19,7.139,7.072,6.977,6.965,6.927,6.91,6.886,6.814,6.711,6.627,6.489,6.488,6.476,6.441,6.43,6.419,6.388,6.382,6.379,6.374,6.371,6.343,6.322,6.31,6.26,6.192,6.173,6.167,6.141,6.123,6.105,6.096,6.083,6.072,6.0,5.973,5.952,5.948,5.945,5.933,5.915,5.891,5.89,5.875,5.835,5.81,5.79,5.762,5.752,5.739,5.681,5.663,5.662,5.64,5.636,5.62,5.566,5.524,5.504,5.483,5.483,5.472,5.43,5.41,5.398,5.358,5.358,5.347,5.321,5.302,5.295,5.254,5.246,5.201,5.199,5.185,5.161,5.155,5.131,5.129,5.125,5.103,5.093,5.082,4.982,4.975,4.933,4.88,4.806,4.758,4.743,4.724,4.707,4.671,4.657,4.631,4.592,4.586,4.571,4.559,4.5,4.471,4.456,4.447,4.441,4.433,4.424,4.419,4.417,4.41,4.377,4.356,4.35,4.34,4.321,4.308,4.301,4.245,4.19,4.166,4.161,4.141,4.103,3.999,3.964,3.808,3.774,3.692,3.632,3.59,3.587,3.582,3.495,3.462,3.408,3.355,3.303,3.254,3.083,2.905],\"y\":[1.305,1.456,1.351,1.343,1.42,1.361,1.33,1.268,1.355,1.34,1.244,1.341,1.01,1.448,1.34,1.324,1.576,1.398,1.301,1.233,1.27,1.293,1.038,1.131,1.365,1.112,0.986,1.073,0.781,1.093,1.649,1.379,1.529,1.161,1.251,0.96,1.223,1.21,0.806,0.668,1.176,1.338,0.719,1.474,1.016,1.264,0.889,1.197,1.219,1.116,1.148,1.294,1.09,0.819,1.266,1.229,1.151,1.143,1.229,0.751,1.2,0.835,0.934,0.855,0.657,1.016,1.171,0.985,0.775,0.62,1.039,1.148,0.652,1.405,1.188,0.975,1.154,0.965,1.017,1.115,0.982,0.979,0.779,0.989,1.024,0.474,0.959,0.822,0.689,0.53,0.915,0.914,0.715,0.899,0.796,0.0,0.535,1.054,0.425,0.996,1.036,0.642,0.94,1.059,0.541,0.592,0.429,0.9,0.916,0.256,0.682,0.532,0.918,1.01,0.37,0.874,0.549,0.314,0.885,0.198,0.493,0.562,0.557,0.308,0.853,0.816,0.682,0.358,0.069,0.721,0.131,0.322,0.378,0.793,0.259,0.344,0.472,0.262,0.357,0.332,1.017,0.186,0.315,0.076,0.689,0.332,0.442,0.455,0.337,0.024,0.091],\"z\":[0,0,0,0,0,0,0,0,0,0,0,0,0,0,0,0,0,0,0,0,0,0,0,0,0,0,0,0,0,0,0,0,0,0,0,0,0,0,1,1,1,1,1,1,1,1,1,1,1,1,1,1,1,1,1,1,1,1,1,1,1,1,1,1,1,1,1,1,1,1,1,1,1,1,1,1,1,1,1,1,1,1,1,1,1,1,1,1,1,1,1,1,1,1,1,2,1,1,2,1,1,2,2,2,2,2,2,2,2,2,2,2,2,2,2,2,2,2,2,2,2,2,2,2,2,2,2,2,2,2,2,2,2,2,2,2,2,2,2,2,2,2,2,2,2,2,2,2,2,2,2],\"type\":\"scatter3d\"}],                        {\"template\":{\"data\":{\"histogram2dcontour\":[{\"type\":\"histogram2dcontour\",\"colorbar\":{\"outlinewidth\":0,\"ticks\":\"\"},\"colorscale\":[[0.0,\"#0d0887\"],[0.1111111111111111,\"#46039f\"],[0.2222222222222222,\"#7201a8\"],[0.3333333333333333,\"#9c179e\"],[0.4444444444444444,\"#bd3786\"],[0.5555555555555556,\"#d8576b\"],[0.6666666666666666,\"#ed7953\"],[0.7777777777777778,\"#fb9f3a\"],[0.8888888888888888,\"#fdca26\"],[1.0,\"#f0f921\"]]}],\"choropleth\":[{\"type\":\"choropleth\",\"colorbar\":{\"outlinewidth\":0,\"ticks\":\"\"}}],\"histogram2d\":[{\"type\":\"histogram2d\",\"colorbar\":{\"outlinewidth\":0,\"ticks\":\"\"},\"colorscale\":[[0.0,\"#0d0887\"],[0.1111111111111111,\"#46039f\"],[0.2222222222222222,\"#7201a8\"],[0.3333333333333333,\"#9c179e\"],[0.4444444444444444,\"#bd3786\"],[0.5555555555555556,\"#d8576b\"],[0.6666666666666666,\"#ed7953\"],[0.7777777777777778,\"#fb9f3a\"],[0.8888888888888888,\"#fdca26\"],[1.0,\"#f0f921\"]]}],\"heatmap\":[{\"type\":\"heatmap\",\"colorbar\":{\"outlinewidth\":0,\"ticks\":\"\"},\"colorscale\":[[0.0,\"#0d0887\"],[0.1111111111111111,\"#46039f\"],[0.2222222222222222,\"#7201a8\"],[0.3333333333333333,\"#9c179e\"],[0.4444444444444444,\"#bd3786\"],[0.5555555555555556,\"#d8576b\"],[0.6666666666666666,\"#ed7953\"],[0.7777777777777778,\"#fb9f3a\"],[0.8888888888888888,\"#fdca26\"],[1.0,\"#f0f921\"]]}],\"heatmapgl\":[{\"type\":\"heatmapgl\",\"colorbar\":{\"outlinewidth\":0,\"ticks\":\"\"},\"colorscale\":[[0.0,\"#0d0887\"],[0.1111111111111111,\"#46039f\"],[0.2222222222222222,\"#7201a8\"],[0.3333333333333333,\"#9c179e\"],[0.4444444444444444,\"#bd3786\"],[0.5555555555555556,\"#d8576b\"],[0.6666666666666666,\"#ed7953\"],[0.7777777777777778,\"#fb9f3a\"],[0.8888888888888888,\"#fdca26\"],[1.0,\"#f0f921\"]]}],\"contourcarpet\":[{\"type\":\"contourcarpet\",\"colorbar\":{\"outlinewidth\":0,\"ticks\":\"\"}}],\"contour\":[{\"type\":\"contour\",\"colorbar\":{\"outlinewidth\":0,\"ticks\":\"\"},\"colorscale\":[[0.0,\"#0d0887\"],[0.1111111111111111,\"#46039f\"],[0.2222222222222222,\"#7201a8\"],[0.3333333333333333,\"#9c179e\"],[0.4444444444444444,\"#bd3786\"],[0.5555555555555556,\"#d8576b\"],[0.6666666666666666,\"#ed7953\"],[0.7777777777777778,\"#fb9f3a\"],[0.8888888888888888,\"#fdca26\"],[1.0,\"#f0f921\"]]}],\"surface\":[{\"type\":\"surface\",\"colorbar\":{\"outlinewidth\":0,\"ticks\":\"\"},\"colorscale\":[[0.0,\"#0d0887\"],[0.1111111111111111,\"#46039f\"],[0.2222222222222222,\"#7201a8\"],[0.3333333333333333,\"#9c179e\"],[0.4444444444444444,\"#bd3786\"],[0.5555555555555556,\"#d8576b\"],[0.6666666666666666,\"#ed7953\"],[0.7777777777777778,\"#fb9f3a\"],[0.8888888888888888,\"#fdca26\"],[1.0,\"#f0f921\"]]}],\"mesh3d\":[{\"type\":\"mesh3d\",\"colorbar\":{\"outlinewidth\":0,\"ticks\":\"\"}}],\"scatter\":[{\"fillpattern\":{\"fillmode\":\"overlay\",\"size\":10,\"solidity\":0.2},\"type\":\"scatter\"}],\"parcoords\":[{\"type\":\"parcoords\",\"line\":{\"colorbar\":{\"outlinewidth\":0,\"ticks\":\"\"}}}],\"scatterpolargl\":[{\"type\":\"scatterpolargl\",\"marker\":{\"colorbar\":{\"outlinewidth\":0,\"ticks\":\"\"}}}],\"bar\":[{\"error_x\":{\"color\":\"#2a3f5f\"},\"error_y\":{\"color\":\"#2a3f5f\"},\"marker\":{\"line\":{\"color\":\"#E5ECF6\",\"width\":0.5},\"pattern\":{\"fillmode\":\"overlay\",\"size\":10,\"solidity\":0.2}},\"type\":\"bar\"}],\"scattergeo\":[{\"type\":\"scattergeo\",\"marker\":{\"colorbar\":{\"outlinewidth\":0,\"ticks\":\"\"}}}],\"scatterpolar\":[{\"type\":\"scatterpolar\",\"marker\":{\"colorbar\":{\"outlinewidth\":0,\"ticks\":\"\"}}}],\"histogram\":[{\"marker\":{\"pattern\":{\"fillmode\":\"overlay\",\"size\":10,\"solidity\":0.2}},\"type\":\"histogram\"}],\"scattergl\":[{\"type\":\"scattergl\",\"marker\":{\"colorbar\":{\"outlinewidth\":0,\"ticks\":\"\"}}}],\"scatter3d\":[{\"type\":\"scatter3d\",\"line\":{\"colorbar\":{\"outlinewidth\":0,\"ticks\":\"\"}},\"marker\":{\"colorbar\":{\"outlinewidth\":0,\"ticks\":\"\"}}}],\"scattermapbox\":[{\"type\":\"scattermapbox\",\"marker\":{\"colorbar\":{\"outlinewidth\":0,\"ticks\":\"\"}}}],\"scatterternary\":[{\"type\":\"scatterternary\",\"marker\":{\"colorbar\":{\"outlinewidth\":0,\"ticks\":\"\"}}}],\"scattercarpet\":[{\"type\":\"scattercarpet\",\"marker\":{\"colorbar\":{\"outlinewidth\":0,\"ticks\":\"\"}}}],\"carpet\":[{\"aaxis\":{\"endlinecolor\":\"#2a3f5f\",\"gridcolor\":\"white\",\"linecolor\":\"white\",\"minorgridcolor\":\"white\",\"startlinecolor\":\"#2a3f5f\"},\"baxis\":{\"endlinecolor\":\"#2a3f5f\",\"gridcolor\":\"white\",\"linecolor\":\"white\",\"minorgridcolor\":\"white\",\"startlinecolor\":\"#2a3f5f\"},\"type\":\"carpet\"}],\"table\":[{\"cells\":{\"fill\":{\"color\":\"#EBF0F8\"},\"line\":{\"color\":\"white\"}},\"header\":{\"fill\":{\"color\":\"#C8D4E3\"},\"line\":{\"color\":\"white\"}},\"type\":\"table\"}],\"barpolar\":[{\"marker\":{\"line\":{\"color\":\"#E5ECF6\",\"width\":0.5},\"pattern\":{\"fillmode\":\"overlay\",\"size\":10,\"solidity\":0.2}},\"type\":\"barpolar\"}],\"pie\":[{\"automargin\":true,\"type\":\"pie\"}]},\"layout\":{\"autotypenumbers\":\"strict\",\"colorway\":[\"#636efa\",\"#EF553B\",\"#00cc96\",\"#ab63fa\",\"#FFA15A\",\"#19d3f3\",\"#FF6692\",\"#B6E880\",\"#FF97FF\",\"#FECB52\"],\"font\":{\"color\":\"#2a3f5f\"},\"hovermode\":\"closest\",\"hoverlabel\":{\"align\":\"left\"},\"paper_bgcolor\":\"white\",\"plot_bgcolor\":\"#E5ECF6\",\"polar\":{\"bgcolor\":\"#E5ECF6\",\"angularaxis\":{\"gridcolor\":\"white\",\"linecolor\":\"white\",\"ticks\":\"\"},\"radialaxis\":{\"gridcolor\":\"white\",\"linecolor\":\"white\",\"ticks\":\"\"}},\"ternary\":{\"bgcolor\":\"#E5ECF6\",\"aaxis\":{\"gridcolor\":\"white\",\"linecolor\":\"white\",\"ticks\":\"\"},\"baxis\":{\"gridcolor\":\"white\",\"linecolor\":\"white\",\"ticks\":\"\"},\"caxis\":{\"gridcolor\":\"white\",\"linecolor\":\"white\",\"ticks\":\"\"}},\"coloraxis\":{\"colorbar\":{\"outlinewidth\":0,\"ticks\":\"\"}},\"colorscale\":{\"sequential\":[[0.0,\"#0d0887\"],[0.1111111111111111,\"#46039f\"],[0.2222222222222222,\"#7201a8\"],[0.3333333333333333,\"#9c179e\"],[0.4444444444444444,\"#bd3786\"],[0.5555555555555556,\"#d8576b\"],[0.6666666666666666,\"#ed7953\"],[0.7777777777777778,\"#fb9f3a\"],[0.8888888888888888,\"#fdca26\"],[1.0,\"#f0f921\"]],\"sequentialminus\":[[0.0,\"#0d0887\"],[0.1111111111111111,\"#46039f\"],[0.2222222222222222,\"#7201a8\"],[0.3333333333333333,\"#9c179e\"],[0.4444444444444444,\"#bd3786\"],[0.5555555555555556,\"#d8576b\"],[0.6666666666666666,\"#ed7953\"],[0.7777777777777778,\"#fb9f3a\"],[0.8888888888888888,\"#fdca26\"],[1.0,\"#f0f921\"]],\"diverging\":[[0,\"#8e0152\"],[0.1,\"#c51b7d\"],[0.2,\"#de77ae\"],[0.3,\"#f1b6da\"],[0.4,\"#fde0ef\"],[0.5,\"#f7f7f7\"],[0.6,\"#e6f5d0\"],[0.7,\"#b8e186\"],[0.8,\"#7fbc41\"],[0.9,\"#4d9221\"],[1,\"#276419\"]]},\"xaxis\":{\"gridcolor\":\"white\",\"linecolor\":\"white\",\"ticks\":\"\",\"title\":{\"standoff\":15},\"zerolinecolor\":\"white\",\"automargin\":true,\"zerolinewidth\":2},\"yaxis\":{\"gridcolor\":\"white\",\"linecolor\":\"white\",\"ticks\":\"\",\"title\":{\"standoff\":15},\"zerolinecolor\":\"white\",\"automargin\":true,\"zerolinewidth\":2},\"scene\":{\"xaxis\":{\"backgroundcolor\":\"#E5ECF6\",\"gridcolor\":\"white\",\"linecolor\":\"white\",\"showbackground\":true,\"ticks\":\"\",\"zerolinecolor\":\"white\",\"gridwidth\":2},\"yaxis\":{\"backgroundcolor\":\"#E5ECF6\",\"gridcolor\":\"white\",\"linecolor\":\"white\",\"showbackground\":true,\"ticks\":\"\",\"zerolinecolor\":\"white\",\"gridwidth\":2},\"zaxis\":{\"backgroundcolor\":\"#E5ECF6\",\"gridcolor\":\"white\",\"linecolor\":\"white\",\"showbackground\":true,\"ticks\":\"\",\"zerolinecolor\":\"white\",\"gridwidth\":2}},\"shapedefaults\":{\"line\":{\"color\":\"#2a3f5f\"}},\"annotationdefaults\":{\"arrowcolor\":\"#2a3f5f\",\"arrowhead\":0,\"arrowwidth\":1},\"geo\":{\"bgcolor\":\"white\",\"landcolor\":\"#E5ECF6\",\"subunitcolor\":\"white\",\"showland\":true,\"showlakes\":true,\"lakecolor\":\"white\"},\"title\":{\"x\":0.05},\"mapbox\":{\"style\":\"light\"}}},\"scene\":{\"domain\":{\"x\":[0.0,1.0],\"y\":[0.0,1.0]},\"xaxis\":{\"title\":{\"text\":\"Happiness Score\"}},\"yaxis\":{\"title\":{\"text\":\"GDP per Capita\"}},\"zaxis\":{\"title\":{\"text\":\"Cluster\"}}},\"coloraxis\":{\"colorbar\":{\"title\":{\"text\":\"Cluster\"}},\"colorscale\":[[0.0,\"#0d0887\"],[0.1111111111111111,\"#46039f\"],[0.2222222222222222,\"#7201a8\"],[0.3333333333333333,\"#9c179e\"],[0.4444444444444444,\"#bd3786\"],[0.5555555555555556,\"#d8576b\"],[0.6666666666666666,\"#ed7953\"],[0.7777777777777778,\"#fb9f3a\"],[0.8888888888888888,\"#fdca26\"],[1.0,\"#f0f921\"]]},\"legend\":{\"tracegroupgap\":0},\"title\":{\"text\":\"K-means Clustering - Year 2018\"}},                        {\"responsive\": true}                    ).then(function(){\n",
       "                            \n",
       "var gd = document.getElementById('104d3a8e-cc6f-4d3e-9a02-ac8aa72acc4d');\n",
       "var x = new MutationObserver(function (mutations, observer) {{\n",
       "        var display = window.getComputedStyle(gd).display;\n",
       "        if (!display || display === 'none') {{\n",
       "            console.log([gd, 'removed!']);\n",
       "            Plotly.purge(gd);\n",
       "            observer.disconnect();\n",
       "        }}\n",
       "}});\n",
       "\n",
       "// Listen for the removal of the full notebook cells\n",
       "var notebookContainer = gd.closest('#notebook-container');\n",
       "if (notebookContainer) {{\n",
       "    x.observe(notebookContainer, {childList: true});\n",
       "}}\n",
       "\n",
       "// Listen for the clearing of the current output cell\n",
       "var outputEl = gd.closest('.output');\n",
       "if (outputEl) {{\n",
       "    x.observe(outputEl, {childList: true});\n",
       "}}\n",
       "\n",
       "                        })                };                });            </script>        </div>"
      ]
     },
     "metadata": {},
     "output_type": "display_data"
    }
   ],
   "source": [
    "# Plot for 2018\n",
    "kmeans_and_visualization(happiness18_df, 2018)"
   ]
  },
  {
   "cell_type": "markdown",
   "id": "a5b59ab7-411c-41f7-870d-2bd1593ab912",
   "metadata": {},
   "source": [
    "The above scatter plot illustrates the grouping of countries into three distinct clusters, labeled as 0, 1, and 2, for the year **2018**. **Cluster 0** is characterized by **countries with a high GDP per Capita and Happiness Scores**, indicating strong economic performance and high levels of well-being. This cluster includes countries such as Norway, Denmark, and Switzerland.\n",
    "\n",
    "**Cluster 1** on the other hand, represents countries with **moderate** values for both parameters. This suggests that countries like Italy, Japan, and South Korea have **average levels** of well-being and economic strength when compared to other countries.\n",
    "\n",
    "Finally, **Cluster 2** contains countries with **lower Happiness Scores and GDP per Capita values**. Countries in this cluster, which include Syria, Yemen, and Tanzania likely face challenges related to economic strength and overall well-being.\n",
    "\n",
    "---"
   ]
  },
  {
   "cell_type": "code",
   "execution_count": 124,
   "id": "bdac0cd8-ccba-41c5-af56-0b9eceda03a9",
   "metadata": {
    "scrolled": true
   },
   "outputs": [
    {
     "data": {
      "application/vnd.plotly.v1+json": {
       "config": {
        "plotlyServerURL": "https://plot.ly"
       },
       "data": [
        {
         "customdata": [
          [
           "Finland"
          ],
          [
           "Denmark"
          ],
          [
           "Norway"
          ],
          [
           "Iceland"
          ],
          [
           "Netherlands"
          ],
          [
           "Switzerland"
          ],
          [
           "Sweden"
          ],
          [
           "New Zealand"
          ],
          [
           "Canada"
          ],
          [
           "Austria"
          ],
          [
           "Australia"
          ],
          [
           "Costa Rica"
          ],
          [
           "Israel"
          ],
          [
           "Luxembourg"
          ],
          [
           "United Kingdom"
          ],
          [
           "Ireland"
          ],
          [
           "Germany"
          ],
          [
           "Belgium"
          ],
          [
           "United States"
          ],
          [
           "Czech Republic"
          ],
          [
           "Malta"
          ],
          [
           "Mexico"
          ],
          [
           "France"
          ],
          [
           "Taiwan"
          ],
          [
           "Chile"
          ],
          [
           "Guatemala"
          ],
          [
           "Saudi Arabia"
          ],
          [
           "Qatar"
          ],
          [
           "Spain"
          ],
          [
           "Panama"
          ],
          [
           "Brazil"
          ],
          [
           "Uruguay"
          ],
          [
           "Singapore"
          ],
          [
           "El Salvador"
          ],
          [
           "Italy"
          ],
          [
           "Bahrain"
          ],
          [
           "Slovakia"
          ],
          [
           "Trinidad and Tobago"
          ],
          [
           "Poland"
          ],
          [
           "Uzbekistan"
          ],
          [
           "Lithuania"
          ],
          [
           "Colombia"
          ],
          [
           "Slovenia"
          ],
          [
           "Nicaragua"
          ],
          [
           "Kosovo"
          ],
          [
           "Argentina"
          ],
          [
           "Romania"
          ],
          [
           "Cyprus"
          ],
          [
           "Ecuador"
          ],
          [
           "Kuwait"
          ],
          [
           "Thailand"
          ],
          [
           "Latvia"
          ],
          [
           "South Korea"
          ],
          [
           "Estonia"
          ],
          [
           "Jamaica"
          ],
          [
           "Mauritius"
          ],
          [
           "Japan"
          ],
          [
           "Honduras"
          ],
          [
           "Kazakhstan"
          ],
          [
           "Bolivia"
          ],
          [
           "Hungary"
          ],
          [
           "Paraguay"
          ],
          [
           "Northern Cyprus"
          ],
          [
           "Peru"
          ],
          [
           "Portugal"
          ],
          [
           "Pakistan"
          ],
          [
           "Russia"
          ],
          [
           "Philippines"
          ],
          [
           "Serbia"
          ],
          [
           "Moldova"
          ],
          [
           "Libya"
          ],
          [
           "Montenegro"
          ],
          [
           "Tajikistan"
          ],
          [
           "Croatia"
          ],
          [
           "Hong Kong"
          ],
          [
           "Dominican Republic"
          ],
          [
           "Bosnia and Herzegovina"
          ],
          [
           "Turkey"
          ],
          [
           "Malaysia"
          ],
          [
           "Belarus"
          ],
          [
           "Greece"
          ],
          [
           "Mongolia"
          ],
          [
           "North Macedonia"
          ],
          [
           "Nigeria"
          ],
          [
           "Kyrgyzstan"
          ],
          [
           "Turkmenistan"
          ],
          [
           "Algeria"
          ],
          [
           "Morocco"
          ],
          [
           "Azerbaijan"
          ],
          [
           "Lebanon"
          ],
          [
           "Indonesia"
          ],
          [
           "China"
          ],
          [
           "Vietnam"
          ],
          [
           "Bhutan"
          ],
          [
           "Cameroon"
          ],
          [
           "Bulgaria"
          ],
          [
           "Ghana"
          ],
          [
           "Ivory Coast"
          ],
          [
           "Nepal"
          ],
          [
           "Jordan"
          ],
          [
           "Benin"
          ],
          [
           "Congo (Brazzaville)"
          ],
          [
           "Gabon"
          ],
          [
           "South Africa"
          ],
          [
           "Albania"
          ],
          [
           "Venezuela"
          ],
          [
           "Cambodia"
          ],
          [
           "Palestinian Territories"
          ],
          [
           "Senegal"
          ],
          [
           "Somalia"
          ],
          [
           "Namibia"
          ],
          [
           "Niger"
          ],
          [
           "Burkina Faso"
          ],
          [
           "Armenia"
          ],
          [
           "Iran"
          ],
          [
           "Guinea"
          ],
          [
           "Georgia"
          ],
          [
           "Kenya"
          ],
          [
           "Mauritania"
          ],
          [
           "Mozambique"
          ],
          [
           "Tunisia"
          ],
          [
           "Bangladesh"
          ],
          [
           "Iraq"
          ],
          [
           "Congo (Kinshasa)"
          ],
          [
           "Mali"
          ],
          [
           "Sierra Leone"
          ],
          [
           "Sri Lanka"
          ],
          [
           "Myanmar"
          ],
          [
           "Chad"
          ],
          [
           "Ukraine"
          ],
          [
           "Ethiopia"
          ],
          [
           "Uganda"
          ],
          [
           "Egypt"
          ],
          [
           "Zambia"
          ],
          [
           "Togo"
          ],
          [
           "India"
          ],
          [
           "Liberia"
          ],
          [
           "Madagascar"
          ],
          [
           "Lesotho"
          ],
          [
           "Burundi"
          ],
          [
           "Zimbabwe"
          ],
          [
           "Haiti"
          ],
          [
           "Botswana"
          ],
          [
           "Syria"
          ],
          [
           "Malawi"
          ],
          [
           "Yemen"
          ],
          [
           "Rwanda"
          ],
          [
           "Tanzania"
          ],
          [
           "Afghanistan"
          ],
          [
           "Central African Republic"
          ],
          [
           "South Sudan"
          ]
         ],
         "hovertemplate": "Happiness Score=%{x}<br>GDP per Capita=%{y}<br>Cluster=%{marker.color}<br>Country=%{customdata[0]}<extra></extra>",
         "legendgroup": "",
         "marker": {
          "color": [
           2,
           2,
           2,
           2,
           2,
           2,
           2,
           2,
           2,
           2,
           2,
           2,
           2,
           2,
           2,
           2,
           2,
           2,
           2,
           2,
           2,
           2,
           2,
           2,
           2,
           0,
           2,
           2,
           0,
           0,
           0,
           0,
           0,
           0,
           0,
           0,
           0,
           0,
           0,
           0,
           0,
           0,
           0,
           0,
           0,
           0,
           0,
           0,
           0,
           0,
           0,
           0,
           0,
           0,
           0,
           0,
           0,
           0,
           0,
           0,
           0,
           0,
           0,
           0,
           0,
           0,
           0,
           0,
           0,
           0,
           0,
           0,
           0,
           0,
           0,
           0,
           0,
           0,
           0,
           0,
           0,
           0,
           0,
           0,
           0,
           0,
           0,
           0,
           0,
           0,
           0,
           0,
           0,
           0,
           1,
           0,
           1,
           1,
           1,
           1,
           1,
           1,
           1,
           1,
           1,
           1,
           1,
           1,
           1,
           1,
           1,
           1,
           1,
           1,
           1,
           1,
           1,
           1,
           1,
           1,
           1,
           1,
           1,
           1,
           1,
           1,
           1,
           1,
           1,
           1,
           1,
           1,
           1,
           1,
           1,
           1,
           1,
           1,
           1,
           1,
           1,
           1,
           1,
           1,
           1,
           1,
           1,
           1,
           1,
           1,
           1
          ],
          "coloraxis": "coloraxis",
          "opacity": 0.7,
          "symbol": "circle"
         },
         "mode": "markers",
         "name": "",
         "scene": "scene",
         "showlegend": false,
         "type": "scatter3d",
         "x": [
          7.769,
          7.6,
          7.554,
          7.494,
          7.488,
          7.48,
          7.343,
          7.307,
          7.278,
          7.246,
          7.228,
          7.167,
          7.139,
          7.09,
          7.054,
          7.021,
          6.985,
          6.923,
          6.892,
          6.852,
          6.726,
          6.595,
          6.592,
          6.446,
          6.444,
          6.436,
          6.375,
          6.374,
          6.354,
          6.321,
          6.3,
          6.293,
          6.262,
          6.253,
          6.223,
          6.199,
          6.198,
          6.192,
          6.182,
          6.174,
          6.149,
          6.125,
          6.118,
          6.105,
          6.1,
          6.086,
          6.07,
          6.046,
          6.028,
          6.021,
          6.008,
          5.94,
          5.895,
          5.893,
          5.89,
          5.888,
          5.886,
          5.86,
          5.809,
          5.779,
          5.758,
          5.743,
          5.718,
          5.697,
          5.693,
          5.653,
          5.648,
          5.631,
          5.603,
          5.529,
          5.525,
          5.523,
          5.467,
          5.432,
          5.43,
          5.425,
          5.386,
          5.373,
          5.339,
          5.323,
          5.287,
          5.285,
          5.274,
          5.265,
          5.261,
          5.247,
          5.211,
          5.208,
          5.208,
          5.197,
          5.192,
          5.191,
          5.175,
          5.082,
          5.044,
          5.011,
          4.996,
          4.944,
          4.913,
          4.906,
          4.883,
          4.812,
          4.799,
          4.722,
          4.719,
          4.707,
          4.7,
          4.696,
          4.681,
          4.668,
          4.639,
          4.628,
          4.587,
          4.559,
          4.548,
          4.534,
          4.519,
          4.509,
          4.49,
          4.466,
          4.461,
          4.456,
          4.437,
          4.418,
          4.39,
          4.374,
          4.366,
          4.36,
          4.35,
          4.332,
          4.286,
          4.189,
          4.166,
          4.107,
          4.085,
          4.015,
          3.975,
          3.933,
          3.802,
          3.775,
          3.663,
          3.597,
          3.488,
          3.462,
          3.41,
          3.38,
          3.334,
          3.231,
          3.203,
          3.083,
          2.853
         ],
         "y": [
          1.34,
          1.383,
          1.488,
          1.38,
          1.396,
          1.452,
          1.387,
          1.303,
          1.365,
          1.376,
          1.372,
          1.034,
          1.276,
          1.609,
          1.333,
          1.499,
          1.373,
          1.356,
          1.433,
          1.269,
          1.3,
          1.07,
          1.324,
          1.368,
          1.159,
          0.8,
          1.403,
          1.684,
          1.286,
          1.149,
          1.004,
          1.124,
          1.572,
          0.794,
          1.294,
          1.362,
          1.246,
          1.231,
          1.206,
          0.745,
          1.238,
          0.985,
          1.258,
          0.694,
          0.882,
          1.092,
          1.162,
          1.263,
          0.912,
          1.5,
          1.05,
          1.187,
          1.301,
          1.237,
          0.831,
          1.12,
          1.327,
          0.642,
          1.173,
          0.776,
          1.201,
          0.855,
          1.263,
          0.96,
          1.221,
          0.677,
          1.183,
          0.807,
          1.004,
          0.685,
          1.044,
          1.051,
          0.493,
          1.155,
          1.438,
          1.015,
          0.945,
          1.183,
          1.221,
          1.067,
          1.181,
          0.948,
          0.983,
          0.696,
          0.551,
          1.052,
          1.002,
          0.801,
          1.043,
          0.987,
          0.931,
          1.029,
          0.741,
          0.813,
          0.549,
          1.092,
          0.611,
          0.569,
          0.446,
          0.837,
          0.393,
          0.673,
          1.057,
          0.96,
          0.947,
          0.96,
          0.574,
          0.657,
          0.45,
          0,
          0.879,
          0.138,
          0.331,
          0.85,
          1.1,
          0.38,
          0.886,
          0.512,
          0.57,
          0.204,
          0.921,
          0.562,
          1.043,
          0.094,
          0.385,
          0.268,
          0.949,
          0.71,
          0.35,
          0.82,
          0.336,
          0.332,
          0.913,
          0.578,
          0.275,
          0.755,
          0.073,
          0.274,
          0.489,
          0.046,
          0.366,
          0.323,
          1.041,
          0.619,
          0.191,
          0.287,
          0.359,
          0.476,
          0.35,
          0.026,
          0.306
         ],
         "z": [
          2,
          2,
          2,
          2,
          2,
          2,
          2,
          2,
          2,
          2,
          2,
          2,
          2,
          2,
          2,
          2,
          2,
          2,
          2,
          2,
          2,
          2,
          2,
          2,
          2,
          0,
          2,
          2,
          0,
          0,
          0,
          0,
          0,
          0,
          0,
          0,
          0,
          0,
          0,
          0,
          0,
          0,
          0,
          0,
          0,
          0,
          0,
          0,
          0,
          0,
          0,
          0,
          0,
          0,
          0,
          0,
          0,
          0,
          0,
          0,
          0,
          0,
          0,
          0,
          0,
          0,
          0,
          0,
          0,
          0,
          0,
          0,
          0,
          0,
          0,
          0,
          0,
          0,
          0,
          0,
          0,
          0,
          0,
          0,
          0,
          0,
          0,
          0,
          0,
          0,
          0,
          0,
          0,
          0,
          1,
          0,
          1,
          1,
          1,
          1,
          1,
          1,
          1,
          1,
          1,
          1,
          1,
          1,
          1,
          1,
          1,
          1,
          1,
          1,
          1,
          1,
          1,
          1,
          1,
          1,
          1,
          1,
          1,
          1,
          1,
          1,
          1,
          1,
          1,
          1,
          1,
          1,
          1,
          1,
          1,
          1,
          1,
          1,
          1,
          1,
          1,
          1,
          1,
          1,
          1,
          1,
          1,
          1,
          1,
          1,
          1
         ]
        }
       ],
       "layout": {
        "autosize": true,
        "coloraxis": {
         "colorbar": {
          "title": {
           "text": "Cluster"
          }
         },
         "colorscale": [
          [
           0,
           "#0d0887"
          ],
          [
           0.1111111111111111,
           "#46039f"
          ],
          [
           0.2222222222222222,
           "#7201a8"
          ],
          [
           0.3333333333333333,
           "#9c179e"
          ],
          [
           0.4444444444444444,
           "#bd3786"
          ],
          [
           0.5555555555555556,
           "#d8576b"
          ],
          [
           0.6666666666666666,
           "#ed7953"
          ],
          [
           0.7777777777777778,
           "#fb9f3a"
          ],
          [
           0.8888888888888888,
           "#fdca26"
          ],
          [
           1,
           "#f0f921"
          ]
         ]
        },
        "legend": {
         "tracegroupgap": 0
        },
        "scene": {
         "aspectmode": "auto",
         "aspectratio": {
          "x": 1.9287853047686103,
          "y": 0.6607149009825752,
          "z": 0.7846970320458138
         },
         "camera": {
          "center": {
           "x": 0,
           "y": 0,
           "z": 0
          },
          "eye": {
           "x": -0.007588000403382009,
           "y": -0.2930743409974516,
           "z": 2.423794814825907
          },
          "projection": {
           "type": "perspective"
          },
          "up": {
           "x": 0,
           "y": 0,
           "z": 1
          }
         },
         "domain": {
          "x": [
           0,
           1
          ],
          "y": [
           0,
           1
          ]
         },
         "xaxis": {
          "title": {
           "text": "Happiness Score"
          },
          "type": "linear"
         },
         "yaxis": {
          "title": {
           "text": "GDP per Capita"
          },
          "type": "linear"
         },
         "zaxis": {
          "title": {
           "text": "Cluster"
          },
          "type": "linear"
         }
        },
        "template": {
         "data": {
          "bar": [
           {
            "error_x": {
             "color": "#2a3f5f"
            },
            "error_y": {
             "color": "#2a3f5f"
            },
            "marker": {
             "line": {
              "color": "#E5ECF6",
              "width": 0.5
             },
             "pattern": {
              "fillmode": "overlay",
              "size": 10,
              "solidity": 0.2
             }
            },
            "type": "bar"
           }
          ],
          "barpolar": [
           {
            "marker": {
             "line": {
              "color": "#E5ECF6",
              "width": 0.5
             },
             "pattern": {
              "fillmode": "overlay",
              "size": 10,
              "solidity": 0.2
             }
            },
            "type": "barpolar"
           }
          ],
          "carpet": [
           {
            "aaxis": {
             "endlinecolor": "#2a3f5f",
             "gridcolor": "white",
             "linecolor": "white",
             "minorgridcolor": "white",
             "startlinecolor": "#2a3f5f"
            },
            "baxis": {
             "endlinecolor": "#2a3f5f",
             "gridcolor": "white",
             "linecolor": "white",
             "minorgridcolor": "white",
             "startlinecolor": "#2a3f5f"
            },
            "type": "carpet"
           }
          ],
          "choropleth": [
           {
            "colorbar": {
             "outlinewidth": 0,
             "ticks": ""
            },
            "type": "choropleth"
           }
          ],
          "contour": [
           {
            "colorbar": {
             "outlinewidth": 0,
             "ticks": ""
            },
            "colorscale": [
             [
              0,
              "#0d0887"
             ],
             [
              0.1111111111111111,
              "#46039f"
             ],
             [
              0.2222222222222222,
              "#7201a8"
             ],
             [
              0.3333333333333333,
              "#9c179e"
             ],
             [
              0.4444444444444444,
              "#bd3786"
             ],
             [
              0.5555555555555556,
              "#d8576b"
             ],
             [
              0.6666666666666666,
              "#ed7953"
             ],
             [
              0.7777777777777778,
              "#fb9f3a"
             ],
             [
              0.8888888888888888,
              "#fdca26"
             ],
             [
              1,
              "#f0f921"
             ]
            ],
            "type": "contour"
           }
          ],
          "contourcarpet": [
           {
            "colorbar": {
             "outlinewidth": 0,
             "ticks": ""
            },
            "type": "contourcarpet"
           }
          ],
          "heatmap": [
           {
            "colorbar": {
             "outlinewidth": 0,
             "ticks": ""
            },
            "colorscale": [
             [
              0,
              "#0d0887"
             ],
             [
              0.1111111111111111,
              "#46039f"
             ],
             [
              0.2222222222222222,
              "#7201a8"
             ],
             [
              0.3333333333333333,
              "#9c179e"
             ],
             [
              0.4444444444444444,
              "#bd3786"
             ],
             [
              0.5555555555555556,
              "#d8576b"
             ],
             [
              0.6666666666666666,
              "#ed7953"
             ],
             [
              0.7777777777777778,
              "#fb9f3a"
             ],
             [
              0.8888888888888888,
              "#fdca26"
             ],
             [
              1,
              "#f0f921"
             ]
            ],
            "type": "heatmap"
           }
          ],
          "heatmapgl": [
           {
            "colorbar": {
             "outlinewidth": 0,
             "ticks": ""
            },
            "colorscale": [
             [
              0,
              "#0d0887"
             ],
             [
              0.1111111111111111,
              "#46039f"
             ],
             [
              0.2222222222222222,
              "#7201a8"
             ],
             [
              0.3333333333333333,
              "#9c179e"
             ],
             [
              0.4444444444444444,
              "#bd3786"
             ],
             [
              0.5555555555555556,
              "#d8576b"
             ],
             [
              0.6666666666666666,
              "#ed7953"
             ],
             [
              0.7777777777777778,
              "#fb9f3a"
             ],
             [
              0.8888888888888888,
              "#fdca26"
             ],
             [
              1,
              "#f0f921"
             ]
            ],
            "type": "heatmapgl"
           }
          ],
          "histogram": [
           {
            "marker": {
             "pattern": {
              "fillmode": "overlay",
              "size": 10,
              "solidity": 0.2
             }
            },
            "type": "histogram"
           }
          ],
          "histogram2d": [
           {
            "colorbar": {
             "outlinewidth": 0,
             "ticks": ""
            },
            "colorscale": [
             [
              0,
              "#0d0887"
             ],
             [
              0.1111111111111111,
              "#46039f"
             ],
             [
              0.2222222222222222,
              "#7201a8"
             ],
             [
              0.3333333333333333,
              "#9c179e"
             ],
             [
              0.4444444444444444,
              "#bd3786"
             ],
             [
              0.5555555555555556,
              "#d8576b"
             ],
             [
              0.6666666666666666,
              "#ed7953"
             ],
             [
              0.7777777777777778,
              "#fb9f3a"
             ],
             [
              0.8888888888888888,
              "#fdca26"
             ],
             [
              1,
              "#f0f921"
             ]
            ],
            "type": "histogram2d"
           }
          ],
          "histogram2dcontour": [
           {
            "colorbar": {
             "outlinewidth": 0,
             "ticks": ""
            },
            "colorscale": [
             [
              0,
              "#0d0887"
             ],
             [
              0.1111111111111111,
              "#46039f"
             ],
             [
              0.2222222222222222,
              "#7201a8"
             ],
             [
              0.3333333333333333,
              "#9c179e"
             ],
             [
              0.4444444444444444,
              "#bd3786"
             ],
             [
              0.5555555555555556,
              "#d8576b"
             ],
             [
              0.6666666666666666,
              "#ed7953"
             ],
             [
              0.7777777777777778,
              "#fb9f3a"
             ],
             [
              0.8888888888888888,
              "#fdca26"
             ],
             [
              1,
              "#f0f921"
             ]
            ],
            "type": "histogram2dcontour"
           }
          ],
          "mesh3d": [
           {
            "colorbar": {
             "outlinewidth": 0,
             "ticks": ""
            },
            "type": "mesh3d"
           }
          ],
          "parcoords": [
           {
            "line": {
             "colorbar": {
              "outlinewidth": 0,
              "ticks": ""
             }
            },
            "type": "parcoords"
           }
          ],
          "pie": [
           {
            "automargin": true,
            "type": "pie"
           }
          ],
          "scatter": [
           {
            "fillpattern": {
             "fillmode": "overlay",
             "size": 10,
             "solidity": 0.2
            },
            "type": "scatter"
           }
          ],
          "scatter3d": [
           {
            "line": {
             "colorbar": {
              "outlinewidth": 0,
              "ticks": ""
             }
            },
            "marker": {
             "colorbar": {
              "outlinewidth": 0,
              "ticks": ""
             }
            },
            "type": "scatter3d"
           }
          ],
          "scattercarpet": [
           {
            "marker": {
             "colorbar": {
              "outlinewidth": 0,
              "ticks": ""
             }
            },
            "type": "scattercarpet"
           }
          ],
          "scattergeo": [
           {
            "marker": {
             "colorbar": {
              "outlinewidth": 0,
              "ticks": ""
             }
            },
            "type": "scattergeo"
           }
          ],
          "scattergl": [
           {
            "marker": {
             "colorbar": {
              "outlinewidth": 0,
              "ticks": ""
             }
            },
            "type": "scattergl"
           }
          ],
          "scattermapbox": [
           {
            "marker": {
             "colorbar": {
              "outlinewidth": 0,
              "ticks": ""
             }
            },
            "type": "scattermapbox"
           }
          ],
          "scatterpolar": [
           {
            "marker": {
             "colorbar": {
              "outlinewidth": 0,
              "ticks": ""
             }
            },
            "type": "scatterpolar"
           }
          ],
          "scatterpolargl": [
           {
            "marker": {
             "colorbar": {
              "outlinewidth": 0,
              "ticks": ""
             }
            },
            "type": "scatterpolargl"
           }
          ],
          "scatterternary": [
           {
            "marker": {
             "colorbar": {
              "outlinewidth": 0,
              "ticks": ""
             }
            },
            "type": "scatterternary"
           }
          ],
          "surface": [
           {
            "colorbar": {
             "outlinewidth": 0,
             "ticks": ""
            },
            "colorscale": [
             [
              0,
              "#0d0887"
             ],
             [
              0.1111111111111111,
              "#46039f"
             ],
             [
              0.2222222222222222,
              "#7201a8"
             ],
             [
              0.3333333333333333,
              "#9c179e"
             ],
             [
              0.4444444444444444,
              "#bd3786"
             ],
             [
              0.5555555555555556,
              "#d8576b"
             ],
             [
              0.6666666666666666,
              "#ed7953"
             ],
             [
              0.7777777777777778,
              "#fb9f3a"
             ],
             [
              0.8888888888888888,
              "#fdca26"
             ],
             [
              1,
              "#f0f921"
             ]
            ],
            "type": "surface"
           }
          ],
          "table": [
           {
            "cells": {
             "fill": {
              "color": "#EBF0F8"
             },
             "line": {
              "color": "white"
             }
            },
            "header": {
             "fill": {
              "color": "#C8D4E3"
             },
             "line": {
              "color": "white"
             }
            },
            "type": "table"
           }
          ]
         },
         "layout": {
          "annotationdefaults": {
           "arrowcolor": "#2a3f5f",
           "arrowhead": 0,
           "arrowwidth": 1
          },
          "autotypenumbers": "strict",
          "coloraxis": {
           "colorbar": {
            "outlinewidth": 0,
            "ticks": ""
           }
          },
          "colorscale": {
           "diverging": [
            [
             0,
             "#8e0152"
            ],
            [
             0.1,
             "#c51b7d"
            ],
            [
             0.2,
             "#de77ae"
            ],
            [
             0.3,
             "#f1b6da"
            ],
            [
             0.4,
             "#fde0ef"
            ],
            [
             0.5,
             "#f7f7f7"
            ],
            [
             0.6,
             "#e6f5d0"
            ],
            [
             0.7,
             "#b8e186"
            ],
            [
             0.8,
             "#7fbc41"
            ],
            [
             0.9,
             "#4d9221"
            ],
            [
             1,
             "#276419"
            ]
           ],
           "sequential": [
            [
             0,
             "#0d0887"
            ],
            [
             0.1111111111111111,
             "#46039f"
            ],
            [
             0.2222222222222222,
             "#7201a8"
            ],
            [
             0.3333333333333333,
             "#9c179e"
            ],
            [
             0.4444444444444444,
             "#bd3786"
            ],
            [
             0.5555555555555556,
             "#d8576b"
            ],
            [
             0.6666666666666666,
             "#ed7953"
            ],
            [
             0.7777777777777778,
             "#fb9f3a"
            ],
            [
             0.8888888888888888,
             "#fdca26"
            ],
            [
             1,
             "#f0f921"
            ]
           ],
           "sequentialminus": [
            [
             0,
             "#0d0887"
            ],
            [
             0.1111111111111111,
             "#46039f"
            ],
            [
             0.2222222222222222,
             "#7201a8"
            ],
            [
             0.3333333333333333,
             "#9c179e"
            ],
            [
             0.4444444444444444,
             "#bd3786"
            ],
            [
             0.5555555555555556,
             "#d8576b"
            ],
            [
             0.6666666666666666,
             "#ed7953"
            ],
            [
             0.7777777777777778,
             "#fb9f3a"
            ],
            [
             0.8888888888888888,
             "#fdca26"
            ],
            [
             1,
             "#f0f921"
            ]
           ]
          },
          "colorway": [
           "#636efa",
           "#EF553B",
           "#00cc96",
           "#ab63fa",
           "#FFA15A",
           "#19d3f3",
           "#FF6692",
           "#B6E880",
           "#FF97FF",
           "#FECB52"
          ],
          "font": {
           "color": "#2a3f5f"
          },
          "geo": {
           "bgcolor": "white",
           "lakecolor": "white",
           "landcolor": "#E5ECF6",
           "showlakes": true,
           "showland": true,
           "subunitcolor": "white"
          },
          "hoverlabel": {
           "align": "left"
          },
          "hovermode": "closest",
          "mapbox": {
           "style": "light"
          },
          "paper_bgcolor": "white",
          "plot_bgcolor": "#E5ECF6",
          "polar": {
           "angularaxis": {
            "gridcolor": "white",
            "linecolor": "white",
            "ticks": ""
           },
           "bgcolor": "#E5ECF6",
           "radialaxis": {
            "gridcolor": "white",
            "linecolor": "white",
            "ticks": ""
           }
          },
          "scene": {
           "xaxis": {
            "backgroundcolor": "#E5ECF6",
            "gridcolor": "white",
            "gridwidth": 2,
            "linecolor": "white",
            "showbackground": true,
            "ticks": "",
            "zerolinecolor": "white"
           },
           "yaxis": {
            "backgroundcolor": "#E5ECF6",
            "gridcolor": "white",
            "gridwidth": 2,
            "linecolor": "white",
            "showbackground": true,
            "ticks": "",
            "zerolinecolor": "white"
           },
           "zaxis": {
            "backgroundcolor": "#E5ECF6",
            "gridcolor": "white",
            "gridwidth": 2,
            "linecolor": "white",
            "showbackground": true,
            "ticks": "",
            "zerolinecolor": "white"
           }
          },
          "shapedefaults": {
           "line": {
            "color": "#2a3f5f"
           }
          },
          "ternary": {
           "aaxis": {
            "gridcolor": "white",
            "linecolor": "white",
            "ticks": ""
           },
           "baxis": {
            "gridcolor": "white",
            "linecolor": "white",
            "ticks": ""
           },
           "bgcolor": "#E5ECF6",
           "caxis": {
            "gridcolor": "white",
            "linecolor": "white",
            "ticks": ""
           }
          },
          "title": {
           "x": 0.05
          },
          "xaxis": {
           "automargin": true,
           "gridcolor": "white",
           "linecolor": "white",
           "ticks": "",
           "title": {
            "standoff": 15
           },
           "zerolinecolor": "white",
           "zerolinewidth": 2
          },
          "yaxis": {
           "automargin": true,
           "gridcolor": "white",
           "linecolor": "white",
           "ticks": "",
           "title": {
            "standoff": 15
           },
           "zerolinecolor": "white",
           "zerolinewidth": 2
          }
         }
        },
        "title": {
         "text": "K-means Clustering - Year 2019"
        }
       }
      },
      "text/html": [
       "<div>                            <div id=\"7c3765a0-b34f-4408-9df9-11cc1fff61bf\" class=\"plotly-graph-div\" style=\"height:525px; width:100%;\"></div>            <script type=\"text/javascript\">                require([\"plotly\"], function(Plotly) {                    window.PLOTLYENV=window.PLOTLYENV || {};                                    if (document.getElementById(\"7c3765a0-b34f-4408-9df9-11cc1fff61bf\")) {                    Plotly.newPlot(                        \"7c3765a0-b34f-4408-9df9-11cc1fff61bf\",                        [{\"customdata\":[[\"Finland\"],[\"Denmark\"],[\"Norway\"],[\"Iceland\"],[\"Netherlands\"],[\"Switzerland\"],[\"Sweden\"],[\"New Zealand\"],[\"Canada\"],[\"Austria\"],[\"Australia\"],[\"Costa Rica\"],[\"Israel\"],[\"Luxembourg\"],[\"United Kingdom\"],[\"Ireland\"],[\"Germany\"],[\"Belgium\"],[\"United States\"],[\"Czech Republic\"],[\"Malta\"],[\"Mexico\"],[\"France\"],[\"Taiwan\"],[\"Chile\"],[\"Guatemala\"],[\"Saudi Arabia\"],[\"Qatar\"],[\"Spain\"],[\"Panama\"],[\"Brazil\"],[\"Uruguay\"],[\"Singapore\"],[\"El Salvador\"],[\"Italy\"],[\"Bahrain\"],[\"Slovakia\"],[\"Trinidad and Tobago\"],[\"Poland\"],[\"Uzbekistan\"],[\"Lithuania\"],[\"Colombia\"],[\"Slovenia\"],[\"Nicaragua\"],[\"Kosovo\"],[\"Argentina\"],[\"Romania\"],[\"Cyprus\"],[\"Ecuador\"],[\"Kuwait\"],[\"Thailand\"],[\"Latvia\"],[\"South Korea\"],[\"Estonia\"],[\"Jamaica\"],[\"Mauritius\"],[\"Japan\"],[\"Honduras\"],[\"Kazakhstan\"],[\"Bolivia\"],[\"Hungary\"],[\"Paraguay\"],[\"Northern Cyprus\"],[\"Peru\"],[\"Portugal\"],[\"Pakistan\"],[\"Russia\"],[\"Philippines\"],[\"Serbia\"],[\"Moldova\"],[\"Libya\"],[\"Montenegro\"],[\"Tajikistan\"],[\"Croatia\"],[\"Hong Kong\"],[\"Dominican Republic\"],[\"Bosnia and Herzegovina\"],[\"Turkey\"],[\"Malaysia\"],[\"Belarus\"],[\"Greece\"],[\"Mongolia\"],[\"North Macedonia\"],[\"Nigeria\"],[\"Kyrgyzstan\"],[\"Turkmenistan\"],[\"Algeria\"],[\"Morocco\"],[\"Azerbaijan\"],[\"Lebanon\"],[\"Indonesia\"],[\"China\"],[\"Vietnam\"],[\"Bhutan\"],[\"Cameroon\"],[\"Bulgaria\"],[\"Ghana\"],[\"Ivory Coast\"],[\"Nepal\"],[\"Jordan\"],[\"Benin\"],[\"Congo (Brazzaville)\"],[\"Gabon\"],[\"South Africa\"],[\"Albania\"],[\"Venezuela\"],[\"Cambodia\"],[\"Palestinian Territories\"],[\"Senegal\"],[\"Somalia\"],[\"Namibia\"],[\"Niger\"],[\"Burkina Faso\"],[\"Armenia\"],[\"Iran\"],[\"Guinea\"],[\"Georgia\"],[\"Kenya\"],[\"Mauritania\"],[\"Mozambique\"],[\"Tunisia\"],[\"Bangladesh\"],[\"Iraq\"],[\"Congo (Kinshasa)\"],[\"Mali\"],[\"Sierra Leone\"],[\"Sri Lanka\"],[\"Myanmar\"],[\"Chad\"],[\"Ukraine\"],[\"Ethiopia\"],[\"Uganda\"],[\"Egypt\"],[\"Zambia\"],[\"Togo\"],[\"India\"],[\"Liberia\"],[\"Madagascar\"],[\"Lesotho\"],[\"Burundi\"],[\"Zimbabwe\"],[\"Haiti\"],[\"Botswana\"],[\"Syria\"],[\"Malawi\"],[\"Yemen\"],[\"Rwanda\"],[\"Tanzania\"],[\"Afghanistan\"],[\"Central African Republic\"],[\"South Sudan\"]],\"hovertemplate\":\"Happiness Score=%{x}\\u003cbr\\u003eGDP per Capita=%{y}\\u003cbr\\u003eCluster=%{marker.color}\\u003cbr\\u003eCountry=%{customdata[0]}\\u003cextra\\u003e\\u003c\\u002fextra\\u003e\",\"legendgroup\":\"\",\"marker\":{\"color\":[2,2,2,2,2,2,2,2,2,2,2,2,2,2,2,2,2,2,2,2,2,2,2,2,2,0,2,2,0,0,0,0,0,0,0,0,0,0,0,0,0,0,0,0,0,0,0,0,0,0,0,0,0,0,0,0,0,0,0,0,0,0,0,0,0,0,0,0,0,0,0,0,0,0,0,0,0,0,0,0,0,0,0,0,0,0,0,0,0,0,0,0,0,0,1,0,1,1,1,1,1,1,1,1,1,1,1,1,1,1,1,1,1,1,1,1,1,1,1,1,1,1,1,1,1,1,1,1,1,1,1,1,1,1,1,1,1,1,1,1,1,1,1,1,1,1,1,1,1,1,1],\"coloraxis\":\"coloraxis\",\"opacity\":0.7,\"symbol\":\"circle\"},\"mode\":\"markers\",\"name\":\"\",\"scene\":\"scene\",\"showlegend\":false,\"x\":[7.769,7.6,7.554,7.494,7.488,7.48,7.343,7.307,7.278,7.246,7.228,7.167,7.139,7.09,7.054,7.021,6.985,6.923,6.892,6.852,6.726,6.595,6.592,6.446,6.444,6.436,6.375,6.374,6.354,6.321,6.3,6.293,6.262,6.253,6.223,6.199,6.198,6.192,6.182,6.174,6.149,6.125,6.118,6.105,6.1,6.086,6.07,6.046,6.028,6.021,6.008,5.94,5.895,5.893,5.89,5.888,5.886,5.86,5.809,5.779,5.758,5.743,5.718,5.697,5.693,5.653,5.648,5.631,5.603,5.529,5.525,5.523,5.467,5.432,5.43,5.425,5.386,5.373,5.339,5.323,5.287,5.285,5.274,5.265,5.261,5.247,5.211,5.208,5.208,5.197,5.192,5.191,5.175,5.082,5.044,5.011,4.996,4.944,4.913,4.906,4.883,4.812,4.799,4.722,4.719,4.707,4.7,4.696,4.681,4.668,4.639,4.628,4.587,4.559,4.548,4.534,4.519,4.509,4.49,4.466,4.461,4.456,4.437,4.418,4.39,4.374,4.366,4.36,4.35,4.332,4.286,4.189,4.166,4.107,4.085,4.015,3.975,3.933,3.802,3.775,3.663,3.597,3.488,3.462,3.41,3.38,3.334,3.231,3.203,3.083,2.853],\"y\":[1.34,1.383,1.488,1.38,1.396,1.452,1.387,1.303,1.365,1.376,1.372,1.034,1.276,1.609,1.333,1.499,1.373,1.356,1.433,1.269,1.3,1.07,1.324,1.368,1.159,0.8,1.403,1.684,1.286,1.149,1.004,1.124,1.572,0.794,1.294,1.362,1.246,1.231,1.206,0.745,1.238,0.985,1.258,0.694,0.882,1.092,1.162,1.263,0.912,1.5,1.05,1.187,1.301,1.237,0.831,1.12,1.327,0.642,1.173,0.776,1.201,0.855,1.263,0.96,1.221,0.677,1.183,0.807,1.004,0.685,1.044,1.051,0.493,1.155,1.438,1.015,0.945,1.183,1.221,1.067,1.181,0.948,0.983,0.696,0.551,1.052,1.002,0.801,1.043,0.987,0.931,1.029,0.741,0.813,0.549,1.092,0.611,0.569,0.446,0.837,0.393,0.673,1.057,0.96,0.947,0.96,0.574,0.657,0.45,0.0,0.879,0.138,0.331,0.85,1.1,0.38,0.886,0.512,0.57,0.204,0.921,0.562,1.043,0.094,0.385,0.268,0.949,0.71,0.35,0.82,0.336,0.332,0.913,0.578,0.275,0.755,0.073,0.274,0.489,0.046,0.366,0.323,1.041,0.619,0.191,0.287,0.359,0.476,0.35,0.026,0.306],\"z\":[2,2,2,2,2,2,2,2,2,2,2,2,2,2,2,2,2,2,2,2,2,2,2,2,2,0,2,2,0,0,0,0,0,0,0,0,0,0,0,0,0,0,0,0,0,0,0,0,0,0,0,0,0,0,0,0,0,0,0,0,0,0,0,0,0,0,0,0,0,0,0,0,0,0,0,0,0,0,0,0,0,0,0,0,0,0,0,0,0,0,0,0,0,0,1,0,1,1,1,1,1,1,1,1,1,1,1,1,1,1,1,1,1,1,1,1,1,1,1,1,1,1,1,1,1,1,1,1,1,1,1,1,1,1,1,1,1,1,1,1,1,1,1,1,1,1,1,1,1,1,1],\"type\":\"scatter3d\"}],                        {\"template\":{\"data\":{\"histogram2dcontour\":[{\"type\":\"histogram2dcontour\",\"colorbar\":{\"outlinewidth\":0,\"ticks\":\"\"},\"colorscale\":[[0.0,\"#0d0887\"],[0.1111111111111111,\"#46039f\"],[0.2222222222222222,\"#7201a8\"],[0.3333333333333333,\"#9c179e\"],[0.4444444444444444,\"#bd3786\"],[0.5555555555555556,\"#d8576b\"],[0.6666666666666666,\"#ed7953\"],[0.7777777777777778,\"#fb9f3a\"],[0.8888888888888888,\"#fdca26\"],[1.0,\"#f0f921\"]]}],\"choropleth\":[{\"type\":\"choropleth\",\"colorbar\":{\"outlinewidth\":0,\"ticks\":\"\"}}],\"histogram2d\":[{\"type\":\"histogram2d\",\"colorbar\":{\"outlinewidth\":0,\"ticks\":\"\"},\"colorscale\":[[0.0,\"#0d0887\"],[0.1111111111111111,\"#46039f\"],[0.2222222222222222,\"#7201a8\"],[0.3333333333333333,\"#9c179e\"],[0.4444444444444444,\"#bd3786\"],[0.5555555555555556,\"#d8576b\"],[0.6666666666666666,\"#ed7953\"],[0.7777777777777778,\"#fb9f3a\"],[0.8888888888888888,\"#fdca26\"],[1.0,\"#f0f921\"]]}],\"heatmap\":[{\"type\":\"heatmap\",\"colorbar\":{\"outlinewidth\":0,\"ticks\":\"\"},\"colorscale\":[[0.0,\"#0d0887\"],[0.1111111111111111,\"#46039f\"],[0.2222222222222222,\"#7201a8\"],[0.3333333333333333,\"#9c179e\"],[0.4444444444444444,\"#bd3786\"],[0.5555555555555556,\"#d8576b\"],[0.6666666666666666,\"#ed7953\"],[0.7777777777777778,\"#fb9f3a\"],[0.8888888888888888,\"#fdca26\"],[1.0,\"#f0f921\"]]}],\"heatmapgl\":[{\"type\":\"heatmapgl\",\"colorbar\":{\"outlinewidth\":0,\"ticks\":\"\"},\"colorscale\":[[0.0,\"#0d0887\"],[0.1111111111111111,\"#46039f\"],[0.2222222222222222,\"#7201a8\"],[0.3333333333333333,\"#9c179e\"],[0.4444444444444444,\"#bd3786\"],[0.5555555555555556,\"#d8576b\"],[0.6666666666666666,\"#ed7953\"],[0.7777777777777778,\"#fb9f3a\"],[0.8888888888888888,\"#fdca26\"],[1.0,\"#f0f921\"]]}],\"contourcarpet\":[{\"type\":\"contourcarpet\",\"colorbar\":{\"outlinewidth\":0,\"ticks\":\"\"}}],\"contour\":[{\"type\":\"contour\",\"colorbar\":{\"outlinewidth\":0,\"ticks\":\"\"},\"colorscale\":[[0.0,\"#0d0887\"],[0.1111111111111111,\"#46039f\"],[0.2222222222222222,\"#7201a8\"],[0.3333333333333333,\"#9c179e\"],[0.4444444444444444,\"#bd3786\"],[0.5555555555555556,\"#d8576b\"],[0.6666666666666666,\"#ed7953\"],[0.7777777777777778,\"#fb9f3a\"],[0.8888888888888888,\"#fdca26\"],[1.0,\"#f0f921\"]]}],\"surface\":[{\"type\":\"surface\",\"colorbar\":{\"outlinewidth\":0,\"ticks\":\"\"},\"colorscale\":[[0.0,\"#0d0887\"],[0.1111111111111111,\"#46039f\"],[0.2222222222222222,\"#7201a8\"],[0.3333333333333333,\"#9c179e\"],[0.4444444444444444,\"#bd3786\"],[0.5555555555555556,\"#d8576b\"],[0.6666666666666666,\"#ed7953\"],[0.7777777777777778,\"#fb9f3a\"],[0.8888888888888888,\"#fdca26\"],[1.0,\"#f0f921\"]]}],\"mesh3d\":[{\"type\":\"mesh3d\",\"colorbar\":{\"outlinewidth\":0,\"ticks\":\"\"}}],\"scatter\":[{\"fillpattern\":{\"fillmode\":\"overlay\",\"size\":10,\"solidity\":0.2},\"type\":\"scatter\"}],\"parcoords\":[{\"type\":\"parcoords\",\"line\":{\"colorbar\":{\"outlinewidth\":0,\"ticks\":\"\"}}}],\"scatterpolargl\":[{\"type\":\"scatterpolargl\",\"marker\":{\"colorbar\":{\"outlinewidth\":0,\"ticks\":\"\"}}}],\"bar\":[{\"error_x\":{\"color\":\"#2a3f5f\"},\"error_y\":{\"color\":\"#2a3f5f\"},\"marker\":{\"line\":{\"color\":\"#E5ECF6\",\"width\":0.5},\"pattern\":{\"fillmode\":\"overlay\",\"size\":10,\"solidity\":0.2}},\"type\":\"bar\"}],\"scattergeo\":[{\"type\":\"scattergeo\",\"marker\":{\"colorbar\":{\"outlinewidth\":0,\"ticks\":\"\"}}}],\"scatterpolar\":[{\"type\":\"scatterpolar\",\"marker\":{\"colorbar\":{\"outlinewidth\":0,\"ticks\":\"\"}}}],\"histogram\":[{\"marker\":{\"pattern\":{\"fillmode\":\"overlay\",\"size\":10,\"solidity\":0.2}},\"type\":\"histogram\"}],\"scattergl\":[{\"type\":\"scattergl\",\"marker\":{\"colorbar\":{\"outlinewidth\":0,\"ticks\":\"\"}}}],\"scatter3d\":[{\"type\":\"scatter3d\",\"line\":{\"colorbar\":{\"outlinewidth\":0,\"ticks\":\"\"}},\"marker\":{\"colorbar\":{\"outlinewidth\":0,\"ticks\":\"\"}}}],\"scattermapbox\":[{\"type\":\"scattermapbox\",\"marker\":{\"colorbar\":{\"outlinewidth\":0,\"ticks\":\"\"}}}],\"scatterternary\":[{\"type\":\"scatterternary\",\"marker\":{\"colorbar\":{\"outlinewidth\":0,\"ticks\":\"\"}}}],\"scattercarpet\":[{\"type\":\"scattercarpet\",\"marker\":{\"colorbar\":{\"outlinewidth\":0,\"ticks\":\"\"}}}],\"carpet\":[{\"aaxis\":{\"endlinecolor\":\"#2a3f5f\",\"gridcolor\":\"white\",\"linecolor\":\"white\",\"minorgridcolor\":\"white\",\"startlinecolor\":\"#2a3f5f\"},\"baxis\":{\"endlinecolor\":\"#2a3f5f\",\"gridcolor\":\"white\",\"linecolor\":\"white\",\"minorgridcolor\":\"white\",\"startlinecolor\":\"#2a3f5f\"},\"type\":\"carpet\"}],\"table\":[{\"cells\":{\"fill\":{\"color\":\"#EBF0F8\"},\"line\":{\"color\":\"white\"}},\"header\":{\"fill\":{\"color\":\"#C8D4E3\"},\"line\":{\"color\":\"white\"}},\"type\":\"table\"}],\"barpolar\":[{\"marker\":{\"line\":{\"color\":\"#E5ECF6\",\"width\":0.5},\"pattern\":{\"fillmode\":\"overlay\",\"size\":10,\"solidity\":0.2}},\"type\":\"barpolar\"}],\"pie\":[{\"automargin\":true,\"type\":\"pie\"}]},\"layout\":{\"autotypenumbers\":\"strict\",\"colorway\":[\"#636efa\",\"#EF553B\",\"#00cc96\",\"#ab63fa\",\"#FFA15A\",\"#19d3f3\",\"#FF6692\",\"#B6E880\",\"#FF97FF\",\"#FECB52\"],\"font\":{\"color\":\"#2a3f5f\"},\"hovermode\":\"closest\",\"hoverlabel\":{\"align\":\"left\"},\"paper_bgcolor\":\"white\",\"plot_bgcolor\":\"#E5ECF6\",\"polar\":{\"bgcolor\":\"#E5ECF6\",\"angularaxis\":{\"gridcolor\":\"white\",\"linecolor\":\"white\",\"ticks\":\"\"},\"radialaxis\":{\"gridcolor\":\"white\",\"linecolor\":\"white\",\"ticks\":\"\"}},\"ternary\":{\"bgcolor\":\"#E5ECF6\",\"aaxis\":{\"gridcolor\":\"white\",\"linecolor\":\"white\",\"ticks\":\"\"},\"baxis\":{\"gridcolor\":\"white\",\"linecolor\":\"white\",\"ticks\":\"\"},\"caxis\":{\"gridcolor\":\"white\",\"linecolor\":\"white\",\"ticks\":\"\"}},\"coloraxis\":{\"colorbar\":{\"outlinewidth\":0,\"ticks\":\"\"}},\"colorscale\":{\"sequential\":[[0.0,\"#0d0887\"],[0.1111111111111111,\"#46039f\"],[0.2222222222222222,\"#7201a8\"],[0.3333333333333333,\"#9c179e\"],[0.4444444444444444,\"#bd3786\"],[0.5555555555555556,\"#d8576b\"],[0.6666666666666666,\"#ed7953\"],[0.7777777777777778,\"#fb9f3a\"],[0.8888888888888888,\"#fdca26\"],[1.0,\"#f0f921\"]],\"sequentialminus\":[[0.0,\"#0d0887\"],[0.1111111111111111,\"#46039f\"],[0.2222222222222222,\"#7201a8\"],[0.3333333333333333,\"#9c179e\"],[0.4444444444444444,\"#bd3786\"],[0.5555555555555556,\"#d8576b\"],[0.6666666666666666,\"#ed7953\"],[0.7777777777777778,\"#fb9f3a\"],[0.8888888888888888,\"#fdca26\"],[1.0,\"#f0f921\"]],\"diverging\":[[0,\"#8e0152\"],[0.1,\"#c51b7d\"],[0.2,\"#de77ae\"],[0.3,\"#f1b6da\"],[0.4,\"#fde0ef\"],[0.5,\"#f7f7f7\"],[0.6,\"#e6f5d0\"],[0.7,\"#b8e186\"],[0.8,\"#7fbc41\"],[0.9,\"#4d9221\"],[1,\"#276419\"]]},\"xaxis\":{\"gridcolor\":\"white\",\"linecolor\":\"white\",\"ticks\":\"\",\"title\":{\"standoff\":15},\"zerolinecolor\":\"white\",\"automargin\":true,\"zerolinewidth\":2},\"yaxis\":{\"gridcolor\":\"white\",\"linecolor\":\"white\",\"ticks\":\"\",\"title\":{\"standoff\":15},\"zerolinecolor\":\"white\",\"automargin\":true,\"zerolinewidth\":2},\"scene\":{\"xaxis\":{\"backgroundcolor\":\"#E5ECF6\",\"gridcolor\":\"white\",\"linecolor\":\"white\",\"showbackground\":true,\"ticks\":\"\",\"zerolinecolor\":\"white\",\"gridwidth\":2},\"yaxis\":{\"backgroundcolor\":\"#E5ECF6\",\"gridcolor\":\"white\",\"linecolor\":\"white\",\"showbackground\":true,\"ticks\":\"\",\"zerolinecolor\":\"white\",\"gridwidth\":2},\"zaxis\":{\"backgroundcolor\":\"#E5ECF6\",\"gridcolor\":\"white\",\"linecolor\":\"white\",\"showbackground\":true,\"ticks\":\"\",\"zerolinecolor\":\"white\",\"gridwidth\":2}},\"shapedefaults\":{\"line\":{\"color\":\"#2a3f5f\"}},\"annotationdefaults\":{\"arrowcolor\":\"#2a3f5f\",\"arrowhead\":0,\"arrowwidth\":1},\"geo\":{\"bgcolor\":\"white\",\"landcolor\":\"#E5ECF6\",\"subunitcolor\":\"white\",\"showland\":true,\"showlakes\":true,\"lakecolor\":\"white\"},\"title\":{\"x\":0.05},\"mapbox\":{\"style\":\"light\"}}},\"scene\":{\"domain\":{\"x\":[0.0,1.0],\"y\":[0.0,1.0]},\"xaxis\":{\"title\":{\"text\":\"Happiness Score\"}},\"yaxis\":{\"title\":{\"text\":\"GDP per Capita\"}},\"zaxis\":{\"title\":{\"text\":\"Cluster\"}}},\"coloraxis\":{\"colorbar\":{\"title\":{\"text\":\"Cluster\"}},\"colorscale\":[[0.0,\"#0d0887\"],[0.1111111111111111,\"#46039f\"],[0.2222222222222222,\"#7201a8\"],[0.3333333333333333,\"#9c179e\"],[0.4444444444444444,\"#bd3786\"],[0.5555555555555556,\"#d8576b\"],[0.6666666666666666,\"#ed7953\"],[0.7777777777777778,\"#fb9f3a\"],[0.8888888888888888,\"#fdca26\"],[1.0,\"#f0f921\"]]},\"legend\":{\"tracegroupgap\":0},\"title\":{\"text\":\"K-means Clustering - Year 2019\"}},                        {\"responsive\": true}                    ).then(function(){\n",
       "                            \n",
       "var gd = document.getElementById('7c3765a0-b34f-4408-9df9-11cc1fff61bf');\n",
       "var x = new MutationObserver(function (mutations, observer) {{\n",
       "        var display = window.getComputedStyle(gd).display;\n",
       "        if (!display || display === 'none') {{\n",
       "            console.log([gd, 'removed!']);\n",
       "            Plotly.purge(gd);\n",
       "            observer.disconnect();\n",
       "        }}\n",
       "}});\n",
       "\n",
       "// Listen for the removal of the full notebook cells\n",
       "var notebookContainer = gd.closest('#notebook-container');\n",
       "if (notebookContainer) {{\n",
       "    x.observe(notebookContainer, {childList: true});\n",
       "}}\n",
       "\n",
       "// Listen for the clearing of the current output cell\n",
       "var outputEl = gd.closest('.output');\n",
       "if (outputEl) {{\n",
       "    x.observe(outputEl, {childList: true});\n",
       "}}\n",
       "\n",
       "                        })                };                });            </script>        </div>"
      ]
     },
     "metadata": {},
     "output_type": "display_data"
    }
   ],
   "source": [
    "# Plot for 2019\n",
    "kmeans_and_visualization(happiness19_df, 2019)"
   ]
  },
  {
   "cell_type": "markdown",
   "id": "153d4985-72c3-4da6-a487-8c6764665184",
   "metadata": {},
   "source": [
    "The scatter plot presented above categorizes countries into three distinct groups, identified as 0, 1, and 2, for the year **2019**. **Cluster 2** is distinguished by countries with **high levels of GDP per Capita and Happiness Scores**, signifying robust economic health and elevated well-being. This group includes nations such as Finland, Norway, and Denmark.\n",
    "\n",
    "In contrast, **Cluster 0** is composed of countries with **average values** for both indicators. This implies that nations like Malaysia, Japan, and Greece exhibit average levels of well-being and economic strength relative to other clusters.\n",
    "\n",
    "Lastly, **Cluster 1** is made up of countries with **lower values** for both Happiness Scores and GDP per Capita. Countries in this group, including Rwanda, Yemen, and Central African Republic, are likely coping with issues related to economic vitality and overall well-being.\n",
    "\n",
    "---"
   ]
  }
 ],
 "metadata": {
  "kernelspec": {
   "display_name": "Python 3 (ipykernel)",
   "language": "python",
   "name": "python3"
  },
  "language_info": {
   "codemirror_mode": {
    "name": "ipython",
    "version": 3
   },
   "file_extension": ".py",
   "mimetype": "text/x-python",
   "name": "python",
   "nbconvert_exporter": "python",
   "pygments_lexer": "ipython3",
   "version": "3.10.13"
  }
 },
 "nbformat": 4,
 "nbformat_minor": 5
}
